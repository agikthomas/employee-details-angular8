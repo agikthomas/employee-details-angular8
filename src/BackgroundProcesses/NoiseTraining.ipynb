{
 "cells": [
  {
   "cell_type": "code",
   "execution_count": 1,
   "metadata": {},
   "outputs": [],
   "source": [
    "from sklearn.feature_extraction.text import CountVectorizer\n",
    "from sklearn.feature_extraction.text import TfidfTransformer\n",
    "from sklearn.feature_extraction.text import HashingVectorizer\n",
    "import pickle\n",
    "import mysql.connector"
   ]
  },
  {
   "cell_type": "code",
   "execution_count": 2,
   "metadata": {},
   "outputs": [],
   "source": []
  },
  {
   "cell_type": "code",
   "execution_count": 3,
   "metadata": {},
   "outputs": [],
   "source": [
    "#update run_config set value='2020-01-11 04:41:59';\n",
    "#update new_anomalies set status = 'N', train_flag = 'N';"
   ]
  },
  {
   "cell_type": "code",
   "execution_count": 13,
   "metadata": {},
   "outputs": [
    {
     "data": {
      "text/plain": [
       "\"select stack, count from noise_data_summary where from_unixtime(unix_timestamp(insert_time,'yyyy/MM/dd hh:mm:ss')) > from_unixtime(unix_timestamp('2020/03/16 04:57:00','yyyy/MM/dd hh:mm:ss'))\""
      ]
     },
     "execution_count": 13,
     "metadata": {},
     "output_type": "execute_result"
    }
   ],
   "source": [
    "\n"
   ]
  },
  {
   "cell_type": "code",
   "execution_count": 14,
   "metadata": {},
   "outputs": [],
   "source": []
  },
  {
   "cell_type": "code",
   "execution_count": 18,
   "metadata": {},
   "outputs": [],
   "source": [
    "#mydb.close()\n",
    "mydb = mysql.connector.connect(\n",
    "    host=\"localhost\",\n",
    "    user=\"jenkins\",\n",
    "    passwd=\"ariba\",\n",
    "    database=\"ariba_logs\",\n",
    "    buffered=True\n",
    ")\n",
    "\n",
    "data = []\n",
    "\n",
    "\n"
   ]
  },
  {
   "cell_type": "code",
   "execution_count": 37,
   "metadata": {},
   "outputs": [],
   "source": [
    "def getCurrentTime(mydb):\n",
    "    timeSql = \"select date_format(now(),'%Y-%m-%d %H:%i:%S')\"\n",
    "    timeCursor = mydb.cursor()\n",
    "    timeCursor.execute(timeSql)\n",
    "    timeData = timeCursor.fetchone()\n",
    "    timeCursor.close()\n",
    "    currentTime = timeData[0]\n",
    "    return currentTime\n",
    "\n",
    "\n"
   ]
  },
  {
   "cell_type": "code",
   "execution_count": 38,
   "metadata": {},
   "outputs": [],
   "source": [
    "def getPrevRunTime(mydb):\n",
    "    timeSql = \"select value from run_config where name = 'MODEL_TRAIN_LAST_RUN'\"\n",
    "    timeCursor = mydb.cursor()\n",
    "    timeCursor.execute(timeSql)\n",
    "    timeData = timeCursor.fetchone()\n",
    "    prevRunTime = timeData[0]\n",
    "    timeCursor.close()\n",
    "    return prevRunTime\n"
   ]
  },
  {
   "cell_type": "code",
   "execution_count": 39,
   "metadata": {},
   "outputs": [],
   "source": [
    "def getUnTrainedRecs(mydb, prevRunTime):\n",
    "    sqlData = []\n",
    "    trainCursor = mydb.cursor()\n",
    "    selectSql = \"SELECT  log_str FROM new_anomalies where status = 'N'and time <= STR_TO_DATE(%s,'%Y-%m-%d %H:%i:%S') order by id\"\n",
    "    whereValues = (prevRunTime,)\n",
    "    trainCursor.execute(selectSql,whereValues)\n",
    "    if trainCursor.rowcount > 0 :\n",
    "        sqlData = trainCursor.fetchall()\n",
    "    trainCursor.close()\n",
    "    data = list(map(lambda el: el[0], sqlData))\n",
    "    return data"
   ]
  },
  {
   "cell_type": "code",
   "execution_count": 40,
   "metadata": {},
   "outputs": [],
   "source": [
    "def updateRunConfigValues(mydb,currentTime):\n",
    "    updateConfigCursor = mydb.cursor()\n",
    "    updateSql = \"UPDATE run_config set value = %s where name = 'MODEL_TRAIN_LAST_RUN'\"\n",
    "    updateValues = (currentTime,)\n",
    "    updateConfigCursor.execute(updateSql,updateValues )\n",
    "    updateConfigCursor.close()\n",
    "    mydb.commit()"
   ]
  },
  {
   "cell_type": "code",
   "execution_count": 41,
   "metadata": {},
   "outputs": [],
   "source": [
    "def updateProcessedRecords(mydb, prevRunTime, currentTime):\n",
    "    updateAnomalyFlagsCursor = mydb.cursor()\n",
    "    updateFlagSql = \"update new_anomalies set train_flag = 'Y' where time >= STR_TO_DATE(%s,'%Y-%m-%d %H:%i:%S') and time <= STR_TO_DATE(%s,'%Y-%m-%d %H:%i:%S')\"\n",
    "    updateFlagValues = (prevRunTime, currentTime,)\n",
    "    updateAnomalyFlagsCursor.execute(updateFlagSql, updateFlagValues)\n",
    "    updateAnomalyFlagsCursor.close()\n",
    "    mydb.commit()\n"
   ]
  },
  {
   "cell_type": "code",
   "execution_count": 42,
   "metadata": {},
   "outputs": [],
   "source": [
    "Valid952HostnameRegex = \"[a-zA-Z0-9\\.]+\"\n",
    "vectorizer  = CountVectorizer(token_pattern=Valid952HostnameRegex)\n"
   ]
  },
  {
   "cell_type": "code",
   "execution_count": 43,
   "metadata": {},
   "outputs": [],
   "source": [
    "from sklearn.metrics.pairwise import cosine_similarity\n",
    "currentTime = getCurrentTime(mydb)\n",
    "prevRunTime = getPrevRunTime(mydb)\n"
   ]
  },
  {
   "cell_type": "code",
   "execution_count": 44,
   "metadata": {},
   "outputs": [],
   "source": [
    "data = getUnTrainedRecs(mydb, currentTime)\n",
    "tfidf_matrix = vectorizer.fit_transform(data)"
   ]
  },
  {
   "cell_type": "code",
   "execution_count": 45,
   "metadata": {},
   "outputs": [],
   "source": [
    "pickle.dump(vectorizer.vocabulary_,open(\"ExceptionDB.pkl\",\"wb\"))\n"
   ]
  },
  {
   "cell_type": "code",
   "execution_count": 46,
   "metadata": {},
   "outputs": [],
   "source": [
    "import scipy.sparse\n",
    "scipy.sparse.save_npz('./ExceptionSparse.npz',tfidf_matrix)"
   ]
  },
  {
   "cell_type": "code",
   "execution_count": 47,
   "metadata": {},
   "outputs": [],
   "source": [
    "updateRunConfigValues(mydb,currentTime)\n",
    "#updateProcessedRecords(mydb, prevRunTime, currentTime)"
   ]
  },
  {
   "cell_type": "code",
   "execution_count": null,
   "metadata": {},
   "outputs": [],
   "source": []
  },
  {
   "cell_type": "code",
   "execution_count": null,
   "metadata": {},
   "outputs": [],
   "source": []
  },
  {
   "cell_type": "markdown",
   "metadata": {},
   "source": [
    "# Section of Code for Comparing inbox data with Model"
   ]
  },
  {
   "cell_type": "code",
   "execution_count": 22,
   "metadata": {},
   "outputs": [],
   "source": [
    "from sklearn.feature_extraction.text import CountVectorizer\n",
    "from sklearn.feature_extraction.text import TfidfTransformer\n",
    "from sklearn.feature_extraction.text import HashingVectorizer\n",
    "import pickle\n",
    "import mysql.connector\n",
    "from pyhive import hive"
   ]
  },
  {
   "cell_type": "code",
   "execution_count": 23,
   "metadata": {},
   "outputs": [],
   "source": [
    "import scipy.sparse\n",
    "Valid952HostnameRegex = \"[a-zA-Z0-9\\.]+\"\n",
    "vectorizer = CountVectorizer(token_pattern=Valid952HostnameRegex, decode_error=\"replace\",vocabulary=pickle.load(open(\"ExceptionDB.pkl\", \"rb\")))\n",
    "vectorizer._validate_vocabulary()\n",
    "tfidf_matrix = scipy.sparse.load_npz('./ExceptionSparse.npz')"
   ]
  },
  {
   "cell_type": "code",
   "execution_count": 24,
   "metadata": {},
   "outputs": [],
   "source": [
    "mydb = mysql.connector.connect(\n",
    "    host=\"localhost\",\n",
    "    user=\"jenkins\",\n",
    "    passwd=\"ariba\",\n",
    "    database=\"ariba_logs\",\n",
    "    buffered=True\n",
    ")"
   ]
  },
  {
   "cell_type": "code",
   "execution_count": 25,
   "metadata": {},
   "outputs": [],
   "source": [
    "def getPrevRunTime(mydb):\n",
    "    timeSql = \"select value from run_config where name = 'MODEL_TRAIN_LAST_RUN'\"\n",
    "    timeCursor = mydb.cursor()\n",
    "    timeCursor.execute(timeSql)\n",
    "    timeData = timeCursor.fetchone()\n",
    "    prevRunTime = timeData[0]\n",
    "    timeCursor.close()\n",
    "    return prevRunTime\n"
   ]
  },
  {
   "cell_type": "code",
   "execution_count": 26,
   "metadata": {},
   "outputs": [
    {
     "data": {
      "text/plain": [
       "'2020-03-13 01:25:35'"
      ]
     },
     "execution_count": 26,
     "metadata": {},
     "output_type": "execute_result"
    }
   ],
   "source": [
    "getPrevRunTime(mydb)"
   ]
  },
  {
   "cell_type": "code",
   "execution_count": 27,
   "metadata": {},
   "outputs": [],
   "source": [
    "def getTrainedRecs(mydb, prevRunTime):\n",
    "    sqlData = []\n",
    "    trainCursor = mydb.cursor()\n",
    "    selectSql = \"SELECT  log_str FROM new_anomalies where status = 'N'and time <= STR_TO_DATE(%s,'%Y-%m-%d %H:%i:%S') order by id\"\n",
    "    whereValues = (prevRunTime,)\n",
    "    trainCursor.execute(selectSql,whereValues)\n",
    "    if trainCursor.rowcount > 0 :\n",
    "        sqlData = trainCursor.fetchall()\n",
    "    trainCursor.close()\n",
    "    data = list(map(lambda el: el[0], sqlData))\n",
    "    return data"
   ]
  },
  {
   "cell_type": "code",
   "execution_count": 28,
   "metadata": {},
   "outputs": [],
   "source": [
    "# Take all the trained records until the last training time. \n",
    "prevRunTime = getPrevRunTime(mydb)\n",
    "data = getTrainedRecs(mydb,prevRunTime)"
   ]
  },
  {
   "cell_type": "code",
   "execution_count": 29,
   "metadata": {},
   "outputs": [
    {
     "data": {
      "text/plain": [
       "{'data.ariba.com': 0,\n",
       " 'data2.ariba.com': 1,\n",
       " 's4.ariba.com': 6,\n",
       " 'java.ariba.com': 5,\n",
       " 'honeybee.ariba.com': 4,\n",
       " 'honey.ariba.com': 3,\n",
       " 'data34565.ariba.com': 2}"
      ]
     },
     "execution_count": 29,
     "metadata": {},
     "output_type": "execute_result"
    }
   ],
   "source": [
    "vectorizer.vocabulary"
   ]
  },
  {
   "cell_type": "code",
   "execution_count": 30,
   "metadata": {},
   "outputs": [],
   "source": [
    "from sklearn.metrics.pairwise import linear_kernel\n",
    "from sklearn.metrics.pairwise import pairwise_kernels\n",
    "from sklearn.metrics.pairwise import cosine_similarity\n",
    "from collections import Counter \n",
    "#cosine_similarities = linear_kernel(unseen_tfidf[0:1], tfidf_matrix).flatten()\n",
    "#cosine_similarities = pairwise_kernels(unseen_tfidf[0:1],\n",
    "#                 tfidf_matrix,\n",
    "#                 metric='cosine').flatten()\n",
    "#related_docs_indices = cosine_similarities.argsort()[:-5:-1]"
   ]
  },
  {
   "cell_type": "code",
   "execution_count": 31,
   "metadata": {},
   "outputs": [],
   "source": [
    "def getCurrentTime(mydb):\n",
    "    timeSql = \"select date_format(now(),'%Y-%m-%d %H:%i:%S')\"\n",
    "    timeCursor = mydb.cursor()\n",
    "    timeCursor.execute(timeSql)\n",
    "    timeData = timeCursor.fetchone()\n",
    "    timeCursor.close()\n",
    "    currentTime = timeData[0]\n",
    "    return currentTime\n"
   ]
  },
  {
   "cell_type": "code",
   "execution_count": 32,
   "metadata": {},
   "outputs": [],
   "source": [
    "def getInboxProcessPrevRunTime(mydb):\n",
    "    timeSql = \"select value from run_config where name = 'INBOX_PROCESS_LAST_RUN'\"\n",
    "    timeCursor = mydb.cursor()\n",
    "    timeCursor.execute(timeSql)\n",
    "    timeData = timeCursor.fetchone()\n",
    "    if timeCursor.rowcount > 0:\n",
    "        prevRunTime = timeData[0]\n",
    "        timeCursor.close()\n",
    "        return prevRunTime\n",
    "    else:\n",
    "        timeCursor.close()\n",
    "        return ''"
   ]
  },
  {
   "cell_type": "code",
   "execution_count": 33,
   "metadata": {},
   "outputs": [],
   "source": [
    "def getInboxRecs(preRunTime) :\n",
    "    conn = hive.Connection(host=\"localhost\", port=10000, username=\"YOU\")\n",
    "    query = \"select stack, count from noise_data_summary where from_unixtime(unix_timestamp(insert_time,'yyyy/MM/dd hh:mm:ss')) > from_unixtime(unix_timestamp('{}','yyyy/MM/dd hh:mm:ss'))\".format('2020/03/16 04:57:00')\n",
    "    cursor = conn.cursor()\n",
    "    cursor.execute(query)\n",
    "    data = cursor.fetchall()\n",
    "    conn.close()\n",
    "    return data\n",
    "    "
   ]
  },
  {
   "cell_type": "code",
   "execution_count": 34,
   "metadata": {},
   "outputs": [],
   "source": [
    "def getInboxRecsMySql(mydb, prevRunTime):\n",
    "    sqlData = []\n",
    "    trainCursor = mydb.cursor()\n",
    "    selectSql = \"SELECT  log_str, count FROM new_anomalies_inbox where status = 'N'and time >= STR_TO_DATE(%s,'%Y-%m-%d %H:%i:%S') order by id\"\n",
    "    whereValues = (prevRunTime,)\n",
    "    trainCursor.execute(selectSql,whereValues)\n",
    "    if trainCursor.rowcount > 0 :\n",
    "        sqlData = trainCursor.fetchall()\n",
    "    trainCursor.close()\n",
    "    #data = list(map(lambda el: el[0], sqlData))\n",
    "    return sqlData"
   ]
  },
  {
   "cell_type": "code",
   "execution_count": 35,
   "metadata": {},
   "outputs": [],
   "source": [
    "def updateInboxProcessRunConfigValues(mydb,currentTime):\n",
    "    updateConfigCursor = mydb.cursor()\n",
    "    updateSql = \"UPDATE run_config set value = %s where name = 'INBOX_PROCESS_LAST_RUN'\"\n",
    "    updateValues = (currentTime,)\n",
    "    updateConfigCursor.execute(updateSql,updateValues )\n",
    "    updateConfigCursor.close()\n",
    "    mydb.commit()"
   ]
  },
  {
   "cell_type": "code",
   "execution_count": 36,
   "metadata": {},
   "outputs": [],
   "source": [
    "def updateInboxRecords(mydb, prevRunTime, currentTime):\n",
    "    updateAnomalyFlagsCursor = mydb.cursor()\n",
    "    updateFlagSql = \"update new_anomalies_inbox set status = 'Y' where time >= STR_TO_DATE(%s,'%Y-%m-%d %H:%i:%S') and time <= STR_TO_DATE(%s,'%Y-%m-%d %H:%i:%S')\"\n",
    "    updateFlagValues = (prevRunTime, currentTime,)\n",
    "    updateAnomalyFlagsCursor.execute(updateFlagSql, updateFlagValues)\n",
    "    updateAnomalyFlagsCursor.close()\n",
    "    mydb.commit()"
   ]
  },
  {
   "cell_type": "code",
   "execution_count": 37,
   "metadata": {},
   "outputs": [],
   "source": [
    "def joinInboxRecords(data):\n",
    "    res = list(Counter(key for key, num in data  \n",
    "                  for idx in range(num)).items()) \n",
    "    return res"
   ]
  },
  {
   "cell_type": "code",
   "execution_count": 38,
   "metadata": {},
   "outputs": [],
   "source": [
    "currentTime = getCurrentTime(mydb)\n",
    "prevInboxProcessTime = getInboxProcessPrevRunTime(mydb)"
   ]
  },
  {
   "cell_type": "code",
   "execution_count": 40,
   "metadata": {},
   "outputs": [],
   "source": [
    "sqlData = getInboxRecs(prevInboxProcessTime)"
   ]
  },
  {
   "cell_type": "code",
   "execution_count": 42,
   "metadata": {},
   "outputs": [],
   "source": [
    "inboxRecs = dict(joinInboxRecords(sqlData))"
   ]
  },
  {
   "cell_type": "code",
   "execution_count": 43,
   "metadata": {},
   "outputs": [],
   "source": [
    "unseen_data = list(inboxRecs.keys())\n"
   ]
  },
  {
   "cell_type": "code",
   "execution_count": 44,
   "metadata": {},
   "outputs": [
    {
     "name": "stdout",
     "output_type": "stream",
     "text": [
      "dict_keys(['data.ariba.com', 'data2.ariba.com', 's4.ariba.com', 'java.ariba.com', 'honeybee.ariba.com', 'honey.ariba.com', 'data34565.ariba.com'])\n"
     ]
    }
   ],
   "source": [
    "print(vectorizer.vocabulary.keys())"
   ]
  },
  {
   "cell_type": "code",
   "execution_count": 45,
   "metadata": {},
   "outputs": [
    {
     "data": {
      "text/plain": [
       "<8x7 sparse matrix of type '<class 'numpy.int64'>'\n",
       "\twith 15 stored elements in Compressed Sparse Row format>"
      ]
     },
     "execution_count": 45,
     "metadata": {},
     "output_type": "execute_result"
    }
   ],
   "source": [
    "tfidf_matrix"
   ]
  },
  {
   "cell_type": "code",
   "execution_count": 46,
   "metadata": {},
   "outputs": [
    {
     "data": {
      "text/plain": [
       "array([[0., 0., 0., 0., 0., 0., 0., 0.],\n",
       "       [0., 0., 0., 0., 0., 0., 0., 0.],\n",
       "       [0., 0., 0., 0., 0., 0., 0., 0.],\n",
       "       [0., 0., 0., 0., 0., 0., 0., 0.],\n",
       "       [0., 0., 0., 0., 0., 0., 0., 0.],\n",
       "       [0., 0., 0., 0., 0., 0., 0., 0.],\n",
       "       [0., 0., 0., 0., 0., 0., 0., 0.],\n",
       "       [0., 0., 0., 0., 0., 0., 0., 0.],\n",
       "       [0., 0., 0., 0., 0., 0., 0., 0.],\n",
       "       [0., 0., 0., 0., 0., 0., 0., 0.],\n",
       "       [0., 0., 0., 0., 0., 0., 0., 0.],\n",
       "       [0., 0., 0., 0., 0., 0., 0., 0.],\n",
       "       [0., 0., 0., 0., 0., 0., 0., 0.],\n",
       "       [0., 0., 0., 0., 0., 0., 0., 0.],\n",
       "       [0., 0., 0., 0., 0., 0., 0., 0.],\n",
       "       [0., 0., 0., 0., 0., 0., 0., 0.],\n",
       "       [0., 0., 0., 0., 0., 0., 0., 0.],\n",
       "       [0., 0., 0., 0., 0., 0., 0., 0.]])"
      ]
     },
     "execution_count": 46,
     "metadata": {},
     "output_type": "execute_result"
    }
   ],
   "source": [
    "# This is the data that we pick up from the hive table which is not fetched for processing\n",
    "# Store the time until which the processing is last done. \n",
    "# From the last time stamp, pick the records unti now\n",
    "\n",
    "\n",
    "#unseen_data = ['data.ariba.com data2.ariba.com','data.ariba.com', 's4.ariba.com java.ariba.com','honeybee.ariba.com']\n",
    "\n",
    "\n",
    "unseen_tfidf = vectorizer.transform(unseen_data)\n",
    "unseen_tfidf.shape\n",
    "cosine_similarity(unseen_tfidf, tfidf_matrix)"
   ]
  },
  {
   "cell_type": "code",
   "execution_count": 47,
   "metadata": {},
   "outputs": [],
   "source": [
    "cosine_similarities = pairwise_kernels(unseen_tfidf,\n",
    "                 tfidf_matrix,\n",
    "                 metric='cosine')"
   ]
  },
  {
   "cell_type": "code",
   "execution_count": 48,
   "metadata": {},
   "outputs": [
    {
     "name": "stdout",
     "output_type": "stream",
     "text": [
      "Before the start : (18, 7)\n",
      "[[0 1 2 3 4 5 6 7]\n",
      " [0 1 2 3 4 5 6 7]\n",
      " [0 1 2 3 4 5 6 7]\n",
      " [0 1 2 3 4 5 6 7]\n",
      " [0 1 2 3 4 5 6 7]\n",
      " [0 1 2 3 4 5 6 7]\n",
      " [0 1 2 3 4 5 6 7]\n",
      " [0 1 2 3 4 5 6 7]\n",
      " [0 1 2 3 4 5 6 7]\n",
      " [0 1 2 3 4 5 6 7]\n",
      " [0 1 2 3 4 5 6 7]\n",
      " [0 1 2 3 4 5 6 7]\n",
      " [0 1 2 3 4 5 6 7]\n",
      " [0 1 2 3 4 5 6 7]\n",
      " [0 1 2 3 4 5 6 7]\n",
      " [0 1 2 3 4 5 6 7]\n",
      " [0 1 2 3 4 5 6 7]\n",
      " [0 1 2 3 4 5 6 7]]\n",
      "[[0. 0. 0. 0. 0. 0. 0. 0.]\n",
      " [0. 0. 0. 0. 0. 0. 0. 0.]\n",
      " [0. 0. 0. 0. 0. 0. 0. 0.]\n",
      " [0. 0. 0. 0. 0. 0. 0. 0.]\n",
      " [0. 0. 0. 0. 0. 0. 0. 0.]\n",
      " [0. 0. 0. 0. 0. 0. 0. 0.]\n",
      " [0. 0. 0. 0. 0. 0. 0. 0.]\n",
      " [0. 0. 0. 0. 0. 0. 0. 0.]\n",
      " [0. 0. 0. 0. 0. 0. 0. 0.]\n",
      " [0. 0. 0. 0. 0. 0. 0. 0.]\n",
      " [0. 0. 0. 0. 0. 0. 0. 0.]\n",
      " [0. 0. 0. 0. 0. 0. 0. 0.]\n",
      " [0. 0. 0. 0. 0. 0. 0. 0.]\n",
      " [0. 0. 0. 0. 0. 0. 0. 0.]\n",
      " [0. 0. 0. 0. 0. 0. 0. 0.]\n",
      " [0. 0. 0. 0. 0. 0. 0. 0.]\n",
      " [0. 0. 0. 0. 0. 0. 0. 0.]\n",
      " [0. 0. 0. 0. 0. 0. 0. 0.]]\n",
      "The best similarity value is ---> 0.0 for  ariba.common.core.condition.archesobjectmatchingquery\n",
      "-1 record inserted.\n",
      "The best similarity value is ---> 0.0 for ariba.base.core.aql.aqlvisitorexception: ariba.basic.core.flexmasterdatatype ariba.basic.core.flexmasterdatatype java.lang.exception: ariba.util.core.systemutil.stacktrace(systemutil.java:) ariba.util.core.assert.assertnonfatal(assert.java:) ariba.util.core.assert.assertfatal(assert.java:) ariba.util.core.assert.assertfatal(assert.java:) ariba.util.core.assert.that(assert.java:) ariba.base.core.aql.aqlresultcollection.checkforerrors(aqlresultcollection.java:) ariba.base.core.aql.aqlresultcollection.next(aqlresultcollection.java:) ariba.basic.core.flexmasterdatatype.getclassnamefromdisplayname(flexmasterdatatype.java:) ariba.app.masterdataservice.meta.impl.amlclassmetainfoimpl.findclassmetainfo(amlclassmetainfoimpl.java:) ariba.app.masterdataservice.meta.impl.amlclassmetainfoimpl.processrealmformdsname(amlclassmetainfoimpl.java:) ariba.app.masterdataservice.meta.impl.amlclassmetainfoimpl.getfieldnametomdsnamemapping(amlclassmetainfoimpl.java:) ariba.integration.base.nativeintegrationdirectaction.getmdsnamemappingaction(nativeintegrationdirectaction.java:) java.lang.reflect.method.invoke(method.java:) ariba.util.fieldvalue.reflectionmethodgetter.invokegetmethod(reflectionmethodgetter.java:) ariba.util.fieldvalue.reflectionmethodgetter.getvalue(reflectionmethodgetter.java:) ariba.util.fieldvalue.fieldvalue.getfieldvalue(fieldvalue.java:) ariba.ui.aribaweb.core.awdirectaction.performactionnamed(awdirectaction.java:) ariba.ui.aribaweb.core.awdirectactionrequesthandler.processaction(awdirectactionrequesthandler.java:) ariba.ui.aribaweb.core.awdirectactionrequesthandler.handlerequest(awdirectactionrequesthandler.java:) ariba.ui.aribaweb.core.awrequestcontext.handlerequest(awrequestcontext.java:) ariba.ui.aribaweb.core.awdirectactionrequesthandler.handlerequest(awdirectactionrequesthandler.java:) ariba.ui.aribaweb.core.awconcreteserverapplication.dispatchrequest(awconcreteserverapplication.java:) ariba.ui.aribaweb.core.awconcreteapplication.dispatchrequest(awconcreteapplication.java:) ariba.ui.servletadaptor.awdispatcherservlet.renderresponse(awdispatcherservlet.java:) ariba.ui.servletadaptor.awdispatcherservlet.aribawebdispatcher(awdispatcherservlet.java:) ariba.htmlui.buyer.dispatcherservlet.aribawebdispatcher(dispatcherservlet.java:) ariba.ui.servletadaptor.awdispatcherservlet.processrequest(awdispatcherservlet.java:) ariba.util.http.multitab.abstractmultitabhandler.handledefault(abstractmultitabhandler.java:) ariba.util.http.multitab.cookie.tabmanager.processrequest(tabmanager.java:) ariba.util.http.multitab.cookie.cookiebasedmultitabsupport.processrequest(cookiebasedmultitabsupport.java:) ariba.util.http.multitab.multitabutil.processrequest(multitabutil.java:) ariba.util.http.aribaservlet.wraprequest(aribaservlet.java:) ariba.util.http.aribaservlet.doget(aribaservlet.java:) ariba.util.http.loggingservlet.service(loggingservlet.java:) ariba.util.http.aribaservlet.service(aribaservlet.java:) org.apache.catalina.core.applicationfilterchain.internaldofilter(applicationfilterchain.java:) org.apache.catalina.core.applicationfilterchain.dofilter(applicationfilterchain.java:) org.apache.tomcat.websocket.server.wsfilter.dofilter(wsfilter.java:) org.apache.catalina.core.applicationfilterchain.internaldofilter(applicationfilterchain.java:) org.apache.catalina.core.applicationfilterchain.dofilter(applicationfilterchain.java:) ariba.base.server.basefilter.dofilter(basefilter.java:) org.apache.catalina.core.applicationfilterchain.internaldofilter(applicationfilterchain.java:) org.apache.catalina.core.applicationfilterchain.dofilter(applicationfilterchain.java:) org.apache.catalina.core.standardwrappervalve.invoke(standardwrappervalve.java:) org.apache.catalina.core.standardcontextvalve.invoke(standardcontextvalve.java:) org.apache.catalina.authenticator.authenticatorbase.invoke(authenticatorbase.java:) org.apache.catalina.valves.remoteipvalve.invoke(remoteipvalve.java:) org.apache.catalina.core.standardhostvalve.invoke(standardhostvalve.java:) org.apache.catalina.valves.errorreportvalve.invoke(errorreportvalve.java:) org.apache.catalina.core.standardenginevalve.invoke(standardenginevalve.java:) org.apache.catalina.connector.coyoteadapter.service(coyoteadapter.java:) org.apache.coyote.http.httpprocessor.service(httpprocessor.java:) org.apache.coyote.abstractprocessorlight.process(abstractprocessorlight.java:) org.apache.coyote.abstractprotocol$connectionhandler.process(abstractprotocol.java:) org.apache.tomcat.util.net.nioendpoint$socketprocessor.dorun(nioendpoint.java:) org.apache.tomcat.util.net.socketprocessorbase.run(socketprocessorbase.java:) java.util.concurrent.threadpoolexecutor.runworker(threadpoolexecutor.java:) java.util.concurrent.threadpoolexecutor$worker.run(threadpoolexecutor.java:) org.apache.tomcat.util.threads.taskthread$wrappingrunnable.run(taskthread.java:) java.lang.thread.run(thread.java:)\n",
      "-1 record inserted.\n",
      "The best similarity value is ---> 0.0 for ariba.common.core.user.getpartitions(user.java:) ariba.common.core.user.getpartitions(user.java:) ariba.htmlui.coreui.buyeruisession.initializepartitionlist(buyeruisession.java:) ariba.htmlui.coreui.buyeruisession.setupuser(buyeruisession.java:) ariba.user.htmlui.usersession.setuser(usersession.java:) ariba.user.htmlui.usersession.setrealuser(usersession.java:) ariba.user.htmlui.usersession.setrealuser(usersession.java:) ariba.user.htmlui.userssoauthenticator.setupsession(userssoauthenticator.java:) ariba.htmlui.orms.ssoauthenticator.setupsession(ssoauthenticator.java:) ariba.ui.sso.awssobaseauthenticator.handleinitialization(awssobaseauthenticator.java:) ariba.ui.sso.ssoactions.initialpageaftersuccessfullauthentication(ssoactions.java:) ariba.ui.sso.ssoactions.loginpageactioninternal(ssoactions.java:) ariba.ui.sso.ssoactions.loginpageaction(ssoactions.java:) java.lang.reflect.method.invoke(method.java:) ariba.util.fieldvalue.reflectionmethodgetter.invokegetmethod(reflectionmethodgetter.java:) ariba.util.fieldvalue.reflectionmethodgetter.getvalue(reflectionmethodgetter.java:) ariba.util.fieldvalue.fieldvalue.getfieldvalue(fieldvalue.java:) ariba.ui.aribaweb.core.awdirectaction.performactionnamed(awdirectaction.java:) ariba.ui.aribaweb.core.awdirectactionrequesthandler.processaction(awdirectactionrequesthandler.java:) ariba.ui.aribaweb.core.awdirectactionrequesthandler.handlerequest(awdirectactionrequesthandler.java:) ariba.ui.aribaweb.core.awrequestcontext.handlerequest(awrequestcontext.java:) ariba.ui.aribaweb.core.awdirectactionrequesthandler.handlerequest(awdirectactionrequesthandler.java:) ariba.ui.aribaweb.core.awconcreteserverapplication.dispatchrequest(awconcreteserverapplication.java:) ariba.ui.aribaweb.core.awconcreteapplication.dispatchrequest(awconcreteapplication.java:) ariba.ui.servletadaptor.awdispatcherservlet.renderresponse(awdispatcherservlet.java:) ariba.ui.servletadaptor.awdispatcherservlet.aribawebdispatcher(awdispatcherservlet.java:) ariba.htmlui.buyer.dispatcherservlet.aribawebdispatcher(dispatcherservlet.java:) ariba.ui.servletadaptor.awdispatcherservlet.processrequest(awdispatcherservlet.java:) ariba.util.http.multitab.abstractmultitabhandler.handledefault(abstractmultitabhandler.java:) ariba.util.http.multitab.cookie.tabmanager.processrequest(tabmanager.java:) ariba.util.http.multitab.cookie.cookiebasedmultitabsupport.processrequest(cookiebasedmultitabsupport.java:) ariba.util.http.multitab.multitabutil.processrequest(multitabutil.java:) ariba.util.http.aribaservlet.wraprequest(aribaservlet.java:) ariba.util.http.aribaservlet.doget(aribaservlet.java:) ariba.util.http.loggingservlet.service(loggingservlet.java:) ariba.util.http.aribaservlet.service(aribaservlet.java:) org.apache.catalina.core.applicationfilterchain.internaldofilter(applicationfilterchain.java:) org.apache.catalina.core.applicationfilterchain.dofilter(applicationfilterchain.java:) org.apache.tomcat.websocket.server.wsfilter.dofilter(wsfilter.java:) org.apache.catalina.core.applicationfilterchain.internaldofilter(applicationfilterchain.java:) org.apache.catalina.core.applicationfilterchain.dofilter(applicationfilterchain.java:) ariba.base.server.basefilter.dofilter(basefilter.java:) org.apache.catalina.core.applicationfilterchain.internaldofilter(applicationfilterchain.java:) org.apache.catalina.core.applicationfilterchain.dofilter(applicationfilterchain.java:) org.apache.catalina.core.standardwrappervalve.invoke(standardwrappervalve.java:) org.apache.catalina.core.standardcontextvalve.invoke(standardcontextvalve.java:) org.apache.catalina.authenticator.authenticatorbase.invoke(authenticatorbase.java:) org.apache.catalina.valves.remoteipvalve.invoke(remoteipvalve.java:) org.apache.catalina.core.standardhostvalve.invoke(standardhostvalve.java:) org.apache.catalina.valves.errorreportvalve.invoke(errorreportvalve.java:) org.apache.catalina.core.standardenginevalve.invoke(standardenginevalve.java:) org.apache.catalina.connector.coyoteadapter.service(coyoteadapter.java:) org.apache.coyote.http.httpprocessor.service(httpprocessor.java:) org.apache.coyote.abstractprocessorlight.process(abstractprocessorlight.java:) org.apache.coyote.abstractprotocol$connectionhandler.process(abstractprotocol.java:) org.apache.tomcat.util.net.nioendpoint$socketprocessor.dorun(nioendpoint.java:) org.apache.tomcat.util.net.socketprocessorbase.run(socketprocessorbase.java:) java.util.concurrent.threadpoolexecutor.runworker(threadpoolexecutor.java:) java.util.concurrent.threadpoolexecutor$worker.run(threadpoolexecutor.java:) org.apache.tomcat.util.threads.taskthread$wrappingrunnable.run(taskthread.java:) java.lang.thread.run(thread.java:)\n",
      "-1 record inserted.\n",
      "The best similarity value is ---> 0.0 for ariba.purchasing.core.requisition ariba.basic.core.money ariba.tax.core.taxdetail java.lang.integer java.lang.exception: ariba.util.core.systemutil.stacktrace(systemutil.java:) ariba.base.server.objectserversession.processcommit(objectserversession.java:) ariba.base.server.objectserversession.sessioncommit(objectserversession.java:) ariba.htmlui.approvableui.arbcoreonclient.completetransaction(arbcoreonclient.java:) ariba.htmlui.approvableui.arbcoreonclient.completetransaction(arbcoreonclient.java:) ariba.htmlui.approvableui.arbcoreonclient.completetransaction(arbcoreonclient.java:) ariba.htmlui.approvableui.components.approvablecommands.getcommandset(approvablecommands.java:) ariba.htmlui.approvableui.components.approvablecommands.getcommandnames(approvablecommands.java:) ariba.htmlui.procure.purchasing.requisitioncommands.getcommandnames(requisitioncommands.java:) ariba.htmlui.orms.components.arcapprovabledetailstab.disableapprovebutton(arcapprovabledetailstab.java:) java.lang.reflect.method.invoke(method.java:) ariba.util.fieldvalue.reflectionmethodgetter.invokegetmethod(reflectionmethodgetter.java:) ariba.util.fieldvalue.reflectionmethodgetter.getvalue(reflectionmethodgetter.java:) ariba.util.fieldvalue.fieldpath.getfieldvalue(fieldpath.java:) ariba.ui.aribaweb.core.awkeypathbinding.value(awbinding.java:) ariba.ui.aribaweb.core.awbinding.booleanvalue(awbinding.java:) ariba.ui.aribaweb.core.awcomponent.booleanvalueforbinding(awcomponent.java:) ariba.ui.aribaweb.core.awcomponent.booleanvalueforbinding(awcomponent.java:) ariba.htmlui.orms.components.arccommandbuttons.appendtoresponse(arccommandbuttons.java:) ariba.ui.aribaui.awxcomponentreference.renderresponse(awxcomponentreference.java:) ariba.ui.aribaweb.core.awcontainerelement.renderresponse(awcontainerelement.java:) ariba.ui.aribaweb.core.awtaggedcontainer.appendbody(awtaggedcontainer.java:) ariba.ui.aribaweb.core.awtaggedcontainer.renderresponse(awtaggedcontainer.java:) ariba.ui.aribaweb.core.awconcretetemplate.renderresponse(awconcretetemplate.java:) ariba.ui.aribaweb.core.awcontainerelement.renderresponse(awcontainerelement.java:) ariba.ui.aribaweb.core.awif.renderresponse(awif.java:) ariba.ui.aribaweb.core.awconcretetemplate.renderresponse(awconcretetemplate.java:) ariba.ui.aribaweb.core.awcomponent.renderresponse(awcomponent.java:) ariba.ui.aribaui.awxcomponent.appendtoresponse(awxcomponent.java:) ariba.htmlui.orms.components.arcapprovabledetailstab.appendtoresponse(arcapprovabledetailstab.java:) ariba.ui.aribaui.awxcomponentreference.renderresponse(awxcomponentreference.java:) ariba.ui.aribaweb.core.awconcretetemplate.renderresponse(awconcretetemplate.java:) ariba.ui.aribaweb.core.awincludecontent.renderresponse(awincludecontent.java:) ariba.ui.aribaweb.core.awconcretetemplate.renderresponse(awconcretetemplate.java:) ariba.ui.aribaweb.core.awcontainerelement.renderresponse(awcontainerelement.java:) ariba.ui.aribaweb.core.awgenericcontainer.renderresponse(awgenericcontainer.java:) ariba.ui.aribaweb.core.awmetatemplateconditional.renderresponse(awmetatemplateconditional.java:) ariba.ui.aribaweb.core.awcontainerelement.renderresponse(awcontainerelement.java:) ariba.ui.aribaweb.core.awif.renderresponse(awif.java:) ariba.ui.aribaweb.core.awconcretetemplate.renderresponse(awconcretetemplate.java:) ariba.ui.aribaweb.core.awcomponent.renderresponse(awcomponent.java:) ariba.ui.aribaweb.html.awform.renderresponse(awform.java:) ariba.ui.aribaweb.core.awcomponentreference.renderresponse(awcomponentreference.java:) ariba.ui.aribaweb.core.awconcretetemplate.renderresponse(awconcretetemplate.java:) ariba.ui.aribaweb.core.awcontainerelement.renderresponse(awcontainerelement.java:) ariba.ui.aribaweb.core.awif.renderresponse(awif.java:) ariba.ui.aribaweb.core.awconcretetemplate.renderresponse(awconcretetemplate.java:) ariba.ui.aribaweb.core.awcomponent.renderresponse(awcomponent.java:) ariba.ui.aribaui.awxcomponent.appendtoresponse(awxcomponent.java:) ariba.htmlui.orms.components.arcapprovabledetails.appendtoresponse(arcapprovabledetails.java:) ariba.ui.aribaui.awxcomponentreference.renderresponse(awxcomponentreference.java:) ariba.ui.aribaweb.core.awconcretetemplate.renderresponse(awconcretetemplate.java:) ariba.ui.aribaweb.core.awincludecontent.renderresponse(awincludecontent.java:) ariba.ui.aribaweb.core.awcontainerelement.renderresponse(awcontainerelement.java:) ariba.ui.aribaweb.core.awif.renderresponse(awif.java:) ariba.ui.aribaweb.core.awconcretetemplate.renderresponse(awconcretetemplate.java:) ariba.ui.aribaweb.core.awincludecontent.renderresponse(awincludecontent.java:) ariba.ui.aribaweb.core.awcontainerelement.renderresponse(awcontainerelement.java:) ariba.ui.aribaweb.core.awif.renderresponse(awif.java:) ariba.ui.aribaweb.core.awcontainerelement.renderresponse(awcontainerelement.java:) ariba.ui.aribaweb.core.awgenericcontainer.renderresponse(awgenericcontainer.java:) ariba.ui.aribaweb.core.awconcretetemplate.renderresponse(awconcretetemplate.java:) ariba.ui.aribaweb.core.awincludecontent.renderresponse(awincludecontent.java:) ariba.ui.aribaweb.core.awincludecontent.renderresponse(awincludecontent.java:) ariba.ui.aribaweb.core.awconcretetemplate.renderresponse(awconcretetemplate.java:) ariba.ui.aribaweb.core.awcomponent.renderresponse(awcomponent.java:) ariba.ui.aribaweb.core.awcomponentreference.renderresponse(awcomponentreference.java:) ariba.ui.aribaweb.core.awconcretetemplate.renderresponse(awconcretetemplate.java:) ariba.ui.aribaweb.core.awcontainerelement.renderresponse(awcontainerelement.java:) ariba.ui.aribaweb.core.awif.renderresponse(awif.java:) ariba.ui.aribaweb.core.awconcretetemplate.renderresponse(awconcretetemplate.java:) ariba.ui.aribaweb.core.awcomponent.renderresponse(awcomponent.java:) ariba.ui.aribaweb.core.awcomponentreference.renderresponse(awcomponentreference.java:) ariba.ui.aribaweb.core.awconcretetemplate.renderresponse(awconcretetemplate.java:) ariba.ui.aribaweb.core.awincludecontent.renderresponse(awincludecontent.java:) ariba.ui.aribaweb.core.awcontainerelement.renderresponse(awcontainerelement.java:) ariba.ui.aribaweb.core.awgenericcontainer.renderresponse(awgenericcontainer.java:) ariba.ui.aribaweb.core.awcontainerelement.renderresponse(awcontainerelement.java:) ariba.ui.aribaweb.core.awif.renderresponse(awif.java:) ariba.ui.aribaweb.core.awconcretetemplate.renderresponse(awconcretetemplate.java:) ariba.ui.aribaweb.core.awcontainerelement.renderresponse(awcontainerelement.java:) ariba.ui.aribaweb.core.awif.renderresponse(awif.java:) ariba.ui.aribaweb.core.awconcretetemplate.renderresponse(awconcretetemplate.java:) ariba.ui.aribaweb.core.awcomponent.renderresponse(awcomponent.java:) ariba.ui.aribaweb.core.awrefreshregion.renderresponse(awrefreshregion.java:) ariba.ui.aribaweb.core.awcomponentreference.renderresponse(awcomponentreference.java:) ariba.ui.aribaweb.core.awconcretetemplate.renderresponse(awconcretetemplate.java:) ariba.ui.aribaweb.core.awcontainerelement.renderresponse(awcontainerelement.java:) ariba.ui.aribaweb.core.awappendenvironment.renderresponse(awappendenvironment.java:) ariba.ui.aribaweb.core.awconcretetemplate.renderresponse(awconcretetemplate.java:) ariba.ui.aribaweb.core.awcontainerelement.renderresponse(awcontainerelement.java:) ariba.ui.aribaweb.core.awgenericcontainer.renderresponse(awgenericcontainer.java:) ariba.ui.aribaweb.core.awconcretetemplate.renderresponse(awconcretetemplate.java:) ariba.ui.aribaweb.core.awcomponent.renderresponse(awcomponent.java:) ariba.ui.widgets.aribapagecontent.renderresponse(aribapagecontent.java:) ariba.ui.aribaweb.core.awcomponentreference.renderresponse(awcomponentreference.java:) ariba.ui.aribaweb.core.awcontainerelement.renderresponse(awcontainerelement.java:) ariba.ui.aribaweb.core.awtaggedcontainer.appendbody(awtaggedcontainer.java:) ariba.ui.aribaweb.core.awtaggedcontainer.renderresponse(awtaggedcontainer.java:) ariba.ui.aribaweb.core.awconcretetemplate.renderresponse(awconcretetemplate.java:) ariba.ui.aribaweb.core.awincludecontent.renderresponse(awincludecontent.java:) ariba.ui.aribaweb.core.awcontainerelement.renderresponse(awcontainerelement.java:) ariba.ui.aribaweb.core.awif.renderresponse(awif.java:) ariba.ui.aribaweb.core.awconcretetemplate.renderresponse(awconcretetemplate.java:) ariba.ui.aribaweb.core.awcomponent.renderresponse(awcomponent.java:) ariba.ui.aribaweb.core.awcomponentreference.renderresponse(awcomponentreference.java:) ariba.ui.aribaweb.core.awconcretetemplate.renderresponse(awconcretetemplate.java:) ariba.ui.aribaweb.core.awcontainerelement.renderresponse(awcontainerelement.java:) ariba.ui.aribaweb.core.awtaggedcontainer.appendbody(awtaggedcontainer.java:) ariba.ui.aribaweb.core.awtaggedcontainer.renderresponse(awtaggedcontainer.java:) ariba.ui.aribaweb.core.awconcretetemplate.renderresponse(awconcretetemplate.java:) ariba.ui.aribaweb.core.awcontainerelement.renderresponse(awcontainerelement.java:) ariba.ui.aribaweb.core.awgenericcontainer.renderresponse(awgenericcontainer.java:) ariba.ui.aribaweb.core.awconcretetemplate.renderresponse(awconcretetemplate.java:) ariba.ui.aribaweb.core.awcontainerelement.renderresponse(awcontainerelement.java:) ariba.ui.aribaweb.core.awtaggedcontainer.appendbody(awtaggedcontainer.java:) ariba.ui.aribaweb.core.awtaggedcontainer.renderresponse(awtaggedcontainer.java:) ariba.ui.aribaweb.core.awconcretetemplate.renderresponse(awconcretetemplate.java:) ariba.ui.aribaweb.core.awincludecontent.renderresponse(awincludecontent.java:) ariba.ui.aribaweb.core.awcontainerelement.renderresponse(awcontainerelement.java:) ariba.ui.aribaweb.core.awgenericcontainer.renderresponse(awgenericcontainer.java:) ariba.ui.aribaweb.core.awcontainerelement.renderresponse(awcontainerelement.java:) ariba.ui.aribaweb.core.awif.renderresponse(awif.java:) ariba.ui.aribaweb.core.awconcretetemplate.renderresponse(awconcretetemplate.java:) ariba.ui.aribaweb.core.awcontainerelement.renderresponse(awcontainerelement.java:) ariba.ui.aribaweb.core.awif.renderresponse(awif.java:) ariba.ui.aribaweb.core.awconcretetemplate.renderresponse(awconcretetemplate.java:) ariba.ui.aribaweb.core.awcomponent.renderresponse(awcomponent.java:) ariba.ui.aribaweb.core.awrefreshregion.renderresponse(awrefreshregion.java:) ariba.ui.aribaweb.core.awcomponentreference.renderresponse(awcomponentreference.java:) ariba.ui.aribaweb.core.awconcretetemplate.renderresponse(awconcretetemplate.java:) ariba.ui.aribaweb.core.awcomponent.renderresponse(awcomponent.java:) ariba.ui.aribaweb.core.awcomponentreference.renderresponse(awcomponentreference.java:) ariba.ui.aribaweb.core.awconcretetemplate.renderresponse(awconcretetemplate.java:) ariba.ui.aribaweb.core.awcontainerelement.renderresponse(awcontainerelement.java:) ariba.ui.aribaweb.core.awif.renderresponse(awif.java:) ariba.ui.aribaweb.core.awincludecontent.renderresponse(awincludecontent.java:) ariba.ui.aribaweb.core.awconcretetemplate.renderresponse(awconcretetemplate.java:) ariba.ui.aribaweb.core.awincludecontent.renderresponse(awincludecontent.java:) ariba.ui.aribaweb.core.awcontainerelement.renderresponse(awcontainerelement.java:) ariba.ui.aribaweb.core.awif.renderresponse(awif.java:) ariba.ui.aribaweb.core.awconcretetemplate.renderresponse(awconcretetemplate.java:) ariba.ui.aribaweb.core.awcomponent.renderresponse(awcomponent.java:) ariba.ui.aribaweb.html.awform.renderresponse(awform.java:) ariba.ui.aribaweb.core.awcomponentreference.renderresponse(awcomponentreference.java:) ariba.ui.aribaweb.core.awconcretetemplate.renderresponse(awconcretetemplate.java:) ariba.ui.aribaweb.core.awcontainerelement.renderresponse(awcontainerelement.java:) ariba.ui.aribaweb.core.awif.renderresponse(awif.java:) ariba.ui.aribaweb.core.awconcretetemplate.renderresponse(awconcretetemplate.java:) ariba.ui.aribaweb.core.awcomponent.renderresponse(awcomponent.java:) ariba.ui.aribaweb.core.awcomponentreference.renderresponse(awcomponentreference.java:) ariba.ui.aribaweb.core.awconcretetemplate.renderresponse(awconcretetemplate.java:) ariba.ui.aribaweb.core.awincludecontent.renderresponse(awincludecontent.java:) ariba.ui.aribaweb.core.awcontainerelement.renderresponse(awcontainerelement.java:) ariba.ui.aribaweb.core.awgenericcontainer.renderresponse(awgenericcontainer.java:) ariba.ui.aribaweb.core.awcontainerelement.renderresponse(awcontainerelement.java:) ariba.ui.aribaweb.core.awif.renderresponse(awif.java:) ariba.ui.aribaweb.core.awconcretetemplate.renderresponse(awconcretetemplate.java:) ariba.ui.aribaweb.core.awcontainerelement.renderresponse(awcontainerelement.java:) ariba.ui.aribaweb.core.awif.renderresponse(awif.java:) ariba.ui.aribaweb.core.awconcretetemplate.renderresponse(awconcretetemplate.java:) ariba.ui.aribaweb.core.awcomponent.renderresponse(awcomponent.java:) ariba.ui.aribaweb.core.awrefreshregion.renderresponse(awrefreshregion.java:) ariba.ui.aribaweb.core.awcomponentreference.renderresponse(awcomponentreference.java:) ariba.ui.aribaweb.core.awconcretetemplate.renderresponse(awconcretetemplate.java:) ariba.ui.aribaweb.core.awincludecontent.renderresponse(awincludecontent.java:) ariba.ui.aribaweb.core.awconcretetemplate.renderresponse(awconcretetemplate.java:) ariba.ui.aribaweb.core.awcontainerelement.renderresponse(awcontainerelement.java:) ariba.ui.aribaweb.core.awgenericcontainer.renderresponse(awgenericcontainer.java:) ariba.ui.aribaweb.core.awconcretetemplate.renderresponse(awconcretetemplate.java:) ariba.ui.aribaweb.core.awcomponent.renderresponse(awcomponent.java:) ariba.ui.aribaweb.core.awcomponentreference.renderresponse(awcomponentreference.java:) ariba.ui.aribaweb.core.awconcretetemplate.renderresponse(awconcretetemplate.java:) ariba.ui.aribaweb.core.awincludecontent.renderresponse(awincludecontent.java:) ariba.ui.aribaweb.core.awcontainerelement.renderresponse(awcontainerelement.java:) ariba.ui.aribaweb.core.awgenericcontainer.renderresponse(awgenericcontainer.java:) ariba.ui.aribaweb.core.awconcretetemplate.renderresponse(awconcretetemplate.java:) ariba.ui.aribaweb.core.awcomponent.renderresponse(awcomponent.java:) ariba.ui.aribaweb.core.awcomponentreference.renderresponse(awcomponentreference.java:) ariba.ui.aribaweb.core.awcontainerelement.renderresponse(awcontainerelement.java:) ariba.ui.aribaweb.core.awappendenvironment.renderresponse(awappendenvironment.java:) ariba.ui.aribaweb.core.awconcretetemplate.renderresponse(awconcretetemplate.java:) ariba.ui.aribaweb.core.awcontainerelement.renderresponse(awcontainerelement.java:) ariba.ui.aribaweb.core.awif.renderresponse(awif.java:) ariba.ui.aribaweb.core.awconcretetemplate.renderresponse(awconcretetemplate.java:) ariba.ui.aribaweb.core.awcomponent.renderresponse(awcomponent.java:) ariba.ui.widgets.pagewrapper.renderresponse(pagewrapper.java:) ariba.ui.aribaweb.core.awcomponentreference.renderresponse(awcomponentreference.java:) ariba.ui.aribaweb.core.awconcretetemplate.renderresponse(awconcretetemplate.java:) ariba.ui.aribaweb.core.awcomponent.renderresponse(awcomponent.java:) ariba.ui.aribaui.awxcomponent.appendtoresponse(awxcomponent.java:) ariba.ui.aribaui.awxcomponentreference.renderresponse(awxcomponentreference.java:) ariba.ui.aribaweb.core.awconcretetemplate.renderresponse(awconcretetemplate.java:) ariba.ui.aribaweb.core.awcontainerelement.renderresponse(awcontainerelement.java:) ariba.ui.aribaweb.core.awif.renderresponse(awif.java:) ariba.ui.aribaweb.core.awconcretetemplate.renderresponse(awconcretetemplate.java:) ariba.ui.aribaweb.core.awcomponent.renderresponse(awcomponent.java:) ariba.ui.aribaui.awxcomponent.appendtoresponse(awxcomponent.java:) ariba.htmlui.fieldsui.arppage.appendtoresponse(arppage.java:) ariba.htmlui.approvableui.arpapprovabledetailsbasic.appendtoresponse(arpapprovabledetailsbasic.java:) ariba.htmlui.approvableui.arpapprovabledetails.appendtoresponse(arpapprovabledetails.java:) ariba.ui.aribaweb.core.awpage.renderresponse(awpage.java:) ariba.ui.aribaweb.core.awrequestcontext.generateresponse(awrequestcontext.java:) ariba.ui.aribaweb.core.awrequestcontext.generateresponse(awrequestcontext.java:) ariba.ui.aribaweb.core.awcomponentactionrequesthandler.handlerequest(awcomponentactionrequesthandler.java:) ariba.ui.aribaweb.core.awrequestcontext.handlerequest(awrequestcontext.java:) ariba.ui.aribaweb.core.awcomponentactionrequesthandler.handlerequest(awcomponentactionrequesthandler.java:) ariba.ui.aribaweb.core.awconcreteserverapplication.dispatchrequest(awconcreteserverapplication.java:) ariba.ui.aribaweb.core.awconcreteapplication.dispatchrequest(awconcreteapplication.java:) ariba.ui.servletadaptor.awdispatcherservlet.renderresponse(awdispatcherservlet.java:) ariba.ui.servletadaptor.awdispatcherservlet.aribawebdispatcher(awdispatcherservlet.java:) ariba.htmlui.buyer.dispatcherservlet.aribawebdispatcher(dispatcherservlet.java:) ariba.ui.servletadaptor.awdispatcherservlet.processrequest(awdispatcherservlet.java:) ariba.util.http.multitab.abstractmultitabhandler.handledefault(abstractmultitabhandler.java:) ariba.util.http.multitab.cookie.tabmanager.processrequest(tabmanager.java:) ariba.util.http.multitab.cookie.cookiebasedmultitabsupport.processrequest(cookiebasedmultitabsupport.java:) ariba.util.http.multitab.multitabutil.processrequest(multitabutil.java:) ariba.util.http.aribaservlet.wraprequest(aribaservlet.java:) ariba.util.http.aribaservlet.dopost(aribaservlet.java:) ariba.util.http.loggingservlet.service(loggingservlet.java:) ariba.util.http.aribaservlet.service(aribaservlet.java:) org.apache.catalina.core.applicationfilterchain.internaldofilter(applicationfilterchain.java:) org.apache.catalina.core.applicationfilterchain.dofilter(applicationfilterchain.java:) org.apache.tomcat.websocket.server.wsfilter.dofilter(wsfilter.java:) org.apache.catalina.core.applicationfilterchain.internaldofilter(applicationfilterchain.java:) org.apache.catalina.core.applicationfilterchain.dofilter(applicationfilterchain.java:) ariba.base.server.basefilter.dofilter(basefilter.java:) org.apache.catalina.core.applicationfilterchain.internaldofilter(applicationfilterchain.java:) org.apache.catalina.core.applicationfilterchain.dofilter(applicationfilterchain.java:) org.apache.catalina.core.standardwrappervalve.invoke(standardwrappervalve.java:) org.apache.catalina.core.standardcontextvalve.invoke(standardcontextvalve.java:) org.apache.catalina.authenticator.authenticatorbase.invoke(authenticatorbase.java:) org.apache.catalina.valves.remoteipvalve.invoke(remoteipvalve.java:) org.apache.catalina.core.standardhostvalve.invoke(standardhostvalve.java:) org.apache.catalina.valves.errorreportvalve.invoke(errorreportvalve.java:) org.apache.catalina.core.standardenginevalve.invoke(standardenginevalve.java:) org.apache.catalina.connector.coyoteadapter.service(coyoteadapter.java:) org.apache.coyote.http.httpprocessor.service(httpprocessor.java:) org.apache.coyote.abstractprocessorlight.process(abstractprocessorlight.java:) org.apache.coyote.abstractprotocol$connectionhandler.process(abstractprotocol.java:) org.apache.tomcat.util.net.nioendpoint$socketprocessor.dorun(nioendpoint.java:) org.apache.tomcat.util.net.socketprocessorbase.run(socketprocessorbase.java:) java.util.concurrent.threadpoolexecutor.runworker(threadpoolexecutor.java:) java.util.concurrent.threadpoolexecutor$worker.run(threadpoolexecutor.java:) org.apache.tomcat.util.threads.taskthread$wrappingrunnable.run(taskthread.java:) java.lang.thread.run(thread.java:)\n",
      "-1 record inserted.\n",
      "The best similarity value is ---> 0.0 for ariba.ui.aribaweb.core.awbinding$awbindingexception: ariba.ui.aribaweb.core.awbinding.getbindingexception(awbinding.java:) ariba.ui.aribaweb.core.awkeypathbinding.value(awbinding.java:) ariba.ui.aribaweb.core.awcomponent.valueforbinding(awcomponent.java:) ariba.ui.aribaweb.core.awgenericactiontag.evaluateactionbindings(awgenericactiontag.java:) ariba.ui.aribaweb.html.awhyperlink.invokeaction(awhyperlink.java:) java.lang.reflect.method.invoke(method.java:) ariba.util.fieldvalue.fieldpath.getfieldvalue(fieldpath.java:) ariba.ui.aribaweb.core.awkeypathbinding.value(awbinding.java:) ariba.ui.aribaweb.core.awgenericelement.invokeaction(awgenericelement.java:) ariba.ui.aribaweb.core.awmetatemplateconditional.invokeaction(awmetatemplateconditional.java:) ariba.ui.aribaweb.core.awif.invokeaction(awif.java:) ariba.ui.aribaweb.core.awif.invokeaction(awif.java:) ariba.ui.aribaweb.core.awcomponent(awhyperlink).invokeaction(awcomponent.java:)<aribabackpage.awl:> ariba.ui.aribaweb.core.awif.invokeaction(awif.java:) ariba.ui.aribaweb.core.awcomponent(aribabackpage).invokeaction(awcomponent.java:)<aribabasicpagewrapperaw.awl:> ariba.ui.aribaweb.core.awincludecontent.invokeaction(awincludecontent.java:)<aribabasicpagewrapperaw.awl:> ariba.ui.aribaweb.core.awif.invokeaction(awif.java:) ariba.ui.aribaweb.core.awcomponent(aribacondition).invokeaction(awcomponent.java:)<aribabasicpagewrapperaw.awl:> ariba.ui.aribaweb.core.awincludecontent.invokeaction(awincludecontent.java:)<aribabasicpagewrapperaw.awl:> ariba.ui.aribaweb.core.awif.invokeaction(awif.java:) ariba.ui.aribaweb.core.awcomponent(aribacondition).invokeaction(awcomponent.java:)<aribabasicpagewrapperaw.awl:> ariba.ui.aribaweb.core.awincludecontent.invokeaction(awincludecontent.java:)<aribabasicpagewrapperaw.awl:> ariba.ui.aribaweb.core.awif.invokeaction(awif.java:) ariba.ui.aribaweb.core.awcomponent(aribacondition).invokeaction(awcomponent.java:)<aribabasicpagewrapperaw.awl:> ariba.ui.aribaweb.core.awincludecontent.invokeaction(awincludecontent.java:)<aribabasicpagewrapperaw.awl:> ariba.ui.aribaweb.core.awif.invokeaction(awif.java:) ariba.ui.aribaweb.core.awif.invokeaction(awif.java:) ariba.ui.aribaweb.core.awcomponent.invokeaction(awcomponent.java:) ariba.ui.aribaweb.core.awrefreshregion.invokeaction(awrefreshregion.java:)<aribabasicpagewrapperaw.awl:> ariba.ui.aribaweb.core.awcomponent(aribabasicpagewrapper).invokeaction(awcomponent.java:)<basicpagewrapper.awl:> ariba.ui.aribaweb.core.awif.invokeaction(awif.java:) ariba.ui.aribaweb.core.awincludecontent.invokeaction(awincludecontent.java:)<basicpagewrapper.awl:> ariba.ui.aribaweb.core.awincludecontent.invokeaction(awincludecontent.java:)<pagewrapperform.awl:> ariba.ui.aribaweb.core.awif.invokeaction(awif.java:) ariba.ui.aribaweb.core.awcomponent.invokeaction(awcomponent.java:) ariba.ui.aribaweb.html.awform.invokeaction(awform.java:)<pagewrapperform.awl:> ariba.ui.aribaweb.core.awif.invokeaction(awif.java:) ariba.ui.aribaweb.core.awcomponent(pagewrapperform).invokeaction(awcomponent.java:)<basicpagewrapper.awl:> ariba.ui.aribaweb.core.awincludecontent.invokeaction(awincludecontent.java:)<basicpagewrapper.awl:> ariba.ui.aribaweb.core.awif.invokeaction(awif.java:) ariba.ui.aribaweb.core.awif.invokeaction(awif.java:) ariba.ui.aribaweb.core.awcomponent.invokeaction(awcomponent.java:) ariba.ui.aribaweb.core.awrefreshregion.invokeaction(awrefreshregion.java:)<basicpagewrapper.awl:> ariba.ui.aribaweb.core.awincludecontent.invokeaction(awincludecontent.java:)<basicpagewrapper.awl:> ariba.ui.aribaweb.core.awcomponent(awbody).invokeaction(awcomponent.java:)<basicpagewrapper.awl:> ariba.ui.aribaweb.core.awincludecontent.invokeaction(awincludecontent.java:)<basicpagewrapper.awl:> ariba.ui.aribaweb.core.awcomponent(documentcontainer).invokeaction(awcomponent.java:)<basicpagewrapper.awl:> ariba.ui.aribaweb.core.awenvironment.invokeaction(awenvironment.java:) ariba.ui.aribaweb.core.awif.invokeaction(awif.java:) ariba.ui.aribaweb.core.awcomponent(basicpagewrapper).invokeaction(awcomponent.java:)<arwpagetemplate.awl:> ariba.ui.aribaweb.core.awcomponent.invokeaction(awcomponent.java:) ariba.ui.aribaui.awxcomponent.invokeactionforrequest(awxcomponent.java:) ariba.ui.aribaui.awxcomponentreference.invokeaction(awxcomponentreference.java:) ariba.ui.aribaweb.core.awcomponent.invokeaction(awcomponent.java:) ariba.ui.aribaui.awxcomponent.invokeactionforrequest(awxcomponent.java:) ariba.htmlui.fieldsui.arppage.invokeactionforrequest(arppage.java:) ariba.ui.aribaweb.core.awpage.invokeaction(awpage.java:) ariba.ui.aribaweb.core.awrequestcontext.invokeactionforrequest(awrequestcontext.java:) ariba.ui.aribaweb.core.awcomponentactionrequesthandler.handlerequest(awcomponentactionrequesthandler.java:) ariba.ui.aribaweb.core.awrequestcontext.handlerequest(awrequestcontext.java:) ariba.ui.aribaweb.core.awcomponentactionrequesthandler.handlerequest(awcomponentactionrequesthandler.java:) ariba.ui.aribaweb.core.awconcreteserverapplication.dispatchrequest(awconcreteserverapplication.java:) ariba.ui.aribaweb.core.awconcreteapplication.dispatchrequest(awconcreteapplication.java:) ariba.ui.servletadaptor.awdispatcherservlet.renderresponse(awdispatcherservlet.java:) ariba.ui.servletadaptor.awdispatcherservlet.aribawebdispatcher(awdispatcherservlet.java:) ariba.htmlui.buyer.dispatcherservlet.aribawebdispatcher(dispatcherservlet.java:) ariba.ui.servletadaptor.awdispatcherservlet.processrequest(awdispatcherservlet.java:) ariba.util.http.multitab.abstractmultitabhandler.handledefault(abstractmultitabhandler.java:) ariba.util.http.multitab.cookie.tabmanager.processrequest(tabmanager.java:) ariba.util.http.multitab.cookie.cookiebasedmultitabsupport.processrequest(cookiebasedmultitabsupport.java:) ariba.util.http.multitab.multitabutil.processrequest(multitabutil.java:) ariba.util.http.aribaservlet.wraprequest(aribaservlet.java:) ariba.util.http.aribaservlet.doget(aribaservlet.java:) ariba.util.http.loggingservlet.service(loggingservlet.java:) ariba.util.http.aribaservlet.service(aribaservlet.java:) org.apache.catalina.core.applicationfilterchain.internaldofilter(applicationfilterchain.java:) org.apache.catalina.core.applicationfilterchain.dofilter(applicationfilterchain.java:) org.apache.tomcat.websocket.server.wsfilter.dofilter(wsfilter.java:) org.apache.catalina.core.applicationfilterchain.internaldofilter(applicationfilterchain.java:) org.apache.catalina.core.applicationfilterchain.dofilter(applicationfilterchain.java:) ariba.base.server.basefilter.dofilter(basefilter.java:) org.apache.catalina.core.applicationfilterchain.internaldofilter(applicationfilterchain.java:) org.apache.catalina.core.applicationfilterchain.dofilter(applicationfilterchain.java:) org.apache.catalina.core.standardwrappervalve.invoke(standardwrappervalve.java:) org.apache.catalina.core.standardcontextvalve.invoke(standardcontextvalve.java:) org.apache.catalina.authenticator.authenticatorbase.invoke(authenticatorbase.java:) org.apache.catalina.valves.remoteipvalve.invoke(remoteipvalve.java:) org.apache.catalina.core.standardhostvalve.invoke(standardhostvalve.java:) org.apache.catalina.valves.errorreportvalve.invoke(errorreportvalve.java:) org.apache.catalina.core.standardenginevalve.invoke(standardenginevalve.java:) org.apache.catalina.connector.coyoteadapter.service(coyoteadapter.java:) org.apache.coyote.http.httpprocessor.service(httpprocessor.java:) org.apache.coyote.abstractprocessorlight.process(abstractprocessorlight.java:) org.apache.coyote.abstractprotocol$connectionhandler.process(abstractprotocol.java:) org.apache.tomcat.util.net.nioendpoint$socketprocessor.dorun(nioendpoint.java:) org.apache.tomcat.util.net.socketprocessorbase.run(socketprocessorbase.java:) java.util.concurrent.threadpoolexecutor.runworker(threadpoolexecutor.java:) java.util.concurrent.threadpoolexecutor$worker.run(threadpoolexecutor.java:) org.apache.tomcat.util.threads.taskthread$wrappingrunnable.run(taskthread.java:) java.lang.thread.run(thread.java:) ariba.util.core.fatalassertionexception: ariba.util.core.assert.assertfatal(assert.java:) ariba.util.core.assert.assertfatal(assert.java:) ariba.util.core.assert.that(assert.java:) ariba.base.core.baseserviceimpl.getparameterinternal(baseserviceimpl.java:) ariba.base.core.baseserviceimpl.getparameter(baseserviceimpl.java:) ariba.htmlui.buyer.buyerapplication.shouldredirecttoguidedbuy(buyerapplication.java:) ariba.htmlui.buyer.buyerapplication.gethomepage(buyerapplication.java:) ariba.htmlui.fieldsui.fieldsuiapplication.getcurrenthomepage(fieldsuiapplication.java:) ariba.htmlui.baseui.homeactionhandler.actionclicked(homeactionhandler.java:) ariba.ui.widgets.aribabackpage.backaction(aribabackpage.java:) java.lang.reflect.method.invoke(method.java:) ariba.util.fieldvalue.reflectionmethodgetter.invokegetmethod(reflectionmethodgetter.java:) ariba.util.fieldvalue.reflectionmethodgetter.getvalue(reflectionmethodgetter.java:) ariba.util.fieldvalue.fieldpath.getfieldvalue(fieldpath.java:) ariba.ui.aribaweb.core.awkeypathbinding.value(awbinding.java:)\n",
      "-1 record inserted.\n",
      "The best similarity value is ---> 0.0 for ariba.ui.aribaweb.core.awbinding$awbindingexception: ariba.ui.aribaweb.core.awbinding.getbindingexception(awbinding.java:) ariba.ui.aribaweb.core.awkeypathbinding.value(awbinding.java:) ariba.ui.aribaweb.core.awcomponent.valueforbinding(awcomponent.java:) ariba.ui.aribaweb.core.awgenericactiontag.evaluateactionbindings(awgenericactiontag.java:) ariba.ui.aribaweb.html.awhyperlink.invokeaction(awhyperlink.java:) java.lang.reflect.method.invoke(method.java:) ariba.util.fieldvalue.fieldpath.getfieldvalue(fieldpath.java:) ariba.ui.aribaweb.core.awkeypathbinding.value(awbinding.java:) ariba.ui.aribaweb.core.awgenericelement.invokeaction(awgenericelement.java:) ariba.ui.aribaweb.core.awmetatemplateconditional.invokeaction(awmetatemplateconditional.java:) ariba.ui.aribaweb.core.awif.invokeaction(awif.java:) ariba.ui.aribaweb.core.awif.invokeaction(awif.java:) ariba.ui.aribaweb.core.awcomponent(awhyperlink).invokeaction(awcomponent.java:)<aribabackpage.awl:> ariba.ui.aribaweb.core.awif.invokeaction(awif.java:) ariba.ui.aribaweb.core.awcomponent(aribabackpage).invokeaction(awcomponent.java:)<aribabasicpagewrapperaw.awl:> ariba.ui.aribaweb.core.awincludecontent.invokeaction(awincludecontent.java:)<aribabasicpagewrapperaw.awl:> ariba.ui.aribaweb.core.awif.invokeaction(awif.java:) ariba.ui.aribaweb.core.awcomponent(aribacondition).invokeaction(awcomponent.java:)<aribabasicpagewrapperaw.awl:> ariba.ui.aribaweb.core.awincludecontent.invokeaction(awincludecontent.java:)<aribabasicpagewrapperaw.awl:> ariba.ui.aribaweb.core.awif.invokeaction(awif.java:) ariba.ui.aribaweb.core.awcomponent(aribacondition).invokeaction(awcomponent.java:)<aribabasicpagewrapperaw.awl:> ariba.ui.aribaweb.core.awincludecontent.invokeaction(awincludecontent.java:)<aribabasicpagewrapperaw.awl:> ariba.ui.aribaweb.core.awif.invokeaction(awif.java:) ariba.ui.aribaweb.core.awcomponent(aribacondition).invokeaction(awcomponent.java:)<aribabasicpagewrapperaw.awl:> ariba.ui.aribaweb.core.awincludecontent.invokeaction(awincludecontent.java:)<aribabasicpagewrapperaw.awl:> ariba.ui.aribaweb.core.awif.invokeaction(awif.java:) ariba.ui.aribaweb.core.awif.invokeaction(awif.java:) ariba.ui.aribaweb.core.awcomponent.invokeaction(awcomponent.java:) ariba.ui.aribaweb.core.awrefreshregion.invokeaction(awrefreshregion.java:)<aribabasicpagewrapperaw.awl:> ariba.ui.aribaweb.core.awcomponent(aribabasicpagewrapper).invokeaction(awcomponent.java:)<basicpagewrapper.awl:> ariba.ui.aribaweb.core.awif.invokeaction(awif.java:) ariba.ui.aribaweb.core.awincludecontent.invokeaction(awincludecontent.java:)<basicpagewrapper.awl:> ariba.ui.aribaweb.core.awincludecontent.invokeaction(awincludecontent.java:)<pagewrapperform.awl:> ariba.ui.aribaweb.core.awif.invokeaction(awif.java:) ariba.ui.aribaweb.core.awcomponent.invokeaction(awcomponent.java:) ariba.ui.aribaweb.html.awform.invokeaction(awform.java:)<pagewrapperform.awl:> ariba.ui.aribaweb.core.awif.invokeaction(awif.java:) ariba.ui.aribaweb.core.awcomponent(pagewrapperform).invokeaction(awcomponent.java:)<basicpagewrapper.awl:> ariba.ui.aribaweb.core.awincludecontent.invokeaction(awincludecontent.java:)<basicpagewrapper.awl:> ariba.ui.aribaweb.core.awif.invokeaction(awif.java:) ariba.ui.aribaweb.core.awif.invokeaction(awif.java:) ariba.ui.aribaweb.core.awcomponent.invokeaction(awcomponent.java:) ariba.ui.aribaweb.core.awrefreshregion.invokeaction(awrefreshregion.java:)<basicpagewrapper.awl:> ariba.ui.aribaweb.core.awincludecontent.invokeaction(awincludecontent.java:)<basicpagewrapper.awl:> ariba.ui.aribaweb.core.awcomponent(awbody).invokeaction(awcomponent.java:)<basicpagewrapper.awl:> ariba.ui.aribaweb.core.awincludecontent.invokeaction(awincludecontent.java:)<basicpagewrapper.awl:> ariba.ui.aribaweb.core.awcomponent(documentcontainer).invokeaction(awcomponent.java:)<basicpagewrapper.awl:> ariba.ui.aribaweb.core.awenvironment.invokeaction(awenvironment.java:) ariba.ui.aribaweb.core.awif.invokeaction(awif.java:) ariba.ui.aribaweb.core.awcomponent(basicpagewrapper).invokeaction(awcomponent.java:)<arwpagetemplate.awl:> ariba.ui.aribaweb.core.awcomponent.invokeaction(awcomponent.java:) ariba.ui.aribaui.awxcomponent.invokeactionforrequest(awxcomponent.java:) ariba.ui.aribaui.awxcomponentreference.invokeaction(awxcomponentreference.java:) ariba.ui.aribaweb.core.awcomponent.invokeaction(awcomponent.java:) ariba.ui.aribaweb.core.awpage.invokeaction(awpage.java:) ariba.ui.aribaweb.core.awrequestcontext.invokeactionforrequest(awrequestcontext.java:) ariba.ui.aribaweb.core.awcomponentactionrequesthandler.handlerequest(awcomponentactionrequesthandler.java:) ariba.ui.aribaweb.core.awrequestcontext.handlerequest(awrequestcontext.java:) ariba.ui.aribaweb.core.awcomponentactionrequesthandler.handlerequest(awcomponentactionrequesthandler.java:) ariba.ui.aribaweb.core.awconcreteserverapplication.dispatchrequest(awconcreteserverapplication.java:) ariba.ui.aribaweb.core.awconcreteapplication.dispatchrequest(awconcreteapplication.java:) ariba.ui.servletadaptor.awdispatcherservlet.renderresponse(awdispatcherservlet.java:) ariba.ui.servletadaptor.awdispatcherservlet.aribawebdispatcher(awdispatcherservlet.java:) ariba.htmlui.buyer.dispatcherservlet.aribawebdispatcher(dispatcherservlet.java:) ariba.ui.servletadaptor.awdispatcherservlet.processrequest(awdispatcherservlet.java:) ariba.util.http.multitab.abstractmultitabhandler.handledefault(abstractmultitabhandler.java:) ariba.util.http.multitab.cookie.tabmanager.processrequest(tabmanager.java:) ariba.util.http.multitab.cookie.cookiebasedmultitabsupport.processrequest(cookiebasedmultitabsupport.java:) ariba.util.http.multitab.multitabutil.processrequest(multitabutil.java:) ariba.util.http.aribaservlet.wraprequest(aribaservlet.java:) ariba.util.http.aribaservlet.doget(aribaservlet.java:) ariba.util.http.loggingservlet.service(loggingservlet.java:) ariba.util.http.aribaservlet.service(aribaservlet.java:) org.apache.catalina.core.applicationfilterchain.internaldofilter(applicationfilterchain.java:) org.apache.catalina.core.applicationfilterchain.dofilter(applicationfilterchain.java:) org.apache.tomcat.websocket.server.wsfilter.dofilter(wsfilter.java:) org.apache.catalina.core.applicationfilterchain.internaldofilter(applicationfilterchain.java:) org.apache.catalina.core.applicationfilterchain.dofilter(applicationfilterchain.java:) ariba.base.server.basefilter.dofilter(basefilter.java:) org.apache.catalina.core.applicationfilterchain.internaldofilter(applicationfilterchain.java:) org.apache.catalina.core.applicationfilterchain.dofilter(applicationfilterchain.java:) org.apache.catalina.core.standardwrappervalve.invoke(standardwrappervalve.java:) org.apache.catalina.core.standardcontextvalve.invoke(standardcontextvalve.java:) org.apache.catalina.authenticator.authenticatorbase.invoke(authenticatorbase.java:) org.apache.catalina.valves.remoteipvalve.invoke(remoteipvalve.java:) org.apache.catalina.core.standardhostvalve.invoke(standardhostvalve.java:) org.apache.catalina.valves.errorreportvalve.invoke(errorreportvalve.java:) org.apache.catalina.core.standardenginevalve.invoke(standardenginevalve.java:) org.apache.catalina.connector.coyoteadapter.service(coyoteadapter.java:) org.apache.coyote.http.httpprocessor.service(httpprocessor.java:) org.apache.coyote.abstractprocessorlight.process(abstractprocessorlight.java:) org.apache.coyote.abstractprotocol$connectionhandler.process(abstractprotocol.java:) org.apache.tomcat.util.net.nioendpoint$socketprocessor.dorun(nioendpoint.java:) org.apache.tomcat.util.net.socketprocessorbase.run(socketprocessorbase.java:) java.util.concurrent.threadpoolexecutor.runworker(threadpoolexecutor.java:) java.util.concurrent.threadpoolexecutor$worker.run(threadpoolexecutor.java:) org.apache.tomcat.util.threads.taskthread$wrappingrunnable.run(taskthread.java:) java.lang.thread.run(thread.java:) ariba.util.core.fatalassertionexception: ariba.util.core.assert.assertfatal(assert.java:) ariba.util.core.assert.assertfatal(assert.java:) ariba.util.core.assert.that(assert.java:) ariba.base.core.baseserviceimpl.getparameterinternal(baseserviceimpl.java:) ariba.base.core.baseserviceimpl.getparameter(baseserviceimpl.java:) ariba.htmlui.buyer.buyerapplication.shouldredirecttoguidedbuy(buyerapplication.java:) ariba.htmlui.buyer.buyerapplication.gethomepage(buyerapplication.java:) ariba.htmlui.fieldsui.fieldsuiapplication.getcurrenthomepage(fieldsuiapplication.java:) ariba.htmlui.baseui.homeactionhandler.actionclicked(homeactionhandler.java:) ariba.ui.widgets.aribabackpage.backaction(aribabackpage.java:) java.lang.reflect.method.invoke(method.java:) ariba.util.fieldvalue.reflectionmethodgetter.invokegetmethod(reflectionmethodgetter.java:) ariba.util.fieldvalue.reflectionmethodgetter.getvalue(reflectionmethodgetter.java:) ariba.util.fieldvalue.fieldpath.getfieldvalue(fieldpath.java:) ariba.ui.aribaweb.core.awkeypathbinding.value(awbinding.java:)\n",
      "-1 record inserted.\n",
      "The best similarity value is ---> 0.0 for ariba.util.core.faststringbuffer.appendstringrange(faststringbuffer.java:) ariba.util.core.faststringbuffer.append(faststringbuffer.java:) ariba.base.server.objectretrieverutil.appendmungedname(objectretrieverutil.java:) ariba.base.server.objectretrieverutil.appendmungednamefromclusterroot(objectretrieverutil.java:) ariba.base.server.objectretrieverutil.mungednamefromclusterroot(objectretrieverutil.java:) ariba.base.server.objectretrieverutil.mungednamefromclusterroot(objectretrieverutil.java:) ariba.base.server.serverobjectcache.getclusterroot(serverobjectcache.java:) ariba.base.server.objectserversession.objectfromlookupkeys(objectserversession.java:) ariba.base.server.objectserversession.objectfromlookupkeys(objectserversession.java:) ariba.user.core.user.getuserbylookupkey(user.java:) ariba.user.core.user.getuserbylookupkey(user.java:) ariba.user.core.user.getuser(user.java:) ariba.user.core.user.getuser(user.java:) ariba.user.htmlui.userssoauthenticator.isactiveuser(userssoauthenticator.java:) ariba.ui.sso.ssoactions.loginpageactioninternal(ssoactions.java:) ariba.ui.sso.ssoactions.loginpageaction(ssoactions.java:) java.lang.reflect.method.invoke(method.java:) ariba.util.fieldvalue.reflectionmethodgetter.invokegetmethod(reflectionmethodgetter.java:) ariba.util.fieldvalue.reflectionmethodgetter.getvalue(reflectionmethodgetter.java:) ariba.util.fieldvalue.fieldvalue.getfieldvalue(fieldvalue.java:) ariba.ui.aribaweb.core.awdirectaction.performactionnamed(awdirectaction.java:) ariba.ui.aribaweb.core.awdirectactionrequesthandler.processaction(awdirectactionrequesthandler.java:) ariba.ui.aribaweb.core.awdirectactionrequesthandler.handlerequest(awdirectactionrequesthandler.java:) ariba.ui.aribaweb.core.awrequestcontext.handlerequest(awrequestcontext.java:) ariba.ui.aribaweb.core.awdirectactionrequesthandler.handlerequest(awdirectactionrequesthandler.java:) ariba.ui.aribaweb.core.awconcreteserverapplication.dispatchrequest(awconcreteserverapplication.java:) ariba.ui.aribaweb.core.awconcreteapplication.dispatchrequest(awconcreteapplication.java:) ariba.ui.servletadaptor.awdispatcherservlet.renderresponse(awdispatcherservlet.java:) ariba.ui.servletadaptor.awdispatcherservlet.aribawebdispatcher(awdispatcherservlet.java:) ariba.htmlui.buyer.dispatcherservlet.aribawebdispatcher(dispatcherservlet.java:) ariba.ui.servletadaptor.awdispatcherservlet.processrequest(awdispatcherservlet.java:) ariba.util.http.multitab.abstractmultitabhandler.handledefault(abstractmultitabhandler.java:) ariba.util.http.multitab.cookie.tabmanager.processrequest(tabmanager.java:) ariba.util.http.multitab.cookie.cookiebasedmultitabsupport.processrequest(cookiebasedmultitabsupport.java:) ariba.util.http.multitab.multitabutil.processrequest(multitabutil.java:) ariba.util.http.aribaservlet.wraprequest(aribaservlet.java:) ariba.util.http.aribaservlet.doget(aribaservlet.java:) ariba.util.http.loggingservlet.service(loggingservlet.java:) ariba.util.http.aribaservlet.service(aribaservlet.java:) org.apache.catalina.core.applicationfilterchain.internaldofilter(applicationfilterchain.java:) org.apache.catalina.core.applicationfilterchain.dofilter(applicationfilterchain.java:) org.apache.tomcat.websocket.server.wsfilter.dofilter(wsfilter.java:) org.apache.catalina.core.applicationfilterchain.internaldofilter(applicationfilterchain.java:) org.apache.catalina.core.applicationfilterchain.dofilter(applicationfilterchain.java:) ariba.base.server.basefilter.dofilter(basefilter.java:) org.apache.catalina.core.applicationfilterchain.internaldofilter(applicationfilterchain.java:) org.apache.catalina.core.applicationfilterchain.dofilter(applicationfilterchain.java:) org.apache.catalina.core.standardwrappervalve.invoke(standardwrappervalve.java:) org.apache.catalina.core.standardcontextvalve.invoke(standardcontextvalve.java:) org.apache.catalina.authenticator.authenticatorbase.invoke(authenticatorbase.java:) org.apache.catalina.valves.remoteipvalve.invoke(remoteipvalve.java:) org.apache.catalina.core.standardhostvalve.invoke(standardhostvalve.java:) org.apache.catalina.valves.errorreportvalve.invoke(errorreportvalve.java:) org.apache.catalina.core.standardenginevalve.invoke(standardenginevalve.java:) org.apache.catalina.connector.coyoteadapter.service(coyoteadapter.java:) org.apache.coyote.http.httpprocessor.service(httpprocessor.java:) org.apache.coyote.abstractprocessorlight.process(abstractprocessorlight.java:) org.apache.coyote.abstractprotocol$connectionhandler.process(abstractprotocol.java:) org.apache.tomcat.util.net.nioendpoint$socketprocessor.dorun(nioendpoint.java:) org.apache.tomcat.util.net.socketprocessorbase.run(socketprocessorbase.java:) java.util.concurrent.threadpoolexecutor.runworker(threadpoolexecutor.java:) java.util.concurrent.threadpoolexecutor$worker.run(threadpoolexecutor.java:) org.apache.tomcat.util.threads.taskthread$wrappingrunnable.run(taskthread.java:) java.lang.thread.run(thread.java:)\n",
      "-1 record inserted.\n",
      "The best similarity value is ---> 0.0 for ariba.util.xml.xmlparseexception: ariba.util.xml.xmlutil.document(xmlutil.java:) ariba.util.xml.xmlutil.document(xmlutil.java:) ariba.util.xml.xmlutil.document(xmlutil.java:) ariba.util.xml.xmlutil.document(xmlutil.java:) ariba.dashboard.core.portletcontentcache.getxmlcontents(portletcontentcache.java:) ariba.dashboard.core.portletinstance.getxmlcontents(portletinstance.java:) ariba.dashboard.component.contentaggregator.aggregatecontents(contentaggregator.java:) ariba.dashboard.component.contentaggregator.aggregateportletcontents(contentaggregator.java:) ariba.dashboard.component.contentaggregator.getaggregatedcontent(contentaggregator.java:) ariba.dashboard.component.dashboardtabbar$sessionstate.preparedashboard(dashboardtabbar.java:) ariba.dashboard.component.dashboardtabbar$sessionstate.access$(dashboardtabbar.java:) ariba.dashboard.component.dashboardtabbar.appendtoresponse(dashboardtabbar.java:) ariba.ui.aribaui.awxcomponentreference.renderresponse(awxcomponentreference.java:) ariba.ui.aribaweb.core.awincludecomponent.renderresponse(awincludecomponent.java:) ariba.ui.aribaweb.core.awconcretetemplate.renderresponse(awconcretetemplate.java:) ariba.ui.aribaweb.core.awcontainerelement.renderresponse(awcontainerelement.java:) ariba.ui.aribaweb.core.awif.renderresponse(awif.java:) ariba.ui.aribaweb.core.awconcretetemplate.renderresponse(awconcretetemplate.java:) ariba.ui.aribaweb.core.awcomponent.renderresponse(awcomponent.java:) ariba.ui.aribaweb.core.awcomponentreference.renderresponse(awcomponentreference.java:) ariba.ui.aribaweb.core.awconcretetemplate.renderresponse(awconcretetemplate.java:) ariba.ui.aribaweb.core.awcomponent.renderresponse(awcomponent.java:) ariba.ui.aribaweb.core.awcomponentreference.renderresponse(awcomponentreference.java:) ariba.ui.aribaweb.core.awconcretetemplate.renderresponse(awconcretetemplate.java:) ariba.ui.aribaweb.core.awincludecontent.renderresponse(awincludecontent.java:) ariba.ui.aribaweb.core.awcontainerelement.renderresponse(awcontainerelement.java:) ariba.ui.aribaweb.core.awif.renderresponse(awif.java:) ariba.ui.aribaweb.core.awconcretetemplate.renderresponse(awconcretetemplate.java:) ariba.ui.aribaweb.core.awcomponent.renderresponse(awcomponent.java:) ariba.ui.aribaweb.core.awcomponentreference.renderresponse(awcomponentreference.java:) ariba.ui.aribaweb.core.awconcretetemplate.renderresponse(awconcretetemplate.java:) ariba.ui.aribaweb.core.awcontainerelement.renderresponse(awcontainerelement.java:) ariba.ui.aribaweb.core.awtaggedcontainer.appendbody(awtaggedcontainer.java:) ariba.ui.aribaweb.core.awtaggedcontainer.renderresponse(awtaggedcontainer.java:) ariba.ui.aribaweb.core.awconcretetemplate.renderresponse(awconcretetemplate.java:) ariba.ui.aribaweb.core.awcontainerelement.renderresponse(awcontainerelement.java:) ariba.ui.aribaweb.core.awtaggedcontainer.appendbody(awtaggedcontainer.java:) ariba.ui.aribaweb.core.awtaggedcontainer.renderresponse(awtaggedcontainer.java:) ariba.ui.aribaweb.core.awconcretetemplate.renderresponse(awconcretetemplate.java:) ariba.ui.aribaweb.core.awincludecontent.renderresponse(awincludecontent.java:) ariba.ui.aribaweb.core.awcontainerelement.renderresponse(awcontainerelement.java:) ariba.ui.aribaweb.core.awif.renderresponse(awif.java:) ariba.ui.aribaweb.core.awconcretetemplate.renderresponse(awconcretetemplate.java:) ariba.ui.aribaweb.core.awcomponent.renderresponse(awcomponent.java:) ariba.ui.aribaweb.core.awcomponentreference.renderresponse(awcomponentreference.java:) ariba.ui.aribaweb.core.awconcretetemplate.renderresponse(awconcretetemplate.java:) ariba.ui.aribaweb.core.awcontainerelement.renderresponse(awcontainerelement.java:) ariba.ui.aribaweb.core.awtaggedcontainer.appendbody(awtaggedcontainer.java:) ariba.ui.aribaweb.core.awtaggedcontainer.renderresponse(awtaggedcontainer.java:) ariba.ui.aribaweb.core.awconcretetemplate.renderresponse(awconcretetemplate.java:) ariba.ui.aribaweb.core.awcontainerelement.renderresponse(awcontainerelement.java:) ariba.ui.aribaweb.core.awtaggedcontainer.appendbody(awtaggedcontainer.java:) ariba.ui.aribaweb.core.awtaggedcontainer.renderresponse(awtaggedcontainer.java:) ariba.ui.aribaweb.core.awconcretetemplate.renderresponse(awconcretetemplate.java:) ariba.ui.aribaweb.core.awincludecontent.renderresponse(awincludecontent.java:) ariba.ui.aribaweb.core.awcontainerelement.renderresponse(awcontainerelement.java:) ariba.ui.aribaweb.core.awgenericcontainer.renderresponse(awgenericcontainer.java:) ariba.ui.aribaweb.core.awcontainerelement.renderresponse(awcontainerelement.java:) ariba.ui.aribaweb.core.awif.renderresponse(awif.java:) ariba.ui.aribaweb.core.awconcretetemplate.renderresponse(awconcretetemplate.java:) ariba.ui.aribaweb.core.awcontainerelement.renderresponse(awcontainerelement.java:) ariba.ui.aribaweb.core.awif.renderresponse(awif.java:) ariba.ui.aribaweb.core.awconcretetemplate.renderresponse(awconcretetemplate.java:) ariba.ui.aribaweb.core.awcomponent.renderresponse(awcomponent.java:) ariba.ui.aribaweb.core.awrefreshregion.renderresponse(awrefreshregion.java:) ariba.ui.aribaweb.core.awcomponentreference.renderresponse(awcomponentreference.java:) ariba.ui.aribaweb.core.awconcretetemplate.renderresponse(awconcretetemplate.java:) ariba.ui.aribaweb.core.awcomponent.renderresponse(awcomponent.java:) ariba.ui.aribaweb.core.awcomponentreference.renderresponse(awcomponentreference.java:) ariba.ui.aribaweb.core.awconcretetemplate.renderresponse(awconcretetemplate.java:) ariba.ui.aribaweb.core.awcontainerelement.renderresponse(awcontainerelement.java:) ariba.ui.aribaweb.core.awif.renderresponse(awif.java:) ariba.ui.aribaweb.core.awincludecontent.renderresponse(awincludecontent.java:) ariba.ui.aribaweb.core.awconcretetemplate.renderresponse(awconcretetemplate.java:) ariba.ui.aribaweb.core.awincludecontent.renderresponse(awincludecontent.java:) ariba.ui.aribaweb.core.awcontainerelement.renderresponse(awcontainerelement.java:) ariba.ui.aribaweb.core.awif.renderresponse(awif.java:) ariba.ui.aribaweb.core.awconcretetemplate.renderresponse(awconcretetemplate.java:) ariba.ui.aribaweb.core.awcomponent.renderresponse(awcomponent.java:) ariba.ui.aribaweb.html.awform.renderresponse(awform.java:) ariba.ui.aribaweb.core.awcomponentreference.renderresponse(awcomponentreference.java:) ariba.ui.aribaweb.core.awconcretetemplate.renderresponse(awconcretetemplate.java:) ariba.ui.aribaweb.core.awcontainerelement.renderresponse(awcontainerelement.java:) ariba.ui.aribaweb.core.awif.renderresponse(awif.java:) ariba.ui.aribaweb.core.awconcretetemplate.renderresponse(awconcretetemplate.java:) ariba.ui.aribaweb.core.awcomponent.renderresponse(awcomponent.java:) ariba.ui.aribaweb.core.awcomponentreference.renderresponse(awcomponentreference.java:) ariba.ui.aribaweb.core.awconcretetemplate.renderresponse(awconcretetemplate.java:) ariba.ui.aribaweb.core.awincludecontent.renderresponse(awincludecontent.java:) ariba.ui.aribaweb.core.awcontainerelement.renderresponse(awcontainerelement.java:) ariba.ui.aribaweb.core.awgenericcontainer.renderresponse(awgenericcontainer.java:) ariba.ui.aribaweb.core.awcontainerelement.renderresponse(awcontainerelement.java:) ariba.ui.aribaweb.core.awif.renderresponse(awif.java:) ariba.ui.aribaweb.core.awconcretetemplate.renderresponse(awconcretetemplate.java:) ariba.ui.aribaweb.core.awcontainerelement.renderresponse(awcontainerelement.java:) ariba.ui.aribaweb.core.awif.renderresponse(awif.java:) ariba.ui.aribaweb.core.awconcretetemplate.renderresponse(awconcretetemplate.java:) ariba.ui.aribaweb.core.awcomponent.renderresponse(awcomponent.java:) ariba.ui.aribaweb.core.awrefreshregion.renderresponse(awrefreshregion.java:) ariba.ui.aribaweb.core.awcomponentreference.renderresponse(awcomponentreference.java:) ariba.ui.aribaweb.core.awconcretetemplate.renderresponse(awconcretetemplate.java:) ariba.ui.aribaweb.core.awincludecontent.renderresponse(awincludecontent.java:) ariba.ui.aribaweb.core.awconcretetemplate.renderresponse(awconcretetemplate.java:) ariba.ui.aribaweb.core.awcontainerelement.renderresponse(awcontainerelement.java:) ariba.ui.aribaweb.core.awgenericcontainer.renderresponse(awgenericcontainer.java:) ariba.ui.aribaweb.core.awconcretetemplate.renderresponse(awconcretetemplate.java:) ariba.ui.aribaweb.core.awcomponent.renderresponse(awcomponent.java:) ariba.ui.aribaweb.core.awcomponentreference.renderresponse(awcomponentreference.java:) ariba.ui.aribaweb.core.awconcretetemplate.renderresponse(awconcretetemplate.java:) ariba.ui.aribaweb.core.awincludecontent.renderresponse(awincludecontent.java:) ariba.ui.aribaweb.core.awcontainerelement.renderresponse(awcontainerelement.java:) ariba.ui.aribaweb.core.awgenericcontainer.renderresponse(awgenericcontainer.java:) ariba.ui.aribaweb.core.awconcretetemplate.renderresponse(awconcretetemplate.java:) ariba.ui.aribaweb.core.awcomponent.renderresponse(awcomponent.java:) ariba.ui.aribaweb.core.awcomponentreference.renderresponse(awcomponentreference.java:) ariba.ui.aribaweb.core.awcontainerelement.renderresponse(awcontainerelement.java:) ariba.ui.aribaweb.core.awappendenvironment.renderresponse(awappendenvironment.java:) ariba.ui.aribaweb.core.awconcretetemplate.renderresponse(awconcretetemplate.java:) ariba.ui.aribaweb.core.awcontainerelement.renderresponse(awcontainerelement.java:) ariba.ui.aribaweb.core.awif.renderresponse(awif.java:) ariba.ui.aribaweb.core.awconcretetemplate.renderresponse(awconcretetemplate.java:) ariba.ui.aribaweb.core.awcomponent.renderresponse(awcomponent.java:) ariba.ui.widgets.pagewrapper.renderresponse(pagewrapper.java:) ariba.ui.aribaweb.core.awcomponentreference.renderresponse(awcomponentreference.java:) ariba.ui.aribaweb.core.awconcretetemplate.renderresponse(awconcretetemplate.java:) ariba.ui.aribaweb.core.awcomponent.renderresponse(awcomponent.java:) ariba.ui.aribaui.awxcomponent.appendtoresponse(awxcomponent.java:) ariba.ui.aribaui.awxcomponentreference.renderresponse(awxcomponentreference.java:) ariba.ui.aribaweb.core.awconcretetemplate.renderresponse(awconcretetemplate.java:) ariba.ui.aribaweb.core.awcomponent.renderresponse(awcomponent.java:) ariba.ui.aribaui.awxcomponent.appendtoresponse(awxcomponent.java:) ariba.htmlui.admin.arpadmintemplate.appendtoresponse(arpadmintemplate.java:) ariba.ui.aribaui.awxcomponentreference.renderresponse(awxcomponentreference.java:) ariba.ui.aribaweb.core.awconcretetemplate.renderresponse(awconcretetemplate.java:) ariba.ui.aribaweb.core.awcomponent.renderresponse(awcomponent.java:) ariba.ui.aribaui.awxcomponent.appendtoresponse(awxcomponent.java:) ariba.htmlui.fieldsui.arppage.appendtoresponse(arppage.java:) ariba.htmlui.admin.arpadminhomepage.appendtoresponse(arpadminhomepage.java:) ariba.ui.aribaweb.core.awpage.renderresponse(awpage.java:) ariba.ui.aribaweb.core.awrequestcontext.generateresponse(awrequestcontext.java:) ariba.ui.aribaweb.core.awrequestcontext.generateresponse(awrequestcontext.java:) ariba.ui.aribaweb.core.awcomponentactionrequesthandler.handlerequest(awcomponentactionrequesthandler.java:) ariba.ui.aribaweb.core.awrequestcontext.handlerequest(awrequestcontext.java:) ariba.ui.aribaweb.core.awcomponentactionrequesthandler.handlerequest(awcomponentactionrequesthandler.java:) ariba.ui.aribaweb.core.awconcreteserverapplication.dispatchrequest(awconcreteserverapplication.java:) ariba.ui.aribaweb.core.awconcreteapplication.dispatchrequest(awconcreteapplication.java:) ariba.ui.servletadaptor.awdispatcherservlet.renderresponse(awdispatcherservlet.java:) ariba.ui.servletadaptor.awdispatcherservlet.aribawebdispatcher(awdispatcherservlet.java:) ariba.htmlui.buyer.dispatcherservlet.aribawebdispatcher(dispatcherservlet.java:) ariba.ui.servletadaptor.awdispatcherservlet.processrequest(awdispatcherservlet.java:) ariba.util.http.multitab.abstractmultitabhandler.handledefault(abstractmultitabhandler.java:) ariba.util.http.multitab.cookie.tabmanager.processrequest(tabmanager.java:) ariba.util.http.multitab.cookie.cookiebasedmultitabsupport.processrequest(cookiebasedmultitabsupport.java:) ariba.util.http.multitab.multitabutil.processrequest(multitabutil.java:) ariba.util.http.aribaservlet.wraprequest(aribaservlet.java:) ariba.util.http.aribaservlet.doget(aribaservlet.java:) ariba.util.http.loggingservlet.service(loggingservlet.java:) ariba.util.http.aribaservlet.service(aribaservlet.java:) org.apache.catalina.core.applicationfilterchain.internaldofilter(applicationfilterchain.java:) org.apache.catalina.core.applicationfilterchain.dofilter(applicationfilterchain.java:) org.apache.tomcat.websocket.server.wsfilter.dofilter(wsfilter.java:) org.apache.catalina.core.applicationfilterchain.internaldofilter(applicationfilterchain.java:) org.apache.catalina.core.applicationfilterchain.dofilter(applicationfilterchain.java:) ariba.base.server.basefilter.dofilter(basefilter.java:) org.apache.catalina.core.applicationfilterchain.internaldofilter(applicationfilterchain.java:) org.apache.catalina.core.applicationfilterchain.dofilter(applicationfilterchain.java:) org.apache.catalina.core.standardwrappervalve.invoke(standardwrappervalve.java:) org.apache.catalina.core.standardcontextvalve.invoke(standardcontextvalve.java:) org.apache.catalina.authenticator.authenticatorbase.invoke(authenticatorbase.java:) org.apache.catalina.valves.remoteipvalve.invoke(remoteipvalve.java:) org.apache.catalina.core.standardhostvalve.invoke(standardhostvalve.java:) org.apache.catalina.valves.errorreportvalve.invoke(errorreportvalve.java:) org.apache.catalina.core.standardenginevalve.invoke(standardenginevalve.java:) org.apache.catalina.connector.coyoteadapter.service(coyoteadapter.java:) org.apache.coyote.http.httpprocessor.service(httpprocessor.java:) org.apache.coyote.abstractprocessorlight.process(abstractprocessorlight.java:) org.apache.coyote.abstractprotocol$connectionhandler.process(abstractprotocol.java:) org.apache.tomcat.util.net.nioendpoint$socketprocessor.dorun(nioendpoint.java:) org.apache.tomcat.util.net.socketprocessorbase.run(socketprocessorbase.java:) java.util.concurrent.threadpoolexecutor.runworker(threadpoolexecutor.java:) java.util.concurrent.threadpoolexecutor$worker.run(threadpoolexecutor.java:) org.apache.tomcat.util.threads.taskthread$wrappingrunnable.run(taskthread.java:) java.lang.thread.run(thread.java:)\n",
      "-1 record inserted.\n",
      "The best similarity value is ---> 0.0 for java.lang.exception: ariba.util.core.systemutil.stacktrace(systemutil.java:) ariba.base.core.basesessionimpl.setrealm(basesessionimpl.java:) ariba.user.htmlui.userssoauthenticator.setuprealmonsession(userssoauthenticator.java:) ariba.user.htmlui.userssoauthenticator.setuprealmonsession(userssoauthenticator.java:) ariba.ui.sso.ssoactions.loginpageactioninternal(ssoactions.java:) ariba.ui.sso.ssoactions.loginpageaction(ssoactions.java:) java.lang.reflect.method.invoke(method.java:) ariba.util.fieldvalue.reflectionmethodgetter.invokegetmethod(reflectionmethodgetter.java:) ariba.util.fieldvalue.reflectionmethodgetter.getvalue(reflectionmethodgetter.java:) ariba.util.fieldvalue.fieldvalue.getfieldvalue(fieldvalue.java:) ariba.ui.aribaweb.core.awdirectaction.performactionnamed(awdirectaction.java:) ariba.ui.aribaweb.core.awdirectactionrequesthandler.processaction(awdirectactionrequesthandler.java:) ariba.ui.aribaweb.core.awdirectactionrequesthandler.handlerequest(awdirectactionrequesthandler.java:) ariba.ui.aribaweb.core.awrequestcontext.handlerequest(awrequestcontext.java:) ariba.ui.aribaweb.core.awdirectactionrequesthandler.handlerequest(awdirectactionrequesthandler.java:) ariba.ui.aribaweb.core.awconcreteserverapplication.dispatchrequest(awconcreteserverapplication.java:) ariba.ui.aribaweb.core.awconcreteapplication.dispatchrequest(awconcreteapplication.java:) ariba.ui.servletadaptor.awdispatcherservlet.renderresponse(awdispatcherservlet.java:) ariba.ui.servletadaptor.awdispatcherservlet.aribawebdispatcher(awdispatcherservlet.java:) ariba.htmlui.buyer.dispatcherservlet.aribawebdispatcher(dispatcherservlet.java:) ariba.ui.servletadaptor.awdispatcherservlet.processrequest(awdispatcherservlet.java:) ariba.util.http.multitab.abstractmultitabhandler.handledefault(abstractmultitabhandler.java:) ariba.util.http.multitab.cookie.tabmanager.processrequest(tabmanager.java:) ariba.util.http.multitab.cookie.cookiebasedmultitabsupport.processrequest(cookiebasedmultitabsupport.java:) ariba.util.http.multitab.multitabutil.processrequest(multitabutil.java:) ariba.util.http.aribaservlet.wraprequest(aribaservlet.java:) ariba.util.http.aribaservlet.doget(aribaservlet.java:) ariba.util.http.loggingservlet.service(loggingservlet.java:) ariba.util.http.aribaservlet.service(aribaservlet.java:) org.apache.catalina.core.applicationfilterchain.internaldofilter(applicationfilterchain.java:) org.apache.catalina.core.applicationfilterchain.dofilter(applicationfilterchain.java:) org.apache.tomcat.websocket.server.wsfilter.dofilter(wsfilter.java:) org.apache.catalina.core.applicationfilterchain.internaldofilter(applicationfilterchain.java:) org.apache.catalina.core.applicationfilterchain.dofilter(applicationfilterchain.java:) ariba.base.server.basefilter.dofilter(basefilter.java:) org.apache.catalina.core.applicationfilterchain.internaldofilter(applicationfilterchain.java:) org.apache.catalina.core.applicationfilterchain.dofilter(applicationfilterchain.java:) org.apache.catalina.core.standardwrappervalve.invoke(standardwrappervalve.java:) org.apache.catalina.core.standardcontextvalve.invoke(standardcontextvalve.java:) org.apache.catalina.authenticator.authenticatorbase.invoke(authenticatorbase.java:) org.apache.catalina.valves.remoteipvalve.invoke(remoteipvalve.java:) org.apache.catalina.core.standardhostvalve.invoke(standardhostvalve.java:) org.apache.catalina.valves.errorreportvalve.invoke(errorreportvalve.java:) org.apache.catalina.core.standardenginevalve.invoke(standardenginevalve.java:) org.apache.catalina.connector.coyoteadapter.service(coyoteadapter.java:) org.apache.coyote.http.httpprocessor.service(httpprocessor.java:) org.apache.coyote.abstractprocessorlight.process(abstractprocessorlight.java:) org.apache.coyote.abstractprotocol$connectionhandler.process(abstractprotocol.java:) org.apache.tomcat.util.net.nioendpoint$socketprocessor.dorun(nioendpoint.java:) org.apache.tomcat.util.net.socketprocessorbase.run(socketprocessorbase.java:) java.util.concurrent.threadpoolexecutor.runworker(threadpoolexecutor.java:) java.util.concurrent.threadpoolexecutor$worker.run(threadpoolexecutor.java:) org.apache.tomcat.util.threads.taskthread$wrappingrunnable.run(taskthread.java:) java.lang.thread.run(thread.java:)\n",
      "-1 record inserted.\n",
      "The best similarity value is ---> 0.0 for java.lang.exception: ariba.util.core.systemutil.stacktrace(systemutil.java:) ariba.procure.core.procurelineitem.setparent(procurelineitem.java:) ariba.purchasing.core.reqlineitem.copycommonfields(reqlineitem.java:) ariba.purchasing.core.purchaseorder.copyreqlineitemintopolineitem(purchaseorder.java:) ariba.purchasing.core.purchaseorder.copyreqlineitem(purchaseorder.java:) ariba.purchasing.core.purchaseorder.addlineitem(purchaseorder.java:) ariba.purchasing.ordering.aribaordermethod.addchilditemstoorder(aribaordermethod.java:) ariba.purchasing.ordering.aribaordermethod.addchilditemstoorder(aribaordermethod.java:) ariba.purchasing.ordering.aribaordermethod.addlineitemtoorder(aribaordermethod.java:) ariba.purchasing.ordering.aribaordermethod.processlineitem(aribaordermethod.java:) ariba.purchasing.core.requisitionprocessor.processlineitems(requisitionprocessor.java:) ariba.purchasing.core.requisitionprocessor.orderrequisition(requisitionprocessor.java:) ariba.purchasing.core.action.orderrequisition.fire(orderrequisition.java:) ariba.base.fields.actionsite.fire(actionsite.java:) ariba.server.workflowserver.statedefinition.executeactions(statedefinition.java:) ariba.server.workflowserver.statedefinition.performentryactions(statedefinition.java:) ariba.server.workflowserver.transitiondefinition.considertransition(transitiondefinition.java:) ariba.server.workflowserver.workflowserver.processeventinternal(workflowserver.java:) ariba.server.workflowserver.workflowserver.processevent(workflowserver.java:) ariba.server.workflowserver.workflowservice.processevent(workflowservice.java:) ariba.server.workflowserver.workflowwork.processeventdetail(workflowwork.java:) ariba.base.server.baseeventhandler.processevent(baseeventhandler.java:) ariba.rpc.server.worker.dowork(worker.java:) ariba.rpc.server.worker.run(worker.java:) ariba.rpc.server.serverthread.run(serverthread.java:) ariba.base.server.objectserverthread.run(objectserverthread.java:) java.lang.thread.run(thread.java:)\n",
      "-1 record inserted.\n",
      "The best similarity value is ---> 0.0 for java.lang.exception: ariba.util.core.systemutil.stacktrace(systemutil.java:) ariba.util.core.assert.assertnonfatal(assert.java:) ariba.util.core.assert.assertfatal(assert.java:) ariba.util.core.assert.assertfatal(assert.java:) ariba.util.core.assert.that(assert.java:) ariba.base.core.baseserviceimpl.getparameterinternal(baseserviceimpl.java:) ariba.base.core.baseserviceimpl.getparameter(baseserviceimpl.java:) ariba.htmlui.buyer.buyerapplication.shouldredirecttoguidedbuy(buyerapplication.java:) ariba.htmlui.buyer.buyerapplication.gethomepage(buyerapplication.java:) ariba.htmlui.fieldsui.fieldsuiapplication.getcurrenthomepage(fieldsuiapplication.java:) ariba.htmlui.baseui.homeactionhandler.actionclicked(homeactionhandler.java:) ariba.ui.widgets.aribabackpage.backaction(aribabackpage.java:) java.lang.reflect.method.invoke(method.java:) ariba.util.fieldvalue.reflectionmethodgetter.invokegetmethod(reflectionmethodgetter.java:) ariba.util.fieldvalue.reflectionmethodgetter.getvalue(reflectionmethodgetter.java:) ariba.util.fieldvalue.fieldpath.getfieldvalue(fieldpath.java:) ariba.ui.aribaweb.core.awkeypathbinding.value(awbinding.java:) ariba.ui.aribaweb.core.awcomponent.valueforbinding(awcomponent.java:) ariba.ui.aribaweb.core.awgenericactiontag.evaluateactionbindings(awgenericactiontag.java:) ariba.ui.aribaweb.html.awhyperlink.invokeaction(awhyperlink.java:) java.lang.reflect.method.invoke(method.java:) ariba.util.fieldvalue.reflectionmethodgetter.invokegetmethod(reflectionmethodgetter.java:) ariba.util.fieldvalue.reflectionmethodgetter.getvalue(reflectionmethodgetter.java:) ariba.util.fieldvalue.fieldpath.getfieldvalue(fieldpath.java:) ariba.ui.aribaweb.core.awkeypathbinding.value(awbinding.java:) ariba.ui.aribaweb.core.awgenericelement.invokeaction(awgenericelement.java:) ariba.ui.aribaweb.core.awgenericcontainer.invokeaction(awgenericcontainer.java:) ariba.ui.aribaweb.core.awmetatemplateconditional.invokeaction(awmetatemplateconditional.java:) ariba.ui.aribaweb.core.awcontainerelement.invokeaction(awcontainerelement.java:) ariba.ui.aribaweb.core.awif$awifblock.invokeaction(awif.java:) ariba.ui.aribaweb.core.awif.invokeaction(awif.java:) ariba.ui.aribaweb.core.awcontainerelement.invokeaction(awcontainerelement.java:) ariba.ui.aribaweb.core.awif$awifblock.invokeaction(awif.java:) ariba.ui.aribaweb.core.awif.invokeaction(awif.java:) ariba.ui.aribaweb.core.awconcretetemplate.invokeaction(awconcretetemplate.java:) ariba.ui.aribaweb.core.awcomponent.invokeaction(awcomponent.java:) ariba.ui.aribaweb.core.awcomponentreference.invokeaction(awcomponentreference.java:) ariba.ui.aribaweb.core.awconcretetemplate.invokeaction(awconcretetemplate.java:) ariba.ui.aribaweb.core.awcontainerelement.invokeaction(awcontainerelement.java:) ariba.ui.aribaweb.core.awif$awifblock.invokeaction(awif.java:) ariba.ui.aribaweb.core.awif.invokeaction(awif.java:) ariba.ui.aribaweb.core.awconcretetemplate.invokeaction(awconcretetemplate.java:) ariba.ui.aribaweb.core.awcontainerelement.invokeaction(awcontainerelement.java:) ariba.ui.aribaweb.core.awconcretetemplate.invokeaction(awconcretetemplate.java:) ariba.ui.aribaweb.core.awcomponent.invokeaction(awcomponent.java:) ariba.ui.aribaweb.core.awcomponentreference.invokeaction(awcomponentreference.java:) ariba.ui.aribaweb.core.awconcretetemplate.invokeaction(awconcretetemplate.java:) ariba.ui.aribaweb.core.awincludecontent.invokeaction(awincludecontent.java:) ariba.ui.aribaweb.core.awcontainerelement.invokeaction(awcontainerelement.java:) ariba.ui.aribaweb.core.awif$awifblock.invokeaction(awif.java:) ariba.ui.aribaweb.core.awif.invokeaction(awif.java:) ariba.ui.aribaweb.core.awconcretetemplate.invokeaction(awconcretetemplate.java:) ariba.ui.aribaweb.core.awcomponent.invokeaction(awcomponent.java:) ariba.ui.aribaweb.core.awcomponentreference.invokeaction(awcomponentreference.java:) ariba.ui.aribaweb.core.awconcretetemplate.invokeaction(awconcretetemplate.java:) ariba.ui.aribaweb.core.awincludecontent.invokeaction(awincludecontent.java:) ariba.ui.aribaweb.core.awcontainerelement.invokeaction(awcontainerelement.java:) ariba.ui.aribaweb.core.awif$awifblock.invokeaction(awif.java:) ariba.ui.aribaweb.core.awif.invokeaction(awif.java:) ariba.ui.aribaweb.core.awconcretetemplate.invokeaction(awconcretetemplate.java:) ariba.ui.aribaweb.core.awcomponent.invokeaction(awcomponent.java:) ariba.ui.aribaweb.core.awcomponentreference.invokeaction(awcomponentreference.java:) ariba.ui.aribaweb.core.awconcretetemplate.invokeaction(awconcretetemplate.java:) ariba.ui.aribaweb.core.awincludecontent.invokeaction(awincludecontent.java:) ariba.ui.aribaweb.core.awcontainerelement.invokeaction(awcontainerelement.java:) ariba.ui.aribaweb.core.awif$awifblock.invokeaction(awif.java:) ariba.ui.aribaweb.core.awif.invokeaction(awif.java:) ariba.ui.aribaweb.core.awconcretetemplate.invokeaction(awconcretetemplate.java:) ariba.ui.aribaweb.core.awcomponent.invokeaction(awcomponent.java:) ariba.ui.aribaweb.core.awcomponentreference.invokeaction(awcomponentreference.java:) ariba.ui.aribaweb.core.awconcretetemplate.invokeaction(awconcretetemplate.java:) ariba.ui.aribaweb.core.awcontainerelement.invokeaction(awcontainerelement.java:) ariba.ui.aribaweb.core.awconcretetemplate.invokeaction(awconcretetemplate.java:) ariba.ui.aribaweb.core.awcontainerelement.invokeaction(awcontainerelement.java:) ariba.ui.aribaweb.core.awconcretetemplate.invokeaction(awconcretetemplate.java:) ariba.ui.aribaweb.core.awincludecontent.invokeaction(awincludecontent.java:) ariba.ui.aribaweb.core.awcontainerelement.invokeaction(awcontainerelement.java:) ariba.ui.aribaweb.core.awgenericcontainer.invokeaction(awgenericcontainer.java:) ariba.ui.aribaweb.core.awcontainerelement.invokeaction(awcontainerelement.java:) ariba.ui.aribaweb.core.awif$awifblock.invokeaction(awif.java:) ariba.ui.aribaweb.core.awif.invokeaction(awif.java:) ariba.ui.aribaweb.core.awconcretetemplate.invokeaction(awconcretetemplate.java:) ariba.ui.aribaweb.core.awcontainerelement.invokeaction(awcontainerelement.java:) ariba.ui.aribaweb.core.awif$awifblock.invokeaction(awif.java:) ariba.ui.aribaweb.core.awif.invokeaction(awif.java:) ariba.ui.aribaweb.core.awconcretetemplate.invokeaction(awconcretetemplate.java:) ariba.ui.aribaweb.core.awcomponent.invokeaction(awcomponent.java:) ariba.ui.aribaweb.core.awrefreshregion.invokeaction(awrefreshregion.java:) ariba.ui.aribaweb.core.awcomponentreference.invokeaction(awcomponentreference.java:) ariba.ui.aribaweb.core.awconcretetemplate.invokeaction(awconcretetemplate.java:) ariba.ui.aribaweb.core.awcomponent.invokeaction(awcomponent.java:) ariba.ui.aribaweb.core.awcomponentreference.invokeaction(awcomponentreference.java:) ariba.ui.aribaweb.core.awconcretetemplate.invokeaction(awconcretetemplate.java:) ariba.ui.aribaweb.core.awcontainerelement.invokeaction(awcontainerelement.java:) ariba.ui.aribaweb.core.awif$awifblock.invokeaction(awif.java:) ariba.ui.aribaweb.core.awif.invokeaction(awif.java:) ariba.ui.aribaweb.core.awincludecontent.invokeaction(awincludecontent.java:) ariba.ui.aribaweb.core.awconcretetemplate.invokeaction(awconcretetemplate.java:) ariba.ui.aribaweb.core.awincludecontent.invokeaction(awincludecontent.java:) ariba.ui.aribaweb.core.awcontainerelement.invokeaction(awcontainerelement.java:) ariba.ui.aribaweb.core.awif$awifblock.invokeaction(awif.java:) ariba.ui.aribaweb.core.awif.invokeaction(awif.java:) ariba.ui.aribaweb.core.awconcretetemplate.invokeaction(awconcretetemplate.java:) ariba.ui.aribaweb.core.awcomponent.invokeaction(awcomponent.java:) ariba.ui.aribaweb.html.awform.invokeaction(awform.java:) ariba.ui.aribaweb.core.awcomponentreference.invokeaction(awcomponentreference.java:) ariba.ui.aribaweb.core.awconcretetemplate.invokeaction(awconcretetemplate.java:) ariba.ui.aribaweb.core.awcontainerelement.invokeaction(awcontainerelement.java:) ariba.ui.aribaweb.core.awif$awifblock.invokeaction(awif.java:) ariba.ui.aribaweb.core.awif.invokeaction(awif.java:) ariba.ui.aribaweb.core.awconcretetemplate.invokeaction(awconcretetemplate.java:) ariba.ui.aribaweb.core.awcomponent.invokeaction(awcomponent.java:) ariba.ui.aribaweb.core.awcomponentreference.invokeaction(awcomponentreference.java:) ariba.ui.aribaweb.core.awconcretetemplate.invokeaction(awconcretetemplate.java:) ariba.ui.aribaweb.core.awincludecontent.invokeaction(awincludecontent.java:) ariba.ui.aribaweb.core.awcontainerelement.invokeaction(awcontainerelement.java:) ariba.ui.aribaweb.core.awgenericcontainer.invokeaction(awgenericcontainer.java:) ariba.ui.aribaweb.core.awcontainerelement.invokeaction(awcontainerelement.java:) ariba.ui.aribaweb.core.awif$awifblock.invokeaction(awif.java:) ariba.ui.aribaweb.core.awif.invokeaction(awif.java:) ariba.ui.aribaweb.core.awconcretetemplate.invokeaction(awconcretetemplate.java:) ariba.ui.aribaweb.core.awcontainerelement.invokeaction(awcontainerelement.java:) ariba.ui.aribaweb.core.awif$awifblock.invokeaction(awif.java:) ariba.ui.aribaweb.core.awif.invokeaction(awif.java:) ariba.ui.aribaweb.core.awconcretetemplate.invokeaction(awconcretetemplate.java:) ariba.ui.aribaweb.core.awcomponent.invokeaction(awcomponent.java:) ariba.ui.aribaweb.core.awrefreshregion.invokeaction(awrefreshregion.java:) ariba.ui.aribaweb.core.awcomponentreference.invokeaction(awcomponentreference.java:) ariba.ui.aribaweb.core.awconcretetemplate.invokeaction(awconcretetemplate.java:) ariba.ui.aribaweb.core.awincludecontent.invokeaction(awincludecontent.java:) ariba.ui.aribaweb.core.awconcretetemplate.invokeaction(awconcretetemplate.java:) ariba.ui.aribaweb.core.awcontainerelement.invokeaction(awcontainerelement.java:) ariba.ui.aribaweb.core.awgenericcontainer.invokeaction(awgenericcontainer.java:) ariba.ui.aribaweb.core.awconcretetemplate.invokeaction(awconcretetemplate.java:) ariba.ui.aribaweb.core.awcomponent.invokeaction(awcomponent.java:) ariba.ui.aribaweb.core.awcomponentreference.invokeaction(awcomponentreference.java:) ariba.ui.aribaweb.core.awconcretetemplate.invokeaction(awconcretetemplate.java:) ariba.ui.aribaweb.core.awincludecontent.invokeaction(awincludecontent.java:) ariba.ui.aribaweb.core.awcontainerelement.invokeaction(awcontainerelement.java:) ariba.ui.aribaweb.core.awgenericcontainer.invokeaction(awgenericcontainer.java:) ariba.ui.aribaweb.core.awconcretetemplate.invokeaction(awconcretetemplate.java:) ariba.ui.aribaweb.core.awcomponent.invokeaction(awcomponent.java:) ariba.ui.aribaweb.core.awcomponentreference.invokeaction(awcomponentreference.java:) ariba.ui.aribaweb.core.awcontainerelement.invokeaction(awcontainerelement.java:) ariba.ui.aribaweb.core.awenvironment.invokeaction(awenvironment.java:) ariba.ui.aribaweb.core.awconcretetemplate.invokeaction(awconcretetemplate.java:) ariba.ui.aribaweb.core.awcontainerelement.invokeaction(awcontainerelement.java:) ariba.ui.aribaweb.core.awif$awifblock.invokeaction(awif.java:) ariba.ui.aribaweb.core.awif.invokeaction(awif.java:) ariba.ui.aribaweb.core.awconcretetemplate.invokeaction(awconcretetemplate.java:) ariba.ui.aribaweb.core.awcomponent.invokeaction(awcomponent.java:) ariba.ui.aribaweb.core.awcomponentreference.invokeaction(awcomponentreference.java:) ariba.ui.aribaweb.core.awconcretetemplate.invokeaction(awconcretetemplate.java:) ariba.ui.aribaweb.core.awcomponent.invokeaction(awcomponent.java:) ariba.ui.aribaui.awxcomponent.invokeactionforrequest(awxcomponent.java:) ariba.ui.aribaui.awxcomponentreference.invokeaction(awxcomponentreference.java:) ariba.ui.aribaweb.core.awconcretetemplate.invokeaction(awconcretetemplate.java:) ariba.ui.aribaweb.core.awcomponent.invokeaction(awcomponent.java:) ariba.ui.aribaui.awxcomponent.invokeactionforrequest(awxcomponent.java:) ariba.htmlui.fieldsui.arppage.invokeactionforrequest(arppage.java:) ariba.ui.aribaweb.core.awpage.invokeaction(awpage.java:) ariba.ui.aribaweb.core.awrequestcontext.invokeactionforrequest(awrequestcontext.java:) ariba.ui.aribaweb.core.awcomponentactionrequesthandler.handlerequest(awcomponentactionrequesthandler.java:) ariba.ui.aribaweb.core.awrequestcontext.handlerequest(awrequestcontext.java:) ariba.ui.aribaweb.core.awcomponentactionrequesthandler.handlerequest(awcomponentactionrequesthandler.java:) ariba.ui.aribaweb.core.awconcreteserverapplication.dispatchrequest(awconcreteserverapplication.java:) ariba.ui.aribaweb.core.awconcreteapplication.dispatchrequest(awconcreteapplication.java:) ariba.ui.servletadaptor.awdispatcherservlet.renderresponse(awdispatcherservlet.java:) ariba.ui.servletadaptor.awdispatcherservlet.aribawebdispatcher(awdispatcherservlet.java:) ariba.htmlui.buyer.dispatcherservlet.aribawebdispatcher(dispatcherservlet.java:) ariba.ui.servletadaptor.awdispatcherservlet.processrequest(awdispatcherservlet.java:) ariba.util.http.multitab.abstractmultitabhandler.handledefault(abstractmultitabhandler.java:) ariba.util.http.multitab.cookie.tabmanager.processrequest(tabmanager.java:) ariba.util.http.multitab.cookie.cookiebasedmultitabsupport.processrequest(cookiebasedmultitabsupport.java:) ariba.util.http.multitab.multitabutil.processrequest(multitabutil.java:) ariba.util.http.aribaservlet.wraprequest(aribaservlet.java:) ariba.util.http.aribaservlet.doget(aribaservlet.java:) ariba.util.http.loggingservlet.service(loggingservlet.java:) ariba.util.http.aribaservlet.service(aribaservlet.java:) org.apache.catalina.core.applicationfilterchain.internaldofilter(applicationfilterchain.java:) org.apache.catalina.core.applicationfilterchain.dofilter(applicationfilterchain.java:) org.apache.tomcat.websocket.server.wsfilter.dofilter(wsfilter.java:) org.apache.catalina.core.applicationfilterchain.internaldofilter(applicationfilterchain.java:) org.apache.catalina.core.applicationfilterchain.dofilter(applicationfilterchain.java:) ariba.base.server.basefilter.dofilter(basefilter.java:) org.apache.catalina.core.applicationfilterchain.internaldofilter(applicationfilterchain.java:) org.apache.catalina.core.applicationfilterchain.dofilter(applicationfilterchain.java:) org.apache.catalina.core.standardwrappervalve.invoke(standardwrappervalve.java:) org.apache.catalina.core.standardcontextvalve.invoke(standardcontextvalve.java:) org.apache.catalina.authenticator.authenticatorbase.invoke(authenticatorbase.java:) org.apache.catalina.valves.remoteipvalve.invoke(remoteipvalve.java:) org.apache.catalina.core.standardhostvalve.invoke(standardhostvalve.java:) org.apache.catalina.valves.errorreportvalve.invoke(errorreportvalve.java:) org.apache.catalina.core.standardenginevalve.invoke(standardenginevalve.java:) org.apache.catalina.connector.coyoteadapter.service(coyoteadapter.java:) org.apache.coyote.http.httpprocessor.service(httpprocessor.java:) org.apache.coyote.abstractprocessorlight.process(abstractprocessorlight.java:) org.apache.coyote.abstractprotocol$connectionhandler.process(abstractprotocol.java:) org.apache.tomcat.util.net.nioendpoint$socketprocessor.dorun(nioendpoint.java:) org.apache.tomcat.util.net.socketprocessorbase.run(socketprocessorbase.java:) java.util.concurrent.threadpoolexecutor.runworker(threadpoolexecutor.java:) java.util.concurrent.threadpoolexecutor$worker.run(threadpoolexecutor.java:) org.apache.tomcat.util.threads.taskthread$wrappingrunnable.run(taskthread.java:) java.lang.thread.run(thread.java:)\n",
      "-1 record inserted.\n",
      "The best similarity value is ---> 0.0 for java.lang.exception: ariba.util.core.systemutil.stacktrace(systemutil.java:) ariba.util.core.assert.assertnonfatal(assert.java:) ariba.util.core.assert.assertfatal(assert.java:) ariba.util.core.assert.assertfatal(assert.java:) ariba.util.core.assert.that(assert.java:) ariba.base.core.baseserviceimpl.getparameterinternal(baseserviceimpl.java:) ariba.base.core.baseserviceimpl.getparameter(baseserviceimpl.java:) ariba.htmlui.buyer.buyerapplication.shouldredirecttoguidedbuy(buyerapplication.java:) ariba.htmlui.buyer.buyerapplication.gethomepage(buyerapplication.java:) ariba.htmlui.fieldsui.fieldsuiapplication.getcurrenthomepage(fieldsuiapplication.java:) ariba.htmlui.baseui.homeactionhandler.actionclicked(homeactionhandler.java:) ariba.ui.widgets.aribabackpage.backaction(aribabackpage.java:) java.lang.reflect.method.invoke(method.java:) ariba.util.fieldvalue.reflectionmethodgetter.invokegetmethod(reflectionmethodgetter.java:) ariba.util.fieldvalue.reflectionmethodgetter.getvalue(reflectionmethodgetter.java:) ariba.util.fieldvalue.fieldpath.getfieldvalue(fieldpath.java:) ariba.ui.aribaweb.core.awkeypathbinding.value(awbinding.java:) ariba.ui.aribaweb.core.awcomponent.valueforbinding(awcomponent.java:) ariba.ui.aribaweb.core.awgenericactiontag.evaluateactionbindings(awgenericactiontag.java:) ariba.ui.aribaweb.html.awhyperlink.invokeaction(awhyperlink.java:) java.lang.reflect.method.invoke(method.java:) ariba.util.fieldvalue.reflectionmethodgetter.invokegetmethod(reflectionmethodgetter.java:) ariba.util.fieldvalue.reflectionmethodgetter.getvalue(reflectionmethodgetter.java:) ariba.util.fieldvalue.fieldpath.getfieldvalue(fieldpath.java:) ariba.ui.aribaweb.core.awkeypathbinding.value(awbinding.java:) ariba.ui.aribaweb.core.awgenericelement.invokeaction(awgenericelement.java:) ariba.ui.aribaweb.core.awgenericcontainer.invokeaction(awgenericcontainer.java:) ariba.ui.aribaweb.core.awmetatemplateconditional.invokeaction(awmetatemplateconditional.java:) ariba.ui.aribaweb.core.awcontainerelement.invokeaction(awcontainerelement.java:) ariba.ui.aribaweb.core.awif$awifblock.invokeaction(awif.java:) ariba.ui.aribaweb.core.awif.invokeaction(awif.java:) ariba.ui.aribaweb.core.awcontainerelement.invokeaction(awcontainerelement.java:) ariba.ui.aribaweb.core.awif$awifblock.invokeaction(awif.java:) ariba.ui.aribaweb.core.awif.invokeaction(awif.java:) ariba.ui.aribaweb.core.awconcretetemplate.invokeaction(awconcretetemplate.java:) ariba.ui.aribaweb.core.awcomponent.invokeaction(awcomponent.java:) ariba.ui.aribaweb.core.awcomponentreference.invokeaction(awcomponentreference.java:) ariba.ui.aribaweb.core.awconcretetemplate.invokeaction(awconcretetemplate.java:) ariba.ui.aribaweb.core.awcontainerelement.invokeaction(awcontainerelement.java:) ariba.ui.aribaweb.core.awif$awifblock.invokeaction(awif.java:) ariba.ui.aribaweb.core.awif.invokeaction(awif.java:) ariba.ui.aribaweb.core.awconcretetemplate.invokeaction(awconcretetemplate.java:) ariba.ui.aribaweb.core.awcontainerelement.invokeaction(awcontainerelement.java:) ariba.ui.aribaweb.core.awconcretetemplate.invokeaction(awconcretetemplate.java:) ariba.ui.aribaweb.core.awcomponent.invokeaction(awcomponent.java:) ariba.ui.aribaweb.core.awcomponentreference.invokeaction(awcomponentreference.java:) ariba.ui.aribaweb.core.awconcretetemplate.invokeaction(awconcretetemplate.java:) ariba.ui.aribaweb.core.awincludecontent.invokeaction(awincludecontent.java:) ariba.ui.aribaweb.core.awcontainerelement.invokeaction(awcontainerelement.java:) ariba.ui.aribaweb.core.awif$awifblock.invokeaction(awif.java:) ariba.ui.aribaweb.core.awif.invokeaction(awif.java:) ariba.ui.aribaweb.core.awconcretetemplate.invokeaction(awconcretetemplate.java:) ariba.ui.aribaweb.core.awcomponent.invokeaction(awcomponent.java:) ariba.ui.aribaweb.core.awcomponentreference.invokeaction(awcomponentreference.java:) ariba.ui.aribaweb.core.awconcretetemplate.invokeaction(awconcretetemplate.java:) ariba.ui.aribaweb.core.awincludecontent.invokeaction(awincludecontent.java:) ariba.ui.aribaweb.core.awcontainerelement.invokeaction(awcontainerelement.java:) ariba.ui.aribaweb.core.awif$awifblock.invokeaction(awif.java:) ariba.ui.aribaweb.core.awif.invokeaction(awif.java:) ariba.ui.aribaweb.core.awconcretetemplate.invokeaction(awconcretetemplate.java:) ariba.ui.aribaweb.core.awcomponent.invokeaction(awcomponent.java:) ariba.ui.aribaweb.core.awcomponentreference.invokeaction(awcomponentreference.java:) ariba.ui.aribaweb.core.awconcretetemplate.invokeaction(awconcretetemplate.java:) ariba.ui.aribaweb.core.awincludecontent.invokeaction(awincludecontent.java:) ariba.ui.aribaweb.core.awcontainerelement.invokeaction(awcontainerelement.java:) ariba.ui.aribaweb.core.awif$awifblock.invokeaction(awif.java:) ariba.ui.aribaweb.core.awif.invokeaction(awif.java:) ariba.ui.aribaweb.core.awconcretetemplate.invokeaction(awconcretetemplate.java:) ariba.ui.aribaweb.core.awcomponent.invokeaction(awcomponent.java:) ariba.ui.aribaweb.core.awcomponentreference.invokeaction(awcomponentreference.java:) ariba.ui.aribaweb.core.awconcretetemplate.invokeaction(awconcretetemplate.java:) ariba.ui.aribaweb.core.awcontainerelement.invokeaction(awcontainerelement.java:) ariba.ui.aribaweb.core.awconcretetemplate.invokeaction(awconcretetemplate.java:) ariba.ui.aribaweb.core.awcontainerelement.invokeaction(awcontainerelement.java:) ariba.ui.aribaweb.core.awconcretetemplate.invokeaction(awconcretetemplate.java:) ariba.ui.aribaweb.core.awincludecontent.invokeaction(awincludecontent.java:) ariba.ui.aribaweb.core.awcontainerelement.invokeaction(awcontainerelement.java:) ariba.ui.aribaweb.core.awgenericcontainer.invokeaction(awgenericcontainer.java:) ariba.ui.aribaweb.core.awcontainerelement.invokeaction(awcontainerelement.java:) ariba.ui.aribaweb.core.awif$awifblock.invokeaction(awif.java:) ariba.ui.aribaweb.core.awif.invokeaction(awif.java:) ariba.ui.aribaweb.core.awconcretetemplate.invokeaction(awconcretetemplate.java:) ariba.ui.aribaweb.core.awcontainerelement.invokeaction(awcontainerelement.java:) ariba.ui.aribaweb.core.awif$awifblock.invokeaction(awif.java:) ariba.ui.aribaweb.core.awif.invokeaction(awif.java:) ariba.ui.aribaweb.core.awconcretetemplate.invokeaction(awconcretetemplate.java:) ariba.ui.aribaweb.core.awcomponent.invokeaction(awcomponent.java:) ariba.ui.aribaweb.core.awrefreshregion.invokeaction(awrefreshregion.java:) ariba.ui.aribaweb.core.awcomponentreference.invokeaction(awcomponentreference.java:) ariba.ui.aribaweb.core.awconcretetemplate.invokeaction(awconcretetemplate.java:) ariba.ui.aribaweb.core.awcomponent.invokeaction(awcomponent.java:) ariba.ui.aribaweb.core.awcomponentreference.invokeaction(awcomponentreference.java:) ariba.ui.aribaweb.core.awconcretetemplate.invokeaction(awconcretetemplate.java:) ariba.ui.aribaweb.core.awcontainerelement.invokeaction(awcontainerelement.java:) ariba.ui.aribaweb.core.awif$awifblock.invokeaction(awif.java:) ariba.ui.aribaweb.core.awif.invokeaction(awif.java:) ariba.ui.aribaweb.core.awincludecontent.invokeaction(awincludecontent.java:) ariba.ui.aribaweb.core.awconcretetemplate.invokeaction(awconcretetemplate.java:) ariba.ui.aribaweb.core.awincludecontent.invokeaction(awincludecontent.java:) ariba.ui.aribaweb.core.awcontainerelement.invokeaction(awcontainerelement.java:) ariba.ui.aribaweb.core.awif$awifblock.invokeaction(awif.java:) ariba.ui.aribaweb.core.awif.invokeaction(awif.java:) ariba.ui.aribaweb.core.awconcretetemplate.invokeaction(awconcretetemplate.java:) ariba.ui.aribaweb.core.awcomponent.invokeaction(awcomponent.java:) ariba.ui.aribaweb.html.awform.invokeaction(awform.java:) ariba.ui.aribaweb.core.awcomponentreference.invokeaction(awcomponentreference.java:) ariba.ui.aribaweb.core.awconcretetemplate.invokeaction(awconcretetemplate.java:) ariba.ui.aribaweb.core.awcontainerelement.invokeaction(awcontainerelement.java:) ariba.ui.aribaweb.core.awif$awifblock.invokeaction(awif.java:) ariba.ui.aribaweb.core.awif.invokeaction(awif.java:) ariba.ui.aribaweb.core.awconcretetemplate.invokeaction(awconcretetemplate.java:) ariba.ui.aribaweb.core.awcomponent.invokeaction(awcomponent.java:) ariba.ui.aribaweb.core.awcomponentreference.invokeaction(awcomponentreference.java:) ariba.ui.aribaweb.core.awconcretetemplate.invokeaction(awconcretetemplate.java:) ariba.ui.aribaweb.core.awincludecontent.invokeaction(awincludecontent.java:) ariba.ui.aribaweb.core.awcontainerelement.invokeaction(awcontainerelement.java:) ariba.ui.aribaweb.core.awgenericcontainer.invokeaction(awgenericcontainer.java:) ariba.ui.aribaweb.core.awcontainerelement.invokeaction(awcontainerelement.java:) ariba.ui.aribaweb.core.awif$awifblock.invokeaction(awif.java:) ariba.ui.aribaweb.core.awif.invokeaction(awif.java:) ariba.ui.aribaweb.core.awconcretetemplate.invokeaction(awconcretetemplate.java:) ariba.ui.aribaweb.core.awcontainerelement.invokeaction(awcontainerelement.java:) ariba.ui.aribaweb.core.awif$awifblock.invokeaction(awif.java:) ariba.ui.aribaweb.core.awif.invokeaction(awif.java:) ariba.ui.aribaweb.core.awconcretetemplate.invokeaction(awconcretetemplate.java:) ariba.ui.aribaweb.core.awcomponent.invokeaction(awcomponent.java:) ariba.ui.aribaweb.core.awrefreshregion.invokeaction(awrefreshregion.java:) ariba.ui.aribaweb.core.awcomponentreference.invokeaction(awcomponentreference.java:) ariba.ui.aribaweb.core.awconcretetemplate.invokeaction(awconcretetemplate.java:) ariba.ui.aribaweb.core.awincludecontent.invokeaction(awincludecontent.java:) ariba.ui.aribaweb.core.awconcretetemplate.invokeaction(awconcretetemplate.java:) ariba.ui.aribaweb.core.awcontainerelement.invokeaction(awcontainerelement.java:) ariba.ui.aribaweb.core.awgenericcontainer.invokeaction(awgenericcontainer.java:) ariba.ui.aribaweb.core.awconcretetemplate.invokeaction(awconcretetemplate.java:) ariba.ui.aribaweb.core.awcomponent.invokeaction(awcomponent.java:) ariba.ui.aribaweb.core.awcomponentreference.invokeaction(awcomponentreference.java:) ariba.ui.aribaweb.core.awconcretetemplate.invokeaction(awconcretetemplate.java:) ariba.ui.aribaweb.core.awincludecontent.invokeaction(awincludecontent.java:) ariba.ui.aribaweb.core.awcontainerelement.invokeaction(awcontainerelement.java:) ariba.ui.aribaweb.core.awgenericcontainer.invokeaction(awgenericcontainer.java:) ariba.ui.aribaweb.core.awconcretetemplate.invokeaction(awconcretetemplate.java:) ariba.ui.aribaweb.core.awcomponent.invokeaction(awcomponent.java:) ariba.ui.aribaweb.core.awcomponentreference.invokeaction(awcomponentreference.java:) ariba.ui.aribaweb.core.awcontainerelement.invokeaction(awcontainerelement.java:) ariba.ui.aribaweb.core.awenvironment.invokeaction(awenvironment.java:) ariba.ui.aribaweb.core.awconcretetemplate.invokeaction(awconcretetemplate.java:) ariba.ui.aribaweb.core.awcontainerelement.invokeaction(awcontainerelement.java:) ariba.ui.aribaweb.core.awif$awifblock.invokeaction(awif.java:) ariba.ui.aribaweb.core.awif.invokeaction(awif.java:) ariba.ui.aribaweb.core.awconcretetemplate.invokeaction(awconcretetemplate.java:) ariba.ui.aribaweb.core.awcomponent.invokeaction(awcomponent.java:) ariba.ui.aribaweb.core.awcomponentreference.invokeaction(awcomponentreference.java:) ariba.ui.aribaweb.core.awconcretetemplate.invokeaction(awconcretetemplate.java:) ariba.ui.aribaweb.core.awcomponent.invokeaction(awcomponent.java:) ariba.ui.aribaui.awxcomponent.invokeactionforrequest(awxcomponent.java:) ariba.ui.aribaui.awxcomponentreference.invokeaction(awxcomponentreference.java:) ariba.ui.aribaweb.core.awconcretetemplate.invokeaction(awconcretetemplate.java:) ariba.ui.aribaweb.core.awcomponent.invokeaction(awcomponent.java:) ariba.ui.aribaweb.core.awpage.invokeaction(awpage.java:) ariba.ui.aribaweb.core.awrequestcontext.invokeactionforrequest(awrequestcontext.java:) ariba.ui.aribaweb.core.awcomponentactionrequesthandler.handlerequest(awcomponentactionrequesthandler.java:) ariba.ui.aribaweb.core.awrequestcontext.handlerequest(awrequestcontext.java:) ariba.ui.aribaweb.core.awcomponentactionrequesthandler.handlerequest(awcomponentactionrequesthandler.java:) ariba.ui.aribaweb.core.awconcreteserverapplication.dispatchrequest(awconcreteserverapplication.java:) ariba.ui.aribaweb.core.awconcreteapplication.dispatchrequest(awconcreteapplication.java:) ariba.ui.servletadaptor.awdispatcherservlet.renderresponse(awdispatcherservlet.java:) ariba.ui.servletadaptor.awdispatcherservlet.aribawebdispatcher(awdispatcherservlet.java:) ariba.htmlui.buyer.dispatcherservlet.aribawebdispatcher(dispatcherservlet.java:) ariba.ui.servletadaptor.awdispatcherservlet.processrequest(awdispatcherservlet.java:) ariba.util.http.multitab.abstractmultitabhandler.handledefault(abstractmultitabhandler.java:) ariba.util.http.multitab.cookie.tabmanager.processrequest(tabmanager.java:) ariba.util.http.multitab.cookie.cookiebasedmultitabsupport.processrequest(cookiebasedmultitabsupport.java:) ariba.util.http.multitab.multitabutil.processrequest(multitabutil.java:) ariba.util.http.aribaservlet.wraprequest(aribaservlet.java:) ariba.util.http.aribaservlet.doget(aribaservlet.java:) ariba.util.http.loggingservlet.service(loggingservlet.java:) ariba.util.http.aribaservlet.service(aribaservlet.java:) org.apache.catalina.core.applicationfilterchain.internaldofilter(applicationfilterchain.java:) org.apache.catalina.core.applicationfilterchain.dofilter(applicationfilterchain.java:) org.apache.tomcat.websocket.server.wsfilter.dofilter(wsfilter.java:) org.apache.catalina.core.applicationfilterchain.internaldofilter(applicationfilterchain.java:) org.apache.catalina.core.applicationfilterchain.dofilter(applicationfilterchain.java:) ariba.base.server.basefilter.dofilter(basefilter.java:) org.apache.catalina.core.applicationfilterchain.internaldofilter(applicationfilterchain.java:) org.apache.catalina.core.applicationfilterchain.dofilter(applicationfilterchain.java:) org.apache.catalina.core.standardwrappervalve.invoke(standardwrappervalve.java:) org.apache.catalina.core.standardcontextvalve.invoke(standardcontextvalve.java:) org.apache.catalina.authenticator.authenticatorbase.invoke(authenticatorbase.java:) org.apache.catalina.valves.remoteipvalve.invoke(remoteipvalve.java:) org.apache.catalina.core.standardhostvalve.invoke(standardhostvalve.java:) org.apache.catalina.valves.errorreportvalve.invoke(errorreportvalve.java:) org.apache.catalina.core.standardenginevalve.invoke(standardenginevalve.java:) org.apache.catalina.connector.coyoteadapter.service(coyoteadapter.java:) org.apache.coyote.http.httpprocessor.service(httpprocessor.java:) org.apache.coyote.abstractprocessorlight.process(abstractprocessorlight.java:) org.apache.coyote.abstractprotocol$connectionhandler.process(abstractprotocol.java:) org.apache.tomcat.util.net.nioendpoint$socketprocessor.dorun(nioendpoint.java:) org.apache.tomcat.util.net.socketprocessorbase.run(socketprocessorbase.java:) java.util.concurrent.threadpoolexecutor.runworker(threadpoolexecutor.java:) java.util.concurrent.threadpoolexecutor$worker.run(threadpoolexecutor.java:) org.apache.tomcat.util.threads.taskthread$wrappingrunnable.run(taskthread.java:) java.lang.thread.run(thread.java:)\n",
      "-1 record inserted.\n",
      "The best similarity value is ---> 0.0 for java.lang.exception: ariba.util.core.systemutil.stacktrace(systemutil.java:) ariba.util.core.assert.assertnonfatal(assert.java:) ariba.util.core.assert.assertnonfatal(assert.java:) ariba.util.core.assert.assertnonfatal(assert.java:) ariba.base.core.aql.aqlresultcollection.<init>(aqlresultcollection.java:) ariba.base.server.aql.aqlqueryplan.executequery(aqlqueryplan.java:) ariba.base.server.aql.aqlsqlobjectsource.dogenerateexecutequery(aqlsqlobjectsource.java:) ariba.base.server.aql.aqlsqlobjectsource.generateexecutequery(aqlsqlobjectsource.java:) ariba.base.core.aql.aqlobjectsourceimpl.validategenerateexecutequery(aqlobjectsourceimpl.java:) ariba.base.core.aql.aqlobjectsourceimpl.executequery(aqlobjectsourceimpl.java:) ariba.base.server.baseserviceserverimpl.objectsmatching(baseserviceserverimpl.java:) ariba.basic.core.distinctclassificationmappings.getpopulateidentityquery(distinctclassificationmappings.java:) ariba.basic.core.distinctclassificationmappings.getpopulatedidentityvmfromcommoditycode(distinctclassificationmappings.java:) ariba.basic.core.distinctclassificationmappings.getvaluemap(distinctclassificationmappings.java:) ariba.basic.core.classificationcodemanager.getvaluemapfrompossibleflyweight(classificationcodemanager.java:) ariba.basic.core.classificationcodemanager.getvaluemap(classificationcodemanager.java:) ariba.catalog.basevalidation.validation.commoditycode.commodityvalidator.validate(commodityvalidator.java:) ariba.catalog.basevalidation.validation.validationnode.validate(validationnode.java:) ariba.catalog.basevalidation.validation.validationserviceimpl.semanticallyvalidatetypecollection(validationserviceimpl.java:) ariba.catalog.basevalidation.validation.validationserviceimpl.validatecollectiondriver(validationserviceimpl.java:) ariba.catalog.basevalidation.validation.validationserviceimpl.validatecomplextype(validationserviceimpl.java:) ariba.catalog.basevalidation.validation.validationserviceimpl.validatecomplextypedriver(validationserviceimpl.java:) ariba.catalog.basevalidation.validation.validationserviceimpl.validate(validationserviceimpl.java:) ariba.catalog.admin.server.supplierdmserverservice.validatepartialitem(supplierdmserverservice.java:) ariba.catalog.admin.core.adminextendedcatalogbaseserviceimpl.validatepartialitem(adminextendedcatalogbaseserviceimpl.java:) ariba.catalog.base.partialitemstate.getpartialitemvalidationerrors(partialitemstate.java:) ariba.catalog.base.partialitemstate.gethaserrors(partialitemstate.java:) ariba.catalog.base.partialitemstate.getmustpartialitemeditatleastonce(partialitemstate.java:) ariba.catalog.searchui.common.components.arccatalogsearchbase.ispartialitem(arccatalogsearchbase.java:) java.lang.reflect.method.invoke(method.java:) ariba.util.fieldvalue.reflectionmethodgetter.invokegetmethod(reflectionmethodgetter.java:) ariba.util.fieldvalue.reflectionmethodgetter.getvalue(reflectionmethodgetter.java:) ariba.util.fieldvalue.fieldpath.getfieldvalue(fieldpath.java:) ariba.util.expr.astproperty.getvaluebody(astproperty.java:) ariba.util.expr.simplenode.evaluategetvaluebody(simplenode.java:) ariba.util.expr.simplenode.getvalue(simplenode.java:) ariba.util.expr.astand.getvaluebody(astand.java:) ariba.util.expr.simplenode.evaluategetvaluebody(simplenode.java:) ariba.util.expr.simplenode.getvalue(simplenode.java:) ariba.util.expr.expr.getvalue(expr.java:) ariba.util.expr.expr.getvalue(expr.java:) ariba.util.expr.aribaexprevaluator$expression.evaluate(aribaexprevaluator.java:) ariba.ui.aribaweb.core.awexpressionbinding.value(awbinding.java:) ariba.ui.aribaweb.core.awif.evaluateconditionincomponent(awif.java:) ariba.ui.aribaweb.core.awif$awifblock.evaluateconditionincomponent(awif.java:) ariba.ui.aribaweb.core.awif.renderresponse(awif.java:) ariba.ui.aribaweb.core.awconcretetemplate.renderresponse(awconcretetemplate.java:) ariba.ui.aribaweb.core.awcontainerelement.renderresponse(awcontainerelement.java:) ariba.ui.aribaweb.core.awif.renderresponse(awif.java:) ariba.ui.aribaweb.core.awconcretetemplate.renderresponse(awconcretetemplate.java:) ariba.ui.aribaweb.core.awcontainerelement.renderresponse(awcontainerelement.java:) ariba.ui.aribaweb.core.awgenericcontainer.renderresponse(awgenericcontainer.java:) ariba.ui.aribaweb.core.awconcretetemplate.renderresponse(awconcretetemplate.java:) ariba.ui.aribaweb.core.awcomponent.renderresponse(awcomponent.java:) ariba.ui.aribaui.awxcomponent.appendtoresponse(awxcomponent.java:) ariba.catalog.searchui.common.components.arccatalogsearchbase.appendtoresponse(arccatalogsearchbase.java:) ariba.catalog.searchui.common.components.arccatalogcarouselitem.appendtoresponse(arccatalogcarouselitem.java:) ariba.ui.aribaui.awxcomponentreference.renderresponse(awxcomponentreference.java:) ariba.ui.aribaweb.core.awincludecontent.renderresponse(awincludecontent.java:) ariba.ui.aribaweb.core.awcontainerelement.renderresponse(awcontainerelement.java:) ariba.ui.aribaweb.core.awtaggedcontainer.appendbody(awtaggedcontainer.java:) ariba.ui.aribaweb.core.awtaggedcontainer.renderresponse(awtaggedcontainer.java:) ariba.ui.aribaweb.core.awconcretetemplate.renderresponse(awconcretetemplate.java:) ariba.ui.aribaweb.core.awcontainerelement.renderresponse(awcontainerelement.java:) ariba.ui.aribaweb.core.awfor.renderresponse(awfor.java:) ariba.ui.aribaweb.core.awconcretetemplate.renderresponse(awconcretetemplate.java:) ariba.ui.aribaweb.core.awcontainerelement.renderresponse(awcontainerelement.java:) ariba.ui.aribaweb.core.awgenericcontainer.renderresponse(awgenericcontainer.java:) ariba.ui.aribaweb.core.awconcretetemplate.renderresponse(awconcretetemplate.java:) ariba.ui.aribaweb.core.awcontainerelement.renderresponse(awcontainerelement.java:) ariba.ui.aribaweb.core.awif.renderresponse(awif.java:) ariba.ui.aribaweb.core.awconcretetemplate.renderresponse(awconcretetemplate.java:) ariba.ui.aribaweb.core.awincludecontent.renderresponse(awincludecontent.java:) ariba.ui.aribaweb.core.awcontainerelement.renderresponse(awcontainerelement.java:) ariba.ui.aribaweb.core.awgenericcontainer.renderresponse(awgenericcontainer.java:) ariba.ui.aribaweb.core.awcontainerelement.renderresponse(awcontainerelement.java:) ariba.ui.aribaweb.core.awif.renderresponse(awif.java:) ariba.ui.aribaweb.core.awconcretetemplate.renderresponse(awconcretetemplate.java:) ariba.ui.aribaweb.core.awcontainerelement.renderresponse(awcontainerelement.java:) ariba.ui.aribaweb.core.awif.renderresponse(awif.java:) ariba.ui.aribaweb.core.awconcretetemplate.renderresponse(awconcretetemplate.java:) ariba.ui.aribaweb.core.awcomponent.renderresponse(awcomponent.java:) ariba.ui.aribaweb.core.awrefreshregion.renderresponse(awrefreshregion.java:) ariba.ui.aribaweb.core.awcomponentreference.renderresponse(awcomponentreference.java:) ariba.ui.aribaweb.core.awconcretetemplate.renderresponse(awconcretetemplate.java:) ariba.ui.aribaweb.core.awcomponent.renderresponse(awcomponent.java:) ariba.ui.aribaweb.core.awcomponentreference.renderresponse(awcomponentreference.java:) ariba.ui.aribaweb.core.awconcretetemplate.renderresponse(awconcretetemplate.java:) ariba.ui.aribaweb.core.awcontainerelement.renderresponse(awcontainerelement.java:) ariba.ui.aribaweb.core.awif.renderresponse(awif.java:) ariba.ui.aribaweb.core.awconcretetemplate.renderresponse(awconcretetemplate.java:) ariba.ui.aribaweb.core.awcomponent.renderresponse(awcomponent.java:) ariba.ui.aribaweb.core.awcomponentreference.renderresponse(awcomponentreference.java:) ariba.ui.aribaweb.core.awcontainerelement.renderresponse(awcontainerelement.java:) ariba.ui.aribaweb.core.awif.renderresponse(awif.java:) ariba.ui.aribaweb.core.awconcretetemplate.renderresponse(awconcretetemplate.java:) ariba.ui.aribaweb.core.awcontainerelement.renderresponse(awcontainerelement.java:) ariba.ui.aribaweb.core.awif.renderresponse(awif.java:) ariba.ui.aribaweb.core.awcontainerelement.renderresponse(awcontainerelement.java:) ariba.ui.aribaweb.core.awif.renderresponse(awif.java:) ariba.ui.aribaweb.core.awconcretetemplate.renderresponse(awconcretetemplate.java:) ariba.ui.aribaweb.core.awcomponent.renderresponse(awcomponent.java:) ariba.ui.aribaweb.core.awcomponentreference.renderresponse(awcomponentreference.java:) ariba.ui.aribaweb.core.awconcretetemplate.renderresponse(awconcretetemplate.java:) ariba.ui.aribaweb.core.awcontainerelement.renderresponse(awcontainerelement.java:) ariba.ui.aribaweb.core.awif.renderresponse(awif.java:) ariba.ui.aribaweb.core.awconcretetemplate.renderresponse(awconcretetemplate.java:) ariba.ui.aribaweb.core.awcontainerelement.renderresponse(awcontainerelement.java:) ariba.ui.aribaweb.core.awif.renderresponse(awif.java:) ariba.ui.aribaweb.core.awcontainerelement.renderresponse(awcontainerelement.java:) ariba.ui.aribaweb.core.awif.renderresponse(awif.java:) ariba.ui.aribaweb.core.awincludecontent.renderresponse(awincludecontent.java:) ariba.ui.aribaweb.core.awconcretetemplate.renderresponse(awconcretetemplate.java:) ariba.ui.aribaweb.core.awcontainerelement.renderresponse(awcontainerelement.java:) ariba.ui.aribaweb.core.awgenericcontainer.renderresponse(awgenericcontainer.java:) ariba.ui.aribaweb.core.awmetatemplateconditional.renderresponse(awmetatemplateconditional.java:) ariba.ui.aribaweb.core.awcontainerelement.renderresponse(awcontainerelement.java:) ariba.ui.aribaweb.core.awif.renderresponse(awif.java:) ariba.ui.aribaweb.core.awconcretetemplate.renderresponse(awconcretetemplate.java:) ariba.ui.aribaweb.core.awcomponent.renderresponse(awcomponent.java:) ariba.ui.aribaweb.html.awform.renderresponse(awform.java:) ariba.ui.aribaweb.core.awcomponentreference.renderresponse(awcomponentreference.java:) ariba.ui.aribaweb.core.awconcretetemplate.renderresponse(awconcretetemplate.java:) ariba.ui.aribaweb.core.awcontainerelement.renderresponse(awcontainerelement.java:) ariba.ui.aribaweb.core.awtaggedcontainer.appendbody(awtaggedcontainer.java:) ariba.ui.aribaweb.core.awtaggedcontainer.renderresponse(awtaggedcontainer.java:) ariba.ui.aribaweb.core.awconcretetemplate.renderresponse(awconcretetemplate.java:) ariba.ui.aribaweb.core.awcontainerelement.renderresponse(awcontainerelement.java:) ariba.ui.aribaweb.core.awgenericcontainer.renderresponse(awgenericcontainer.java:) ariba.ui.aribaweb.core.awconcretetemplate.renderresponse(awconcretetemplate.java:) ariba.ui.aribaweb.core.awcontainerelement.renderresponse(awcontainerelement.java:) ariba.ui.aribaweb.core.awtaggedcontainer.appendbody(awtaggedcontainer.java:) ariba.ui.aribaweb.core.awtaggedcontainer.renderresponse(awtaggedcontainer.java:) ariba.ui.aribaweb.core.awconcretetemplate.renderresponse(awconcretetemplate.java:) ariba.ui.aribaweb.core.awcontainerelement.renderresponse(awcontainerelement.java:) ariba.ui.aribaweb.core.awif.renderresponse(awif.java:) ariba.ui.aribaweb.core.awconcretetemplate.renderresponse(awconcretetemplate.java:) ariba.ui.aribaweb.core.awcontainerelement.renderresponse(awcontainerelement.java:) ariba.ui.aribaweb.core.awif.renderresponse(awif.java:) ariba.ui.aribaweb.core.awconcretetemplate.renderresponse(awconcretetemplate.java:) ariba.ui.aribaweb.core.awcomponent.renderresponse(awcomponent.java:) ariba.ui.aribaui.awxcomponent.appendtoresponse(awxcomponent.java:) ariba.catalog.searchui.common.components.arccatalogsearchbase.appendtoresponse(arccatalogsearchbase.java:) ariba.catalog.searchui.arcsearchmain.appendtoresponse(arcsearchmain.java:) ariba.ui.aribaui.awxcomponentreference.renderresponse(awxcomponentreference.java:) ariba.ui.aribaweb.core.awconcretetemplate.renderresponse(awconcretetemplate.java:) ariba.ui.aribaweb.core.awcontainerelement.renderresponse(awcontainerelement.java:) ariba.ui.aribaweb.core.awif.renderresponse(awif.java:) ariba.ui.aribaweb.core.awconcretetemplate.renderresponse(awconcretetemplate.java:) ariba.ui.aribaweb.core.awcomponent.renderresponse(awcomponent.java:) ariba.ui.aribaui.awxcomponent.appendtoresponse(awxcomponent.java:) ariba.catalog.searchui.arccatalogsearch.appendtoresponse(arccatalogsearch.java:) ariba.ui.aribaui.awxcomponentreference.renderresponse(awxcomponentreference.java:) ariba.ui.aribaweb.core.awconcretetemplate.renderresponse(awconcretetemplate.java:) ariba.ui.aribaweb.core.awincludecontent.renderresponse(awincludecontent.java:) ariba.ui.aribaweb.core.awconcretetemplate.renderresponse(awconcretetemplate.java:) ariba.ui.aribaweb.core.awcomponent.renderresponse(awcomponent.java:) ariba.ui.aribaui.awxcomponent.appendtoresponse(awxcomponent.java:) ariba.catalog.base.ui.accprofiler.appendtoresponse(accprofiler.java:) ariba.ui.aribaui.awxcomponentreference.renderresponse(awxcomponentreference.java:) ariba.ui.aribaweb.core.awconcretetemplate.renderresponse(awconcretetemplate.java:) ariba.ui.aribaweb.core.awcomponent.renderresponse(awcomponent.java:) ariba.ui.aribaui.awxcomponent.appendtoresponse(awxcomponent.java:) ariba.htmlui.procure.components.arccatalogsearchbasic.appendtoresponse(arccatalogsearchbasic.java:) ariba.ui.aribaui.awxcomponentreference.renderresponse(awxcomponentreference.java:) ariba.ui.aribaweb.core.awconcretetemplate.renderresponse(awconcretetemplate.java:) ariba.ui.aribaweb.core.awcontainerelement.renderresponse(awcontainerelement.java:) ariba.ui.aribaweb.core.awif.renderresponse(awif.java:) ariba.ui.aribaweb.core.awconcretetemplate.renderresponse(awconcretetemplate.java:) ariba.ui.aribaweb.core.awincludecontent.renderresponse(awincludecontent.java:) ariba.ui.aribaweb.core.awcontainerelement.renderresponse(awcontainerelement.java:) ariba.ui.aribaweb.core.awif.renderresponse(awif.java:) ariba.ui.aribaweb.core.awconcretetemplate.renderresponse(awconcretetemplate.java:) ariba.ui.aribaweb.core.awincludecontent.renderresponse(awincludecontent.java:) ariba.ui.aribaweb.core.awcontainerelement.renderresponse(awcontainerelement.java:) ariba.ui.aribaweb.core.awif.renderresponse(awif.java:) ariba.ui.aribaweb.core.awcontainerelement.renderresponse(awcontainerelement.java:) ariba.ui.aribaweb.core.awgenericcontainer.renderresponse(awgenericcontainer.java:) ariba.ui.aribaweb.core.awconcretetemplate.renderresponse(awconcretetemplate.java:) ariba.ui.aribaweb.core.awincludecontent.renderresponse(awincludecontent.java:) ariba.ui.aribaweb.core.awincludecontent.renderresponse(awincludecontent.java:) ariba.ui.aribaweb.core.awconcretetemplate.renderresponse(awconcretetemplate.java:) ariba.ui.aribaweb.core.awcomponent.renderresponse(awcomponent.java:) ariba.ui.aribaweb.core.awcomponentreference.renderresponse(awcomponentreference.java:) ariba.ui.aribaweb.core.awconcretetemplate.renderresponse(awconcretetemplate.java:) ariba.ui.aribaweb.core.awcontainerelement.renderresponse(awcontainerelement.java:) ariba.ui.aribaweb.core.awif.renderresponse(awif.java:) ariba.ui.aribaweb.core.awconcretetemplate.renderresponse(awconcretetemplate.java:) ariba.ui.aribaweb.core.awcomponent.renderresponse(awcomponent.java:) ariba.ui.aribaweb.core.awcomponentreference.renderresponse(awcomponentreference.java:) ariba.ui.aribaweb.core.awconcretetemplate.renderresponse(awconcretetemplate.java:) ariba.ui.aribaweb.core.awincludecontent.renderresponse(awincludecontent.java:) ariba.ui.aribaweb.core.awcontainerelement.renderresponse(awcontainerelement.java:) ariba.ui.aribaweb.core.awgenericcontainer.renderresponse(awgenericcontainer.java:) ariba.ui.aribaweb.core.awcontainerelement.renderresponse(awcontainerelement.java:) ariba.ui.aribaweb.core.awif.renderresponse(awif.java:) ariba.ui.aribaweb.core.awconcretetemplate.renderresponse(awconcretetemplate.java:) ariba.ui.aribaweb.core.awcontainerelement.renderresponse(awcontainerelement.java:) ariba.ui.aribaweb.core.awif.renderresponse(awif.java:) ariba.ui.aribaweb.core.awconcretetemplate.renderresponse(awconcretetemplate.java:) ariba.ui.aribaweb.core.awcomponent.renderresponse(awcomponent.java:) ariba.ui.aribaweb.core.awrefreshregion.renderresponse(awrefreshregion.java:) ariba.ui.aribaweb.core.awcomponentreference.renderresponse(awcomponentreference.java:) ariba.ui.aribaweb.core.awconcretetemplate.renderresponse(awconcretetemplate.java:) ariba.ui.aribaweb.core.awcontainerelement.renderresponse(awcontainerelement.java:) ariba.ui.aribaweb.core.awappendenvironment.renderresponse(awappendenvironment.java:) ariba.ui.aribaweb.core.awconcretetemplate.renderresponse(awconcretetemplate.java:) ariba.ui.aribaweb.core.awcontainerelement.renderresponse(awcontainerelement.java:) ariba.ui.aribaweb.core.awgenericcontainer.renderresponse(awgenericcontainer.java:) ariba.ui.aribaweb.core.awconcretetemplate.renderresponse(awconcretetemplate.java:) ariba.ui.aribaweb.core.awcomponent.renderresponse(awcomponent.java:) ariba.ui.widgets.aribapagecontent.renderresponse(aribapagecontent.java:) ariba.ui.aribaweb.core.awcomponentreference.renderresponse(awcomponentreference.java:) ariba.ui.aribaweb.core.awcontainerelement.renderresponse(awcontainerelement.java:) ariba.ui.aribaweb.core.awtaggedcontainer.appendbody(awtaggedcontainer.java:) ariba.ui.aribaweb.core.awtaggedcontainer.renderresponse(awtaggedcontainer.java:) ariba.ui.aribaweb.core.awconcretetemplate.renderresponse(awconcretetemplate.java:) ariba.ui.aribaweb.core.awincludecontent.renderresponse(awincludecontent.java:) ariba.ui.aribaweb.core.awcontainerelement.renderresponse(awcontainerelement.java:) ariba.ui.aribaweb.core.awif.renderresponse(awif.java:) ariba.ui.aribaweb.core.awconcretetemplate.renderresponse(awconcretetemplate.java:) ariba.ui.aribaweb.core.awcomponent.renderresponse(awcomponent.java:) ariba.ui.aribaweb.core.awcomponentreference.renderresponse(awcomponentreference.java:) ariba.ui.aribaweb.core.awconcretetemplate.renderresponse(awconcretetemplate.java:) ariba.ui.aribaweb.core.awcontainerelement.renderresponse(awcontainerelement.java:) ariba.ui.aribaweb.core.awtaggedcontainer.appendbody(awtaggedcontainer.java:) ariba.ui.aribaweb.core.awtaggedcontainer.renderresponse(awtaggedcontainer.java:) ariba.ui.aribaweb.core.awconcretetemplate.renderresponse(awconcretetemplate.java:) ariba.ui.aribaweb.core.awcontainerelement.renderresponse(awcontainerelement.java:) ariba.ui.aribaweb.core.awgenericcontainer.renderresponse(awgenericcontainer.java:) ariba.ui.aribaweb.core.awconcretetemplate.renderresponse(awconcretetemplate.java:) ariba.ui.aribaweb.core.awcontainerelement.renderresponse(awcontainerelement.java:) ariba.ui.aribaweb.core.awtaggedcontainer.appendbody(awtaggedcontainer.java:) ariba.ui.aribaweb.core.awtaggedcontainer.renderresponse(awtaggedcontainer.java:) ariba.ui.aribaweb.core.awconcretetemplate.renderresponse(awconcretetemplate.java:) ariba.ui.aribaweb.core.awincludecontent.renderresponse(awincludecontent.java:) ariba.ui.aribaweb.core.awcontainerelement.renderresponse(awcontainerelement.java:) ariba.ui.aribaweb.core.awgenericcontainer.renderresponse(awgenericcontainer.java:) ariba.ui.aribaweb.core.awcontainerelement.renderresponse(awcontainerelement.java:) ariba.ui.aribaweb.core.awif.renderresponse(awif.java:) ariba.ui.aribaweb.core.awconcretetemplate.renderresponse(awconcretetemplate.java:) ariba.ui.aribaweb.core.awcontainerelement.renderresponse(awcontainerelement.java:) ariba.ui.aribaweb.core.awif.renderresponse(awif.java:) ariba.ui.aribaweb.core.awconcretetemplate.renderresponse(awconcretetemplate.java:) ariba.ui.aribaweb.core.awcomponent.renderresponse(awcomponent.java:) ariba.ui.aribaweb.core.awrefreshregion.renderresponse(awrefreshregion.java:) ariba.ui.aribaweb.core.awcomponentreference.renderresponse(awcomponentreference.java:) ariba.ui.aribaweb.core.awconcretetemplate.renderresponse(awconcretetemplate.java:) ariba.ui.aribaweb.core.awcomponent.renderresponse(awcomponent.java:) ariba.ui.aribaweb.core.awcomponentreference.renderresponse(awcomponentreference.java:) ariba.ui.aribaweb.core.awconcretetemplate.renderresponse(awconcretetemplate.java:) ariba.ui.aribaweb.core.awcontainerelement.renderresponse(awcontainerelement.java:) ariba.ui.aribaweb.core.awif.renderresponse(awif.java:) ariba.ui.aribaweb.core.awincludecontent.renderresponse(awincludecontent.java:) ariba.ui.aribaweb.core.awconcretetemplate.renderresponse(awconcretetemplate.java:) ariba.ui.aribaweb.core.awincludecontent.renderresponse(awincludecontent.java:) ariba.ui.aribaweb.core.awcontainerelement.renderresponse(awcontainerelement.java:) ariba.ui.aribaweb.core.awif.renderresponse(awif.java:) ariba.ui.aribaweb.core.awconcretetemplate.renderresponse(awconcretetemplate.java:) ariba.ui.aribaweb.core.awcomponent.renderresponse(awcomponent.java:) ariba.ui.aribaweb.html.awform.renderresponse(awform.java:) ariba.ui.aribaweb.core.awcomponentreference.renderresponse(awcomponentreference.java:) ariba.ui.aribaweb.core.awconcretetemplate.renderresponse(awconcretetemplate.java:) ariba.ui.aribaweb.core.awcontainerelement.renderresponse(awcontainerelement.java:) ariba.ui.aribaweb.core.awif.renderresponse(awif.java:) ariba.ui.aribaweb.core.awconcretetemplate.renderresponse(awconcretetemplate.java:) ariba.ui.aribaweb.core.awcomponent.renderresponse(awcomponent.java:) ariba.ui.aribaweb.core.awcomponentreference.renderresponse(awcomponentreference.java:) ariba.ui.aribaweb.core.awconcretetemplate.renderresponse(awconcretetemplate.java:) ariba.ui.aribaweb.core.awincludecontent.renderresponse(awincludecontent.java:) ariba.ui.aribaweb.core.awcontainerelement.renderresponse(awcontainerelement.java:) ariba.ui.aribaweb.core.awgenericcontainer.renderresponse(awgenericcontainer.java:) ariba.ui.aribaweb.core.awcontainerelement.renderresponse(awcontainerelement.java:) ariba.ui.aribaweb.core.awif.renderresponse(awif.java:) ariba.ui.aribaweb.core.awconcretetemplate.renderresponse(awconcretetemplate.java:) ariba.ui.aribaweb.core.awcontainerelement.renderresponse(awcontainerelement.java:) ariba.ui.aribaweb.core.awif.renderresponse(awif.java:) ariba.ui.aribaweb.core.awconcretetemplate.renderresponse(awconcretetemplate.java:) ariba.ui.aribaweb.core.awcomponent.renderresponse(awcomponent.java:) ariba.ui.aribaweb.core.awrefreshregion.renderresponse(awrefreshregion.java:) ariba.ui.aribaweb.core.awcomponentreference.renderresponse(awcomponentreference.java:) ariba.ui.aribaweb.core.awconcretetemplate.renderresponse(awconcretetemplate.java:) ariba.ui.aribaweb.core.awincludecontent.renderresponse(awincludecontent.java:) ariba.ui.aribaweb.core.awconcretetemplate.renderresponse(awconcretetemplate.java:) ariba.ui.aribaweb.core.awcontainerelement.renderresponse(awcontainerelement.java:) ariba.ui.aribaweb.core.awgenericcontainer.renderresponse(awgenericcontainer.java:) ariba.ui.aribaweb.core.awconcretetemplate.renderresponse(awconcretetemplate.java:) ariba.ui.aribaweb.core.awcomponent.renderresponse(awcomponent.java:) ariba.ui.aribaweb.core.awcomponentreference.renderresponse(awcomponentreference.java:) ariba.ui.aribaweb.core.awconcretetemplate.renderresponse(awconcretetemplate.java:) ariba.ui.aribaweb.core.awincludecontent.renderresponse(awincludecontent.java:) ariba.ui.aribaweb.core.awcontainerelement.renderresponse(awcontainerelement.java:) ariba.ui.aribaweb.core.awgenericcontainer.renderresponse(awgenericcontainer.java:) ariba.ui.aribaweb.core.awconcretetemplate.renderresponse(awconcretetemplate.java:) ariba.ui.aribaweb.core.awcomponent.renderresponse(awcomponent.java:) ariba.ui.aribaweb.core.awcomponentreference.renderresponse(awcomponentreference.java:) ariba.ui.aribaweb.core.awcontainerelement.renderresponse(awcontainerelement.java:) ariba.ui.aribaweb.core.awappendenvironment.renderresponse(awappendenvironment.java:) ariba.ui.aribaweb.core.awconcretetemplate.renderresponse(awconcretetemplate.java:) ariba.ui.aribaweb.core.awcontainerelement.renderresponse(awcontainerelement.java:) ariba.ui.aribaweb.core.awif.renderresponse(awif.java:) ariba.ui.aribaweb.core.awconcretetemplate.renderresponse(awconcretetemplate.java:) ariba.ui.aribaweb.core.awcomponent.renderresponse(awcomponent.java:) ariba.ui.widgets.pagewrapper.renderresponse(pagewrapper.java:) ariba.ui.aribaweb.core.awcomponentreference.renderresponse(awcomponentreference.java:) ariba.ui.aribaweb.core.awconcretetemplate.renderresponse(awconcretetemplate.java:) ariba.ui.aribaweb.core.awcomponent.renderresponse(awcomponent.java:) ariba.ui.aribaui.awxcomponent.appendtoresponse(awxcomponent.java:) ariba.ui.aribaui.awxcomponentreference.renderresponse(awxcomponentreference.java:) ariba.ui.aribaweb.core.awconcretetemplate.renderresponse(awconcretetemplate.java:) ariba.ui.aribaweb.core.awcomponent.renderresponse(awcomponent.java:) ariba.ui.aribaui.awxcomponent.appendtoresponse(awxcomponent.java:) ariba.htmlui.fieldsui.arppage.appendtoresponse(arppage.java:) ariba.htmlui.procure.components.arccatalogsearchfullpage.appendtoresponse(arccatalogsearchfullpage.java:) ariba.ui.aribaweb.core.awpage.renderresponse(awpage.java:) ariba.ui.aribaweb.core.awrequestcontext.generateresponse(awrequestcontext.java:) ariba.ui.aribaweb.core.awrequestcontext.generateresponse(awrequestcontext.java:) ariba.ui.aribaweb.core.awcomponentactionrequesthandler.handlerequest(awcomponentactionrequesthandler.java:) ariba.ui.aribaweb.core.awrequestcontext.handlerequest(awrequestcontext.java:) ariba.ui.aribaweb.core.awcomponentactionrequesthandler.handlerequest(awcomponentactionrequesthandler.java:) ariba.ui.aribaweb.core.awconcreteserverapplication.dispatchrequest(awconcreteserverapplication.java:) ariba.ui.aribaweb.core.awconcreteapplication.dispatchrequest(awconcreteapplication.java:) ariba.ui.servletadaptor.awdispatcherservlet.renderresponse(awdispatcherservlet.java:) ariba.ui.servletadaptor.awdispatcherservlet.aribawebdispatcher(awdispatcherservlet.java:) ariba.htmlui.buyer.dispatcherservlet.aribawebdispatcher(dispatcherservlet.java:) ariba.ui.servletadaptor.awdispatcherservlet.processrequest(awdispatcherservlet.java:) ariba.util.http.multitab.abstractmultitabhandler.handledefault(abstractmultitabhandler.java:) ariba.util.http.multitab.cookie.tabmanager.processrequest(tabmanager.java:) ariba.util.http.multitab.cookie.cookiebasedmultitabsupport.processrequest(cookiebasedmultitabsupport.java:) ariba.util.http.multitab.multitabutil.processrequest(multitabutil.java:) ariba.util.http.aribaservlet.wraprequest(aribaservlet.java:) ariba.util.http.aribaservlet.dopost(aribaservlet.java:) ariba.util.http.loggingservlet.service(loggingservlet.java:) ariba.util.http.aribaservlet.service(aribaservlet.java:) org.apache.catalina.core.applicationfilterchain.internaldofilter(applicationfilterchain.java:) org.apache.catalina.core.applicationfilterchain.dofilter(applicationfilterchain.java:) org.apache.tomcat.websocket.server.wsfilter.dofilter(wsfilter.java:) org.apache.catalina.core.applicationfilterchain.internaldofilter(applicationfilterchain.java:) org.apache.catalina.core.applicationfilterchain.dofilter(applicationfilterchain.java:) ariba.base.server.basefilter.dofilter(basefilter.java:) org.apache.catalina.core.applicationfilterchain.internaldofilter(applicationfilterchain.java:) org.apache.catalina.core.applicationfilterchain.dofilter(applicationfilterchain.java:) org.apache.catalina.core.standardwrappervalve.invoke(standardwrappervalve.java:) org.apache.catalina.core.standardcontextvalve.invoke(standardcontextvalve.java:) org.apache.catalina.authenticator.authenticatorbase.invoke(authenticatorbase.java:) org.apache.catalina.valves.remoteipvalve.invoke(remoteipvalve.java:) org.apache.catalina.core.standardhostvalve.invoke(standardhostvalve.java:) org.apache.catalina.valves.errorreportvalve.invoke(errorreportvalve.java:) org.apache.catalina.core.standardenginevalve.invoke(standardenginevalve.java:) org.apache.catalina.connector.coyoteadapter.service(coyoteadapter.java:) org.apache.coyote.http.httpprocessor.service(httpprocessor.java:) org.apache.coyote.abstractprocessorlight.process(abstractprocessorlight.java:) org.apache.coyote.abstractprotocol$connectionhandler.process(abstractprotocol.java:) org.apache.tomcat.util.net.nioendpoint$socketprocessor.dorun(nioendpoint.java:) org.apache.tomcat.util.net.socketprocessorbase.run(socketprocessorbase.java:) java.util.concurrent.threadpoolexecutor.runworker(threadpoolexecutor.java:) java.util.concurrent.threadpoolexecutor$worker.run(threadpoolexecutor.java:) org.apache.tomcat.util.threads.taskthread$wrappingrunnable.run(taskthread.java:) java.lang.thread.run(thread.java:)\n",
      "-1 record inserted.\n",
      "The best similarity value is ---> 0.0 for java.lang.exception: ariba.util.log.logger.error(logger.java:) ariba.util.log.logger.error(logger.java:) ariba.integration.base.baseidprocessor.sendnotification(baseidprocessor.java:) ariba.integration.base.baseidprocessor.run(baseidprocessor.java:)\n",
      "-1 record inserted.\n",
      "The best similarity value is ---> 0.0 for java.lang.illegalargumentexception: ariba.catalog.searchui.common.spotbuy.spotbuytokenhelper.fetchnewtoken(spotbuytokenhelper.java:) ariba.catalog.searchui.common.spotbuy.spotbuytokenhelper.tokenforspotbuyconnection(spotbuytokenhelper.java:) ariba.catalog.searchui.common.spotbuy.spotbuyconnection.getspotbuyiframeurl(spotbuyconnection.java:) ariba.catalog.searchui.common.spotbuy.spotbuyconnection.getmarketplacespotbuypromoteditemsiframeurl(spotbuyconnection.java:) ariba.catalog.searchui.search.arccataloghomepage.getmarketplacepromoteditemsiframeurl(arccataloghomepage.java:) java.lang.reflect.method.invoke(method.java:) ariba.util.fieldvalue.reflectionmethodgetter.invokegetmethod(reflectionmethodgetter.java:) ariba.util.fieldvalue.reflectionmethodgetter.getvalue(reflectionmethodgetter.java:) ariba.util.fieldvalue.fieldpath.getfieldvalue(fieldpath.java:) ariba.ui.aribaweb.core.awkeypathbinding.value(awbinding.java:) ariba.ui.aribaweb.core.awcomponent.valueforbinding(awcomponent.java:) ariba.ui.aribaweb.core.awparentkeypathbinding.value(awbinding.java:) ariba.ui.aribaweb.core.awif.evaluateconditionincomponent(awif.java:) ariba.ui.aribaweb.core.awif$awifblock.evaluateconditionincomponent(awif.java:) ariba.ui.aribaweb.core.awif.renderresponse(awif.java:) ariba.ui.aribaweb.core.awconcretetemplate.renderresponse(awconcretetemplate.java:) ariba.ui.aribaweb.core.awcomponent.renderresponse(awcomponent.java:) ariba.ui.aribaui.awxcomponent.appendtoresponse(awxcomponent.java:) ariba.ui.aribaui.awxcomponentreference.renderresponse(awxcomponentreference.java:) ariba.ui.aribaweb.core.awconcretetemplate.renderresponse(awconcretetemplate.java:) ariba.ui.aribaweb.core.awcontainerelement.renderresponse(awcontainerelement.java:) ariba.ui.aribaweb.core.awif.renderresponse(awif.java:) ariba.ui.aribaweb.core.awconcretetemplate.renderresponse(awconcretetemplate.java:) ariba.ui.aribaweb.core.awcontainerelement.renderresponse(awcontainerelement.java:) ariba.ui.aribaweb.core.awif.renderresponse(awif.java:) ariba.ui.aribaweb.core.awcontainerelement.renderresponse(awcontainerelement.java:) ariba.ui.aribaweb.core.awif.renderresponse(awif.java:) ariba.ui.aribaweb.core.awconcretetemplate.renderresponse(awconcretetemplate.java:) ariba.ui.aribaweb.core.awcomponent.renderresponse(awcomponent.java:) ariba.ui.aribaweb.core.awcomponentreference.renderresponse(awcomponentreference.java:) ariba.ui.aribaweb.core.awconcretetemplate.renderresponse(awconcretetemplate.java:) ariba.ui.aribaweb.core.awcontainerelement.renderresponse(awcontainerelement.java:) ariba.ui.aribaweb.core.awif.renderresponse(awif.java:) ariba.ui.aribaweb.core.awconcretetemplate.renderresponse(awconcretetemplate.java:) ariba.ui.aribaweb.core.awcontainerelement.renderresponse(awcontainerelement.java:) ariba.ui.aribaweb.core.awif.renderresponse(awif.java:) ariba.ui.aribaweb.core.awcontainerelement.renderresponse(awcontainerelement.java:) ariba.ui.aribaweb.core.awif.renderresponse(awif.java:) ariba.ui.aribaweb.core.awincludecontent.renderresponse(awincludecontent.java:) ariba.ui.aribaweb.core.awconcretetemplate.renderresponse(awconcretetemplate.java:) ariba.ui.aribaweb.core.awcontainerelement.renderresponse(awcontainerelement.java:) ariba.ui.aribaweb.core.awgenericcontainer.renderresponse(awgenericcontainer.java:) ariba.ui.aribaweb.core.awmetatemplateconditional.renderresponse(awmetatemplateconditional.java:) ariba.ui.aribaweb.core.awcontainerelement.renderresponse(awcontainerelement.java:) ariba.ui.aribaweb.core.awif.renderresponse(awif.java:) ariba.ui.aribaweb.core.awconcretetemplate.renderresponse(awconcretetemplate.java:) ariba.ui.aribaweb.core.awcomponent.renderresponse(awcomponent.java:) ariba.ui.aribaweb.html.awform.renderresponse(awform.java:) ariba.ui.aribaweb.core.awcomponentreference.renderresponse(awcomponentreference.java:) ariba.ui.aribaweb.core.awconcretetemplate.renderresponse(awconcretetemplate.java:) ariba.ui.aribaweb.core.awcontainerelement.renderresponse(awcontainerelement.java:) ariba.ui.aribaweb.core.awtaggedcontainer.appendbody(awtaggedcontainer.java:) ariba.ui.aribaweb.core.awtaggedcontainer.renderresponse(awtaggedcontainer.java:) ariba.ui.aribaweb.core.awconcretetemplate.renderresponse(awconcretetemplate.java:) ariba.ui.aribaweb.core.awcontainerelement.renderresponse(awcontainerelement.java:) ariba.ui.aribaweb.core.awgenericcontainer.renderresponse(awgenericcontainer.java:) ariba.ui.aribaweb.core.awconcretetemplate.renderresponse(awconcretetemplate.java:) ariba.ui.aribaweb.core.awcontainerelement.renderresponse(awcontainerelement.java:) ariba.ui.aribaweb.core.awtaggedcontainer.appendbody(awtaggedcontainer.java:) ariba.ui.aribaweb.core.awtaggedcontainer.renderresponse(awtaggedcontainer.java:) ariba.ui.aribaweb.core.awconcretetemplate.renderresponse(awconcretetemplate.java:) ariba.ui.aribaweb.core.awcontainerelement.renderresponse(awcontainerelement.java:) ariba.ui.aribaweb.core.awif.renderresponse(awif.java:) ariba.ui.aribaweb.core.awconcretetemplate.renderresponse(awconcretetemplate.java:) ariba.ui.aribaweb.core.awcontainerelement.renderresponse(awcontainerelement.java:) ariba.ui.aribaweb.core.awif.renderresponse(awif.java:) ariba.ui.aribaweb.core.awconcretetemplate.renderresponse(awconcretetemplate.java:) ariba.ui.aribaweb.core.awcomponent.renderresponse(awcomponent.java:) ariba.ui.aribaui.awxcomponent.appendtoresponse(awxcomponent.java:) ariba.catalog.searchui.common.components.arccatalogsearchbase.appendtoresponse(arccatalogsearchbase.java:) ariba.catalog.searchui.arcsearchmain.appendtoresponse(arcsearchmain.java:) ariba.ui.aribaui.awxcomponentreference.renderresponse(awxcomponentreference.java:) ariba.ui.aribaweb.core.awconcretetemplate.renderresponse(awconcretetemplate.java:) ariba.ui.aribaweb.core.awcontainerelement.renderresponse(awcontainerelement.java:) ariba.ui.aribaweb.core.awif.renderresponse(awif.java:) ariba.ui.aribaweb.core.awconcretetemplate.renderresponse(awconcretetemplate.java:) ariba.ui.aribaweb.core.awcomponent.renderresponse(awcomponent.java:) ariba.ui.aribaui.awxcomponent.appendtoresponse(awxcomponent.java:) ariba.catalog.searchui.arccatalogsearch.appendtoresponse(arccatalogsearch.java:) ariba.ui.aribaui.awxcomponentreference.renderresponse(awxcomponentreference.java:) ariba.ui.aribaweb.core.awconcretetemplate.renderresponse(awconcretetemplate.java:) ariba.ui.aribaweb.core.awincludecontent.renderresponse(awincludecontent.java:) ariba.ui.aribaweb.core.awconcretetemplate.renderresponse(awconcretetemplate.java:) ariba.ui.aribaweb.core.awcomponent.renderresponse(awcomponent.java:) ariba.ui.aribaui.awxcomponent.appendtoresponse(awxcomponent.java:) ariba.catalog.base.ui.accprofiler.appendtoresponse(accprofiler.java:) ariba.ui.aribaui.awxcomponentreference.renderresponse(awxcomponentreference.java:) ariba.ui.aribaweb.core.awconcretetemplate.renderresponse(awconcretetemplate.java:) ariba.ui.aribaweb.core.awcomponent.renderresponse(awcomponent.java:) ariba.ui.aribaui.awxcomponent.appendtoresponse(awxcomponent.java:) ariba.htmlui.procure.components.arccatalogsearchbasic.appendtoresponse(arccatalogsearchbasic.java:) ariba.ui.aribaui.awxcomponentreference.renderresponse(awxcomponentreference.java:) ariba.ui.aribaweb.core.awconcretetemplate.renderresponse(awconcretetemplate.java:) ariba.ui.aribaweb.core.awcontainerelement.renderresponse(awcontainerelement.java:) ariba.ui.aribaweb.core.awif.renderresponse(awif.java:) ariba.ui.aribaweb.core.awconcretetemplate.renderresponse(awconcretetemplate.java:) ariba.ui.aribaweb.core.awincludecontent.renderresponse(awincludecontent.java:) ariba.ui.aribaweb.core.awcontainerelement.renderresponse(awcontainerelement.java:) ariba.ui.aribaweb.core.awif.renderresponse(awif.java:) ariba.ui.aribaweb.core.awconcretetemplate.renderresponse(awconcretetemplate.java:) ariba.ui.aribaweb.core.awincludecontent.renderresponse(awincludecontent.java:) ariba.ui.aribaweb.core.awcontainerelement.renderresponse(awcontainerelement.java:) ariba.ui.aribaweb.core.awif.renderresponse(awif.java:) ariba.ui.aribaweb.core.awcontainerelement.renderresponse(awcontainerelement.java:) ariba.ui.aribaweb.core.awgenericcontainer.renderresponse(awgenericcontainer.java:) ariba.ui.aribaweb.core.awconcretetemplate.renderresponse(awconcretetemplate.java:) ariba.ui.aribaweb.core.awincludecontent.renderresponse(awincludecontent.java:) ariba.ui.aribaweb.core.awincludecontent.renderresponse(awincludecontent.java:) ariba.ui.aribaweb.core.awconcretetemplate.renderresponse(awconcretetemplate.java:) ariba.ui.aribaweb.core.awcomponent.renderresponse(awcomponent.java:) ariba.ui.aribaweb.core.awcomponentreference.renderresponse(awcomponentreference.java:) ariba.ui.aribaweb.core.awconcretetemplate.renderresponse(awconcretetemplate.java:) ariba.ui.aribaweb.core.awcontainerelement.renderresponse(awcontainerelement.java:) ariba.ui.aribaweb.core.awif.renderresponse(awif.java:) ariba.ui.aribaweb.core.awconcretetemplate.renderresponse(awconcretetemplate.java:) ariba.ui.aribaweb.core.awcomponent.renderresponse(awcomponent.java:) ariba.ui.aribaweb.core.awcomponentreference.renderresponse(awcomponentreference.java:) ariba.ui.aribaweb.core.awconcretetemplate.renderresponse(awconcretetemplate.java:) ariba.ui.aribaweb.core.awincludecontent.renderresponse(awincludecontent.java:) ariba.ui.aribaweb.core.awcontainerelement.renderresponse(awcontainerelement.java:) ariba.ui.aribaweb.core.awgenericcontainer.renderresponse(awgenericcontainer.java:) ariba.ui.aribaweb.core.awcontainerelement.renderresponse(awcontainerelement.java:) ariba.ui.aribaweb.core.awif.renderresponse(awif.java:) ariba.ui.aribaweb.core.awconcretetemplate.renderresponse(awconcretetemplate.java:) ariba.ui.aribaweb.core.awcontainerelement.renderresponse(awcontainerelement.java:) ariba.ui.aribaweb.core.awif.renderresponse(awif.java:) ariba.ui.aribaweb.core.awconcretetemplate.renderresponse(awconcretetemplate.java:) ariba.ui.aribaweb.core.awcomponent.renderresponse(awcomponent.java:) ariba.ui.aribaweb.core.awrefreshregion.renderresponse(awrefreshregion.java:) ariba.ui.aribaweb.core.awcomponentreference.renderresponse(awcomponentreference.java:) ariba.ui.aribaweb.core.awconcretetemplate.renderresponse(awconcretetemplate.java:) ariba.ui.aribaweb.core.awcontainerelement.renderresponse(awcontainerelement.java:) ariba.ui.aribaweb.core.awappendenvironment.renderresponse(awappendenvironment.java:) ariba.ui.aribaweb.core.awconcretetemplate.renderresponse(awconcretetemplate.java:) ariba.ui.aribaweb.core.awcontainerelement.renderresponse(awcontainerelement.java:) ariba.ui.aribaweb.core.awgenericcontainer.renderresponse(awgenericcontainer.java:) ariba.ui.aribaweb.core.awconcretetemplate.renderresponse(awconcretetemplate.java:) ariba.ui.aribaweb.core.awcomponent.renderresponse(awcomponent.java:) ariba.ui.widgets.aribapagecontent.renderresponse(aribapagecontent.java:) ariba.ui.aribaweb.core.awcomponentreference.renderresponse(awcomponentreference.java:) ariba.ui.aribaweb.core.awcontainerelement.renderresponse(awcontainerelement.java:) ariba.ui.aribaweb.core.awtaggedcontainer.appendbody(awtaggedcontainer.java:) ariba.ui.aribaweb.core.awtaggedcontainer.renderresponse(awtaggedcontainer.java:) ariba.ui.aribaweb.core.awconcretetemplate.renderresponse(awconcretetemplate.java:) ariba.ui.aribaweb.core.awincludecontent.renderresponse(awincludecontent.java:) ariba.ui.aribaweb.core.awcontainerelement.renderresponse(awcontainerelement.java:) ariba.ui.aribaweb.core.awif.renderresponse(awif.java:) ariba.ui.aribaweb.core.awconcretetemplate.renderresponse(awconcretetemplate.java:) ariba.ui.aribaweb.core.awcomponent.renderresponse(awcomponent.java:) ariba.ui.aribaweb.core.awcomponentreference.renderresponse(awcomponentreference.java:) ariba.ui.aribaweb.core.awconcretetemplate.renderresponse(awconcretetemplate.java:) ariba.ui.aribaweb.core.awcontainerelement.renderresponse(awcontainerelement.java:) ariba.ui.aribaweb.core.awtaggedcontainer.appendbody(awtaggedcontainer.java:) ariba.ui.aribaweb.core.awtaggedcontainer.renderresponse(awtaggedcontainer.java:) ariba.ui.aribaweb.core.awconcretetemplate.renderresponse(awconcretetemplate.java:) ariba.ui.aribaweb.core.awcontainerelement.renderresponse(awcontainerelement.java:) ariba.ui.aribaweb.core.awgenericcontainer.renderresponse(awgenericcontainer.java:) ariba.ui.aribaweb.core.awconcretetemplate.renderresponse(awconcretetemplate.java:) ariba.ui.aribaweb.core.awcontainerelement.renderresponse(awcontainerelement.java:) ariba.ui.aribaweb.core.awtaggedcontainer.appendbody(awtaggedcontainer.java:) ariba.ui.aribaweb.core.awtaggedcontainer.renderresponse(awtaggedcontainer.java:) ariba.ui.aribaweb.core.awconcretetemplate.renderresponse(awconcretetemplate.java:) ariba.ui.aribaweb.core.awincludecontent.renderresponse(awincludecontent.java:) ariba.ui.aribaweb.core.awcontainerelement.renderresponse(awcontainerelement.java:) ariba.ui.aribaweb.core.awgenericcontainer.renderresponse(awgenericcontainer.java:) ariba.ui.aribaweb.core.awcontainerelement.renderresponse(awcontainerelement.java:) ariba.ui.aribaweb.core.awif.renderresponse(awif.java:) ariba.ui.aribaweb.core.awconcretetemplate.renderresponse(awconcretetemplate.java:) ariba.ui.aribaweb.core.awcontainerelement.renderresponse(awcontainerelement.java:) ariba.ui.aribaweb.core.awif.renderresponse(awif.java:) ariba.ui.aribaweb.core.awconcretetemplate.renderresponse(awconcretetemplate.java:) ariba.ui.aribaweb.core.awcomponent.renderresponse(awcomponent.java:) ariba.ui.aribaweb.core.awrefreshregion.renderresponse(awrefreshregion.java:) ariba.ui.aribaweb.core.awcomponentreference.renderresponse(awcomponentreference.java:) ariba.ui.aribaweb.core.awconcretetemplate.renderresponse(awconcretetemplate.java:) ariba.ui.aribaweb.core.awcomponent.renderresponse(awcomponent.java:) ariba.ui.aribaweb.core.awcomponentreference.renderresponse(awcomponentreference.java:) ariba.ui.aribaweb.core.awconcretetemplate.renderresponse(awconcretetemplate.java:) ariba.ui.aribaweb.core.awcontainerelement.renderresponse(awcontainerelement.java:) ariba.ui.aribaweb.core.awif.renderresponse(awif.java:) ariba.ui.aribaweb.core.awincludecontent.renderresponse(awincludecontent.java:) ariba.ui.aribaweb.core.awconcretetemplate.renderresponse(awconcretetemplate.java:) ariba.ui.aribaweb.core.awincludecontent.renderresponse(awincludecontent.java:) ariba.ui.aribaweb.core.awcontainerelement.renderresponse(awcontainerelement.java:) ariba.ui.aribaweb.core.awif.renderresponse(awif.java:) ariba.ui.aribaweb.core.awconcretetemplate.renderresponse(awconcretetemplate.java:) ariba.ui.aribaweb.core.awcomponent.renderresponse(awcomponent.java:) ariba.ui.aribaweb.html.awform.renderresponse(awform.java:) ariba.ui.aribaweb.core.awcomponentreference.renderresponse(awcomponentreference.java:) ariba.ui.aribaweb.core.awconcretetemplate.renderresponse(awconcretetemplate.java:) ariba.ui.aribaweb.core.awcontainerelement.renderresponse(awcontainerelement.java:) ariba.ui.aribaweb.core.awif.renderresponse(awif.java:) ariba.ui.aribaweb.core.awconcretetemplate.renderresponse(awconcretetemplate.java:) ariba.ui.aribaweb.core.awcomponent.renderresponse(awcomponent.java:) ariba.ui.aribaweb.core.awcomponentreference.renderresponse(awcomponentreference.java:) ariba.ui.aribaweb.core.awconcretetemplate.renderresponse(awconcretetemplate.java:) ariba.ui.aribaweb.core.awincludecontent.renderresponse(awincludecontent.java:) ariba.ui.aribaweb.core.awcontainerelement.renderresponse(awcontainerelement.java:) ariba.ui.aribaweb.core.awgenericcontainer.renderresponse(awgenericcontainer.java:) ariba.ui.aribaweb.core.awcontainerelement.renderresponse(awcontainerelement.java:) ariba.ui.aribaweb.core.awif.renderresponse(awif.java:) ariba.ui.aribaweb.core.awconcretetemplate.renderresponse(awconcretetemplate.java:) ariba.ui.aribaweb.core.awcontainerelement.renderresponse(awcontainerelement.java:) ariba.ui.aribaweb.core.awif.renderresponse(awif.java:) ariba.ui.aribaweb.core.awconcretetemplate.renderresponse(awconcretetemplate.java:) ariba.ui.aribaweb.core.awcomponent.renderresponse(awcomponent.java:) ariba.ui.aribaweb.core.awrefreshregion.renderresponse(awrefreshregion.java:) ariba.ui.aribaweb.core.awcomponentreference.renderresponse(awcomponentreference.java:) ariba.ui.aribaweb.core.awconcretetemplate.renderresponse(awconcretetemplate.java:) ariba.ui.aribaweb.core.awincludecontent.renderresponse(awincludecontent.java:) ariba.ui.aribaweb.core.awconcretetemplate.renderresponse(awconcretetemplate.java:) ariba.ui.aribaweb.core.awcontainerelement.renderresponse(awcontainerelement.java:) ariba.ui.aribaweb.core.awgenericcontainer.renderresponse(awgenericcontainer.java:) ariba.ui.aribaweb.core.awconcretetemplate.renderresponse(awconcretetemplate.java:) ariba.ui.aribaweb.core.awcomponent.renderresponse(awcomponent.java:) ariba.ui.aribaweb.core.awcomponentreference.renderresponse(awcomponentreference.java:) ariba.ui.aribaweb.core.awconcretetemplate.renderresponse(awconcretetemplate.java:) ariba.ui.aribaweb.core.awincludecontent.renderresponse(awincludecontent.java:) ariba.ui.aribaweb.core.awcontainerelement.renderresponse(awcontainerelement.java:) ariba.ui.aribaweb.core.awgenericcontainer.renderresponse(awgenericcontainer.java:) ariba.ui.aribaweb.core.awconcretetemplate.renderresponse(awconcretetemplate.java:) ariba.ui.aribaweb.core.awcomponent.renderresponse(awcomponent.java:) ariba.ui.aribaweb.core.awcomponentreference.renderresponse(awcomponentreference.java:) ariba.ui.aribaweb.core.awcontainerelement.renderresponse(awcontainerelement.java:) ariba.ui.aribaweb.core.awappendenvironment.renderresponse(awappendenvironment.java:) ariba.ui.aribaweb.core.awconcretetemplate.renderresponse(awconcretetemplate.java:) ariba.ui.aribaweb.core.awcontainerelement.renderresponse(awcontainerelement.java:) ariba.ui.aribaweb.core.awif.renderresponse(awif.java:) ariba.ui.aribaweb.core.awconcretetemplate.renderresponse(awconcretetemplate.java:) ariba.ui.aribaweb.core.awcomponent.renderresponse(awcomponent.java:) ariba.ui.widgets.pagewrapper.renderresponse(pagewrapper.java:) ariba.ui.aribaweb.core.awcomponentreference.renderresponse(awcomponentreference.java:) ariba.ui.aribaweb.core.awconcretetemplate.renderresponse(awconcretetemplate.java:) ariba.ui.aribaweb.core.awcomponent.renderresponse(awcomponent.java:) ariba.ui.aribaui.awxcomponent.appendtoresponse(awxcomponent.java:) ariba.ui.aribaui.awxcomponentreference.renderresponse(awxcomponentreference.java:) ariba.ui.aribaweb.core.awconcretetemplate.renderresponse(awconcretetemplate.java:) ariba.ui.aribaweb.core.awcomponent.renderresponse(awcomponent.java:) ariba.ui.aribaui.awxcomponent.appendtoresponse(awxcomponent.java:) ariba.htmlui.fieldsui.arppage.appendtoresponse(arppage.java:) ariba.htmlui.procure.components.arccatalogsearchfullpage.appendtoresponse(arccatalogsearchfullpage.java:) ariba.ui.aribaweb.core.awpage.renderresponse(awpage.java:) ariba.ui.aribaweb.core.awrequestcontext.generateresponse(awrequestcontext.java:) ariba.ui.aribaweb.core.awrequestcontext.generateresponse(awrequestcontext.java:) ariba.ui.aribaweb.core.awcomponentactionrequesthandler.handlerequest(awcomponentactionrequesthandler.java:) ariba.ui.aribaweb.core.awrequestcontext.handlerequest(awrequestcontext.java:) ariba.ui.aribaweb.core.awcomponentactionrequesthandler.handlerequest(awcomponentactionrequesthandler.java:) ariba.ui.aribaweb.core.awconcreteserverapplication.dispatchrequest(awconcreteserverapplication.java:) ariba.ui.aribaweb.core.awconcreteapplication.dispatchrequest(awconcreteapplication.java:) ariba.ui.servletadaptor.awdispatcherservlet.renderresponse(awdispatcherservlet.java:) ariba.ui.servletadaptor.awdispatcherservlet.aribawebdispatcher(awdispatcherservlet.java:) ariba.htmlui.buyer.dispatcherservlet.aribawebdispatcher(dispatcherservlet.java:) ariba.ui.servletadaptor.awdispatcherservlet.processrequest(awdispatcherservlet.java:) ariba.util.http.multitab.abstractmultitabhandler.handledefault(abstractmultitabhandler.java:) ariba.util.http.multitab.cookie.tabmanager.processrequest(tabmanager.java:) ariba.util.http.multitab.cookie.cookiebasedmultitabsupport.processrequest(cookiebasedmultitabsupport.java:) ariba.util.http.multitab.multitabutil.processrequest(multitabutil.java:) ariba.util.http.aribaservlet.wraprequest(aribaservlet.java:) ariba.util.http.aribaservlet.doget(aribaservlet.java:) ariba.util.http.loggingservlet.service(loggingservlet.java:) ariba.util.http.aribaservlet.service(aribaservlet.java:) org.apache.catalina.core.applicationfilterchain.internaldofilter(applicationfilterchain.java:) org.apache.catalina.core.applicationfilterchain.dofilter(applicationfilterchain.java:) org.apache.tomcat.websocket.server.wsfilter.dofilter(wsfilter.java:) org.apache.catalina.core.applicationfilterchain.internaldofilter(applicationfilterchain.java:) org.apache.catalina.core.applicationfilterchain.dofilter(applicationfilterchain.java:) ariba.base.server.basefilter.dofilter(basefilter.java:) org.apache.catalina.core.applicationfilterchain.internaldofilter(applicationfilterchain.java:) org.apache.catalina.core.applicationfilterchain.dofilter(applicationfilterchain.java:) org.apache.catalina.core.standardwrappervalve.invoke(standardwrappervalve.java:) org.apache.catalina.core.standardcontextvalve.invoke(standardcontextvalve.java:) org.apache.catalina.authenticator.authenticatorbase.invoke(authenticatorbase.java:) org.apache.catalina.valves.remoteipvalve.invoke(remoteipvalve.java:) org.apache.catalina.core.standardhostvalve.invoke(standardhostvalve.java:) org.apache.catalina.valves.errorreportvalve.invoke(errorreportvalve.java:) org.apache.catalina.core.standardenginevalve.invoke(standardenginevalve.java:) org.apache.catalina.connector.coyoteadapter.service(coyoteadapter.java:) org.apache.coyote.http.httpprocessor.service(httpprocessor.java:) org.apache.coyote.abstractprocessorlight.process(abstractprocessorlight.java:) org.apache.coyote.abstractprotocol$connectionhandler.process(abstractprotocol.java:) org.apache.tomcat.util.net.nioendpoint$socketprocessor.dorun(nioendpoint.java:) org.apache.tomcat.util.net.socketprocessorbase.run(socketprocessorbase.java:) java.util.concurrent.threadpoolexecutor.runworker(threadpoolexecutor.java:) java.util.concurrent.threadpoolexecutor$worker.run(threadpoolexecutor.java:) org.apache.tomcat.util.threads.taskthread$wrappingrunnable.run(taskthread.java:) java.lang.thread.run(thread.java:)\n",
      "-1 record inserted.\n",
      "The best similarity value is ---> 0.0 for java.lang.illegalargumentexception: ariba.catalog.searchui.common.spotbuy.spotbuytokenhelper.fetchnewtoken(spotbuytokenhelper.java:) ariba.catalog.searchui.common.spotbuy.spotbuytokenhelper.tokenforspotbuyconnection(spotbuytokenhelper.java:) ariba.catalog.searchui.common.spotbuy.spotbuyconnection.getspotbuyiframeurl(spotbuyconnection.java:) ariba.catalog.searchui.common.spotbuy.spotbuyconnection.getmarketplacespotbuypromoteditemsiframeurl(spotbuyconnection.java:) ariba.catalog.searchui.search.arccataloghomepage.getmarketplacepromoteditemsiframeurl(arccataloghomepage.java:) java.lang.reflect.method.invoke(method.java:) ariba.util.fieldvalue.reflectionmethodgetter.invokegetmethod(reflectionmethodgetter.java:) ariba.util.fieldvalue.reflectionmethodgetter.getvalue(reflectionmethodgetter.java:) ariba.util.fieldvalue.fieldpath.getfieldvalue(fieldpath.java:) ariba.ui.aribaweb.core.awkeypathbinding.value(awbinding.java:) ariba.ui.aribaweb.core.awcomponent.valueforbinding(awcomponent.java:) ariba.ui.aribaweb.core.awparentkeypathbinding.value(awbinding.java:) ariba.ui.aribaweb.core.awif.evaluateconditionincomponent(awif.java:) ariba.ui.aribaweb.core.awif$awifblock.evaluateconditionincomponent(awif.java:) ariba.ui.aribaweb.core.awif.renderresponse(awif.java:) ariba.ui.aribaweb.core.awconcretetemplate.renderresponse(awconcretetemplate.java:) ariba.ui.aribaweb.core.awcomponent.renderresponse(awcomponent.java:) ariba.ui.aribaui.awxcomponent.appendtoresponse(awxcomponent.java:) ariba.ui.aribaui.awxcomponentreference.renderresponse(awxcomponentreference.java:) ariba.ui.aribaweb.core.awconcretetemplate.renderresponse(awconcretetemplate.java:) ariba.ui.aribaweb.core.awcontainerelement.renderresponse(awcontainerelement.java:) ariba.ui.aribaweb.core.awif.renderresponse(awif.java:) ariba.ui.aribaweb.core.awconcretetemplate.renderresponse(awconcretetemplate.java:) ariba.ui.aribaweb.core.awcontainerelement.renderresponse(awcontainerelement.java:) ariba.ui.aribaweb.core.awif.renderresponse(awif.java:) ariba.ui.aribaweb.core.awcontainerelement.renderresponse(awcontainerelement.java:) ariba.ui.aribaweb.core.awif.renderresponse(awif.java:) ariba.ui.aribaweb.core.awconcretetemplate.renderresponse(awconcretetemplate.java:) ariba.ui.aribaweb.core.awcomponent.renderresponse(awcomponent.java:) ariba.ui.aribaweb.core.awcomponentreference.renderresponse(awcomponentreference.java:) ariba.ui.aribaweb.core.awconcretetemplate.renderresponse(awconcretetemplate.java:) ariba.ui.aribaweb.core.awcontainerelement.renderresponse(awcontainerelement.java:) ariba.ui.aribaweb.core.awif.renderresponse(awif.java:) ariba.ui.aribaweb.core.awconcretetemplate.renderresponse(awconcretetemplate.java:) ariba.ui.aribaweb.core.awcontainerelement.renderresponse(awcontainerelement.java:) ariba.ui.aribaweb.core.awif.renderresponse(awif.java:) ariba.ui.aribaweb.core.awcontainerelement.renderresponse(awcontainerelement.java:) ariba.ui.aribaweb.core.awif.renderresponse(awif.java:) ariba.ui.aribaweb.core.awincludecontent.renderresponse(awincludecontent.java:) ariba.ui.aribaweb.core.awconcretetemplate.renderresponse(awconcretetemplate.java:) ariba.ui.aribaweb.core.awcontainerelement.renderresponse(awcontainerelement.java:) ariba.ui.aribaweb.core.awgenericcontainer.renderresponse(awgenericcontainer.java:) ariba.ui.aribaweb.core.awmetatemplateconditional.renderresponse(awmetatemplateconditional.java:) ariba.ui.aribaweb.core.awcontainerelement.renderresponse(awcontainerelement.java:) ariba.ui.aribaweb.core.awif.renderresponse(awif.java:) ariba.ui.aribaweb.core.awconcretetemplate.renderresponse(awconcretetemplate.java:) ariba.ui.aribaweb.core.awcomponent.renderresponse(awcomponent.java:) ariba.ui.aribaweb.html.awform.renderresponse(awform.java:) ariba.ui.aribaweb.core.awcomponentreference.renderresponse(awcomponentreference.java:) ariba.ui.aribaweb.core.awconcretetemplate.renderresponse(awconcretetemplate.java:) ariba.ui.aribaweb.core.awcontainerelement.renderresponse(awcontainerelement.java:) ariba.ui.aribaweb.core.awtaggedcontainer.appendbody(awtaggedcontainer.java:) ariba.ui.aribaweb.core.awtaggedcontainer.renderresponse(awtaggedcontainer.java:) ariba.ui.aribaweb.core.awconcretetemplate.renderresponse(awconcretetemplate.java:) ariba.ui.aribaweb.core.awcontainerelement.renderresponse(awcontainerelement.java:) ariba.ui.aribaweb.core.awgenericcontainer.renderresponse(awgenericcontainer.java:) ariba.ui.aribaweb.core.awconcretetemplate.renderresponse(awconcretetemplate.java:) ariba.ui.aribaweb.core.awcontainerelement.renderresponse(awcontainerelement.java:) ariba.ui.aribaweb.core.awtaggedcontainer.appendbody(awtaggedcontainer.java:) ariba.ui.aribaweb.core.awtaggedcontainer.renderresponse(awtaggedcontainer.java:) ariba.ui.aribaweb.core.awconcretetemplate.renderresponse(awconcretetemplate.java:) ariba.ui.aribaweb.core.awcontainerelement.renderresponse(awcontainerelement.java:) ariba.ui.aribaweb.core.awif.renderresponse(awif.java:) ariba.ui.aribaweb.core.awconcretetemplate.renderresponse(awconcretetemplate.java:) ariba.ui.aribaweb.core.awcontainerelement.renderresponse(awcontainerelement.java:) ariba.ui.aribaweb.core.awif.renderresponse(awif.java:) ariba.ui.aribaweb.core.awconcretetemplate.renderresponse(awconcretetemplate.java:) ariba.ui.aribaweb.core.awcomponent.renderresponse(awcomponent.java:) ariba.ui.aribaui.awxcomponent.appendtoresponse(awxcomponent.java:) ariba.catalog.searchui.common.components.arccatalogsearchbase.appendtoresponse(arccatalogsearchbase.java:) ariba.catalog.searchui.arcsearchmain.appendtoresponse(arcsearchmain.java:) ariba.ui.aribaui.awxcomponentreference.renderresponse(awxcomponentreference.java:) ariba.ui.aribaweb.core.awconcretetemplate.renderresponse(awconcretetemplate.java:) ariba.ui.aribaweb.core.awcontainerelement.renderresponse(awcontainerelement.java:) ariba.ui.aribaweb.core.awif.renderresponse(awif.java:) ariba.ui.aribaweb.core.awconcretetemplate.renderresponse(awconcretetemplate.java:) ariba.ui.aribaweb.core.awcomponent.renderresponse(awcomponent.java:) ariba.ui.aribaui.awxcomponent.appendtoresponse(awxcomponent.java:) ariba.catalog.searchui.arccatalogsearch.appendtoresponse(arccatalogsearch.java:) ariba.ui.aribaui.awxcomponentreference.renderresponse(awxcomponentreference.java:) ariba.ui.aribaweb.core.awconcretetemplate.renderresponse(awconcretetemplate.java:) ariba.ui.aribaweb.core.awincludecontent.renderresponse(awincludecontent.java:) ariba.ui.aribaweb.core.awconcretetemplate.renderresponse(awconcretetemplate.java:) ariba.ui.aribaweb.core.awcomponent.renderresponse(awcomponent.java:) ariba.ui.aribaui.awxcomponent.appendtoresponse(awxcomponent.java:) ariba.catalog.base.ui.accprofiler.appendtoresponse(accprofiler.java:) ariba.ui.aribaui.awxcomponentreference.renderresponse(awxcomponentreference.java:) ariba.ui.aribaweb.core.awconcretetemplate.renderresponse(awconcretetemplate.java:) ariba.ui.aribaweb.core.awcomponent.renderresponse(awcomponent.java:) ariba.ui.aribaui.awxcomponent.appendtoresponse(awxcomponent.java:) ariba.htmlui.procure.components.arccatalogsearchbasic.appendtoresponse(arccatalogsearchbasic.java:) ariba.ui.aribaui.awxcomponentreference.renderresponse(awxcomponentreference.java:) ariba.ui.aribaweb.core.awconcretetemplate.renderresponse(awconcretetemplate.java:) ariba.ui.aribaweb.core.awcontainerelement.renderresponse(awcontainerelement.java:) ariba.ui.aribaweb.core.awif.renderresponse(awif.java:) ariba.ui.aribaweb.core.awconcretetemplate.renderresponse(awconcretetemplate.java:) ariba.ui.aribaweb.core.awincludecontent.renderresponse(awincludecontent.java:) ariba.ui.aribaweb.core.awcontainerelement.renderresponse(awcontainerelement.java:) ariba.ui.aribaweb.core.awif.renderresponse(awif.java:) ariba.ui.aribaweb.core.awconcretetemplate.renderresponse(awconcretetemplate.java:) ariba.ui.aribaweb.core.awincludecontent.renderresponse(awincludecontent.java:) ariba.ui.aribaweb.core.awcontainerelement.renderresponse(awcontainerelement.java:) ariba.ui.aribaweb.core.awif.renderresponse(awif.java:) ariba.ui.aribaweb.core.awcontainerelement.renderresponse(awcontainerelement.java:) ariba.ui.aribaweb.core.awgenericcontainer.renderresponse(awgenericcontainer.java:) ariba.ui.aribaweb.core.awconcretetemplate.renderresponse(awconcretetemplate.java:) ariba.ui.aribaweb.core.awincludecontent.renderresponse(awincludecontent.java:) ariba.ui.aribaweb.core.awincludecontent.renderresponse(awincludecontent.java:) ariba.ui.aribaweb.core.awconcretetemplate.renderresponse(awconcretetemplate.java:) ariba.ui.aribaweb.core.awcomponent.renderresponse(awcomponent.java:) ariba.ui.aribaweb.core.awcomponentreference.renderresponse(awcomponentreference.java:) ariba.ui.aribaweb.core.awconcretetemplate.renderresponse(awconcretetemplate.java:) ariba.ui.aribaweb.core.awcontainerelement.renderresponse(awcontainerelement.java:) ariba.ui.aribaweb.core.awif.renderresponse(awif.java:) ariba.ui.aribaweb.core.awconcretetemplate.renderresponse(awconcretetemplate.java:) ariba.ui.aribaweb.core.awcomponent.renderresponse(awcomponent.java:) ariba.ui.aribaweb.core.awcomponentreference.renderresponse(awcomponentreference.java:) ariba.ui.aribaweb.core.awconcretetemplate.renderresponse(awconcretetemplate.java:) ariba.ui.aribaweb.core.awincludecontent.renderresponse(awincludecontent.java:) ariba.ui.aribaweb.core.awcontainerelement.renderresponse(awcontainerelement.java:) ariba.ui.aribaweb.core.awgenericcontainer.renderresponse(awgenericcontainer.java:) ariba.ui.aribaweb.core.awcontainerelement.renderresponse(awcontainerelement.java:) ariba.ui.aribaweb.core.awif.renderresponse(awif.java:) ariba.ui.aribaweb.core.awconcretetemplate.renderresponse(awconcretetemplate.java:) ariba.ui.aribaweb.core.awcontainerelement.renderresponse(awcontainerelement.java:) ariba.ui.aribaweb.core.awif.renderresponse(awif.java:) ariba.ui.aribaweb.core.awconcretetemplate.renderresponse(awconcretetemplate.java:) ariba.ui.aribaweb.core.awcomponent.renderresponse(awcomponent.java:) ariba.ui.aribaweb.core.awrefreshregion.renderresponse(awrefreshregion.java:) ariba.ui.aribaweb.core.awcomponentreference.renderresponse(awcomponentreference.java:) ariba.ui.aribaweb.core.awconcretetemplate.renderresponse(awconcretetemplate.java:) ariba.ui.aribaweb.core.awcontainerelement.renderresponse(awcontainerelement.java:) ariba.ui.aribaweb.core.awappendenvironment.renderresponse(awappendenvironment.java:) ariba.ui.aribaweb.core.awconcretetemplate.renderresponse(awconcretetemplate.java:) ariba.ui.aribaweb.core.awcontainerelement.renderresponse(awcontainerelement.java:) ariba.ui.aribaweb.core.awgenericcontainer.renderresponse(awgenericcontainer.java:) ariba.ui.aribaweb.core.awconcretetemplate.renderresponse(awconcretetemplate.java:) ariba.ui.aribaweb.core.awcomponent.renderresponse(awcomponent.java:) ariba.ui.widgets.aribapagecontent.renderresponse(aribapagecontent.java:) ariba.ui.aribaweb.core.awcomponentreference.renderresponse(awcomponentreference.java:) ariba.ui.aribaweb.core.awcontainerelement.renderresponse(awcontainerelement.java:) ariba.ui.aribaweb.core.awtaggedcontainer.appendbody(awtaggedcontainer.java:) ariba.ui.aribaweb.core.awtaggedcontainer.renderresponse(awtaggedcontainer.java:) ariba.ui.aribaweb.core.awconcretetemplate.renderresponse(awconcretetemplate.java:) ariba.ui.aribaweb.core.awincludecontent.renderresponse(awincludecontent.java:) ariba.ui.aribaweb.core.awcontainerelement.renderresponse(awcontainerelement.java:) ariba.ui.aribaweb.core.awif.renderresponse(awif.java:) ariba.ui.aribaweb.core.awconcretetemplate.renderresponse(awconcretetemplate.java:) ariba.ui.aribaweb.core.awcomponent.renderresponse(awcomponent.java:) ariba.ui.aribaweb.core.awcomponentreference.renderresponse(awcomponentreference.java:) ariba.ui.aribaweb.core.awconcretetemplate.renderresponse(awconcretetemplate.java:) ariba.ui.aribaweb.core.awcontainerelement.renderresponse(awcontainerelement.java:) ariba.ui.aribaweb.core.awtaggedcontainer.appendbody(awtaggedcontainer.java:) ariba.ui.aribaweb.core.awtaggedcontainer.renderresponse(awtaggedcontainer.java:) ariba.ui.aribaweb.core.awconcretetemplate.renderresponse(awconcretetemplate.java:) ariba.ui.aribaweb.core.awcontainerelement.renderresponse(awcontainerelement.java:) ariba.ui.aribaweb.core.awgenericcontainer.renderresponse(awgenericcontainer.java:) ariba.ui.aribaweb.core.awconcretetemplate.renderresponse(awconcretetemplate.java:) ariba.ui.aribaweb.core.awcontainerelement.renderresponse(awcontainerelement.java:) ariba.ui.aribaweb.core.awtaggedcontainer.appendbody(awtaggedcontainer.java:) ariba.ui.aribaweb.core.awtaggedcontainer.renderresponse(awtaggedcontainer.java:) ariba.ui.aribaweb.core.awconcretetemplate.renderresponse(awconcretetemplate.java:) ariba.ui.aribaweb.core.awincludecontent.renderresponse(awincludecontent.java:) ariba.ui.aribaweb.core.awcontainerelement.renderresponse(awcontainerelement.java:) ariba.ui.aribaweb.core.awgenericcontainer.renderresponse(awgenericcontainer.java:) ariba.ui.aribaweb.core.awcontainerelement.renderresponse(awcontainerelement.java:) ariba.ui.aribaweb.core.awif.renderresponse(awif.java:) ariba.ui.aribaweb.core.awconcretetemplate.renderresponse(awconcretetemplate.java:) ariba.ui.aribaweb.core.awcontainerelement.renderresponse(awcontainerelement.java:) ariba.ui.aribaweb.core.awif.renderresponse(awif.java:) ariba.ui.aribaweb.core.awconcretetemplate.renderresponse(awconcretetemplate.java:) ariba.ui.aribaweb.core.awcomponent.renderresponse(awcomponent.java:) ariba.ui.aribaweb.core.awrefreshregion.renderresponse(awrefreshregion.java:) ariba.ui.aribaweb.core.awcomponentreference.renderresponse(awcomponentreference.java:) ariba.ui.aribaweb.core.awconcretetemplate.renderresponse(awconcretetemplate.java:) ariba.ui.aribaweb.core.awcomponent.renderresponse(awcomponent.java:) ariba.ui.aribaweb.core.awcomponentreference.renderresponse(awcomponentreference.java:) ariba.ui.aribaweb.core.awconcretetemplate.renderresponse(awconcretetemplate.java:) ariba.ui.aribaweb.core.awcontainerelement.renderresponse(awcontainerelement.java:) ariba.ui.aribaweb.core.awif.renderresponse(awif.java:) ariba.ui.aribaweb.core.awincludecontent.renderresponse(awincludecontent.java:) ariba.ui.aribaweb.core.awconcretetemplate.renderresponse(awconcretetemplate.java:) ariba.ui.aribaweb.core.awincludecontent.renderresponse(awincludecontent.java:) ariba.ui.aribaweb.core.awcontainerelement.renderresponse(awcontainerelement.java:) ariba.ui.aribaweb.core.awif.renderresponse(awif.java:) ariba.ui.aribaweb.core.awconcretetemplate.renderresponse(awconcretetemplate.java:) ariba.ui.aribaweb.core.awcomponent.renderresponse(awcomponent.java:) ariba.ui.aribaweb.html.awform.renderresponse(awform.java:) ariba.ui.aribaweb.core.awcomponentreference.renderresponse(awcomponentreference.java:) ariba.ui.aribaweb.core.awconcretetemplate.renderresponse(awconcretetemplate.java:) ariba.ui.aribaweb.core.awcontainerelement.renderresponse(awcontainerelement.java:) ariba.ui.aribaweb.core.awif.renderresponse(awif.java:) ariba.ui.aribaweb.core.awconcretetemplate.renderresponse(awconcretetemplate.java:) ariba.ui.aribaweb.core.awcomponent.renderresponse(awcomponent.java:) ariba.ui.aribaweb.core.awcomponentreference.renderresponse(awcomponentreference.java:) ariba.ui.aribaweb.core.awconcretetemplate.renderresponse(awconcretetemplate.java:) ariba.ui.aribaweb.core.awincludecontent.renderresponse(awincludecontent.java:) ariba.ui.aribaweb.core.awcontainerelement.renderresponse(awcontainerelement.java:) ariba.ui.aribaweb.core.awgenericcontainer.renderresponse(awgenericcontainer.java:) ariba.ui.aribaweb.core.awcontainerelement.renderresponse(awcontainerelement.java:) ariba.ui.aribaweb.core.awif.renderresponse(awif.java:) ariba.ui.aribaweb.core.awconcretetemplate.renderresponse(awconcretetemplate.java:) ariba.ui.aribaweb.core.awcontainerelement.renderresponse(awcontainerelement.java:) ariba.ui.aribaweb.core.awif.renderresponse(awif.java:) ariba.ui.aribaweb.core.awconcretetemplate.renderresponse(awconcretetemplate.java:) ariba.ui.aribaweb.core.awcomponent.renderresponse(awcomponent.java:) ariba.ui.aribaweb.core.awrefreshregion.renderresponse(awrefreshregion.java:) ariba.ui.aribaweb.core.awcomponentreference.renderresponse(awcomponentreference.java:) ariba.ui.aribaweb.core.awconcretetemplate.renderresponse(awconcretetemplate.java:) ariba.ui.aribaweb.core.awincludecontent.renderresponse(awincludecontent.java:) ariba.ui.aribaweb.core.awconcretetemplate.renderresponse(awconcretetemplate.java:) ariba.ui.aribaweb.core.awcontainerelement.renderresponse(awcontainerelement.java:) ariba.ui.aribaweb.core.awgenericcontainer.renderresponse(awgenericcontainer.java:) ariba.ui.aribaweb.core.awconcretetemplate.renderresponse(awconcretetemplate.java:) ariba.ui.aribaweb.core.awcomponent.renderresponse(awcomponent.java:) ariba.ui.aribaweb.core.awcomponentreference.renderresponse(awcomponentreference.java:) ariba.ui.aribaweb.core.awconcretetemplate.renderresponse(awconcretetemplate.java:) ariba.ui.aribaweb.core.awincludecontent.renderresponse(awincludecontent.java:) ariba.ui.aribaweb.core.awcontainerelement.renderresponse(awcontainerelement.java:) ariba.ui.aribaweb.core.awgenericcontainer.renderresponse(awgenericcontainer.java:) ariba.ui.aribaweb.core.awconcretetemplate.renderresponse(awconcretetemplate.java:) ariba.ui.aribaweb.core.awcomponent.renderresponse(awcomponent.java:) ariba.ui.aribaweb.core.awcomponentreference.renderresponse(awcomponentreference.java:) ariba.ui.aribaweb.core.awcontainerelement.renderresponse(awcontainerelement.java:) ariba.ui.aribaweb.core.awappendenvironment.renderresponse(awappendenvironment.java:) ariba.ui.aribaweb.core.awconcretetemplate.renderresponse(awconcretetemplate.java:) ariba.ui.aribaweb.core.awcontainerelement.renderresponse(awcontainerelement.java:) ariba.ui.aribaweb.core.awif.renderresponse(awif.java:) ariba.ui.aribaweb.core.awconcretetemplate.renderresponse(awconcretetemplate.java:) ariba.ui.aribaweb.core.awcomponent.renderresponse(awcomponent.java:) ariba.ui.widgets.pagewrapper.renderresponse(pagewrapper.java:) ariba.ui.aribaweb.core.awcomponentreference.renderresponse(awcomponentreference.java:) ariba.ui.aribaweb.core.awconcretetemplate.renderresponse(awconcretetemplate.java:) ariba.ui.aribaweb.core.awcomponent.renderresponse(awcomponent.java:) ariba.ui.aribaui.awxcomponent.appendtoresponse(awxcomponent.java:) ariba.ui.aribaui.awxcomponentreference.renderresponse(awxcomponentreference.java:) ariba.ui.aribaweb.core.awconcretetemplate.renderresponse(awconcretetemplate.java:) ariba.ui.aribaweb.core.awcomponent.renderresponse(awcomponent.java:) ariba.ui.aribaui.awxcomponent.appendtoresponse(awxcomponent.java:) ariba.htmlui.fieldsui.arppage.appendtoresponse(arppage.java:) ariba.htmlui.procure.components.arccatalogsearchfullpage.appendtoresponse(arccatalogsearchfullpage.java:) ariba.ui.aribaweb.core.awpage.renderresponse(awpage.java:) ariba.ui.aribaweb.core.awrequestcontext.generateresponse(awrequestcontext.java:) ariba.ui.aribaweb.core.awrequestcontext.generateresponse(awrequestcontext.java:) ariba.ui.aribaweb.core.awcomponentactionrequesthandler.handlerequest(awcomponentactionrequesthandler.java:) ariba.ui.aribaweb.core.awrequestcontext.handlerequest(awrequestcontext.java:) ariba.ui.aribaweb.core.awcomponentactionrequesthandler.handlerequest(awcomponentactionrequesthandler.java:) ariba.ui.aribaweb.core.awconcreteserverapplication.dispatchrequest(awconcreteserverapplication.java:) ariba.ui.aribaweb.core.awconcreteapplication.dispatchrequest(awconcreteapplication.java:) ariba.ui.servletadaptor.awdispatcherservlet.renderresponse(awdispatcherservlet.java:) ariba.ui.servletadaptor.awdispatcherservlet.aribawebdispatcher(awdispatcherservlet.java:) ariba.htmlui.buyer.dispatcherservlet.aribawebdispatcher(dispatcherservlet.java:) ariba.ui.servletadaptor.awdispatcherservlet.processrequest(awdispatcherservlet.java:) ariba.util.http.multitab.abstractmultitabhandler.handledefault(abstractmultitabhandler.java:) ariba.util.http.multitab.cookie.tabmanager.processrequest(tabmanager.java:) ariba.util.http.multitab.cookie.cookiebasedmultitabsupport.processrequest(cookiebasedmultitabsupport.java:) ariba.util.http.multitab.multitabutil.processrequest(multitabutil.java:) ariba.util.http.aribaservlet.wraprequest(aribaservlet.java:) ariba.util.http.aribaservlet.dopost(aribaservlet.java:) ariba.util.http.loggingservlet.service(loggingservlet.java:) ariba.util.http.aribaservlet.service(aribaservlet.java:) org.apache.catalina.core.applicationfilterchain.internaldofilter(applicationfilterchain.java:) org.apache.catalina.core.applicationfilterchain.dofilter(applicationfilterchain.java:) org.apache.tomcat.websocket.server.wsfilter.dofilter(wsfilter.java:) org.apache.catalina.core.applicationfilterchain.internaldofilter(applicationfilterchain.java:) org.apache.catalina.core.applicationfilterchain.dofilter(applicationfilterchain.java:) ariba.base.server.basefilter.dofilter(basefilter.java:) org.apache.catalina.core.applicationfilterchain.internaldofilter(applicationfilterchain.java:) org.apache.catalina.core.applicationfilterchain.dofilter(applicationfilterchain.java:) org.apache.catalina.core.standardwrappervalve.invoke(standardwrappervalve.java:) org.apache.catalina.core.standardcontextvalve.invoke(standardcontextvalve.java:) org.apache.catalina.authenticator.authenticatorbase.invoke(authenticatorbase.java:) org.apache.catalina.valves.remoteipvalve.invoke(remoteipvalve.java:) org.apache.catalina.core.standardhostvalve.invoke(standardhostvalve.java:) org.apache.catalina.valves.errorreportvalve.invoke(errorreportvalve.java:) org.apache.catalina.core.standardenginevalve.invoke(standardenginevalve.java:) org.apache.catalina.connector.coyoteadapter.service(coyoteadapter.java:) org.apache.coyote.http.httpprocessor.service(httpprocessor.java:) org.apache.coyote.abstractprocessorlight.process(abstractprocessorlight.java:) org.apache.coyote.abstractprotocol$connectionhandler.process(abstractprotocol.java:) org.apache.tomcat.util.net.nioendpoint$socketprocessor.dorun(nioendpoint.java:) org.apache.tomcat.util.net.socketprocessorbase.run(socketprocessorbase.java:) java.util.concurrent.threadpoolexecutor.runworker(threadpoolexecutor.java:) java.util.concurrent.threadpoolexecutor$worker.run(threadpoolexecutor.java:) org.apache.tomcat.util.threads.taskthread$wrappingrunnable.run(taskthread.java:) java.lang.thread.run(thread.java:)\n",
      "-1 record inserted.\n",
      "The best similarity value is ---> 0.0 for java.lang.object.wait() ariba.channel.util.timedtaskrunners$workerthread.dowork(timedtaskrunners.java:) ariba.channel.util.timedtaskrunners.dowork(timedtaskrunners.java:) ariba.channel.http.timedclientconnection$worker.dooperation(timedclientconnection.java:) ariba.channel.http.timedclientconnection.getinputstream(timedclientconnection.java:) ariba.cxml.service.transport.outboundservice.processresponse(outboundservice.java:) ariba.cxml.service.transport.outboundservice.processresponse(outboundservice.java:) ariba.cxml.service.transport.outboundservice.process(outboundservice.java:) ariba.cxml.transaction.profiletransaction.invoketransaction(profiletransaction.java:) ariba.cxml.transaction.profiletransaction.invoketransaction(profiletransaction.java:) ariba.cxml.service.profilecacheservice.invokeprofiletransaction(profilecacheservice.java:) ariba.cxml.service.profilecacheservice.refreshprofile(profilecacheservice.java:) ariba.cxml.service.profilecacheservice.refreshprofile(profilecacheservice.java:) ariba.cxml.service.profilecacheservice.lookupoption(profilecacheservice.java:) ariba.cxml.service.profilecacheservice.lookupoption(profilecacheservice.java:) ariba.app.integrate.cxmlappintegrationutil.getoption(cxmlappintegrationutil.java:) ariba.dashboard.core.portletprovider.getoptionurl(portletprovider.java:) ariba.dashboard.core.portletprovider.loadremoteportlets(portletprovider.java:) ariba.dashboard.core.portletprovider.loadremoteportlets(portletprovider.java:) ariba.dashboard.core.portletprovider.getallproviders(portletprovider.java:) ariba.dashboard.core.portletprovider.getprovider(portletprovider.java:) ariba.dashboard.core.portletinstance.getportlet(portletinstance.java:) ariba.dashboard.core.dashboard.invalidateonloginportlets(dashboard.java:) ariba.dashboard.core.dashboard.checkpermissionsandlocale(dashboard.java:) ariba.dashboard.core.dashboard.initializedashboardonlogin(dashboard.java:) ariba.htmlui.orms.ssoauthenticator.completesessionsetup(ssoauthenticator.java:) ariba.ui.sso.awssoinitmanager.completeloginrequest(awssoinitmanager.java:) ariba.ui.sso.awssoinitmanager.completeinitializationpage(awssoinitmanager.java:) ariba.ui.sso.awssoinitmanager.nextpage(awssoinitmanager.java:) ariba.ui.sso.awssobaseauthenticator.handleinitialization(awssobaseauthenticator.java:) ariba.ui.sso.ssoactions.initialpageaftersuccessfullauthentication(ssoactions.java:) ariba.ui.sso.ssoactions.loginpageactioninternal(ssoactions.java:) ariba.ui.sso.ssoactions.loginpageaction(ssoactions.java:) java.lang.reflect.method.invoke(method.java:) ariba.util.fieldvalue.reflectionmethodgetter.invokegetmethod(reflectionmethodgetter.java:) ariba.util.fieldvalue.reflectionmethodgetter.getvalue(reflectionmethodgetter.java:) ariba.util.fieldvalue.fieldvalue.getfieldvalue(fieldvalue.java:) ariba.ui.aribaweb.core.awdirectaction.performactionnamed(awdirectaction.java:) ariba.ui.aribaweb.core.awdirectactionrequesthandler.processaction(awdirectactionrequesthandler.java:) ariba.ui.aribaweb.core.awdirectactionrequesthandler.handlerequest(awdirectactionrequesthandler.java:) ariba.ui.aribaweb.core.awrequestcontext.handlerequest(awrequestcontext.java:) ariba.ui.aribaweb.core.awdirectactionrequesthandler.handlerequest(awdirectactionrequesthandler.java:) ariba.ui.aribaweb.core.awconcreteserverapplication.dispatchrequest(awconcreteserverapplication.java:) ariba.ui.aribaweb.core.awconcreteapplication.dispatchrequest(awconcreteapplication.java:) ariba.ui.servletadaptor.awdispatcherservlet.renderresponse(awdispatcherservlet.java:) ariba.ui.servletadaptor.awdispatcherservlet.aribawebdispatcher(awdispatcherservlet.java:) ariba.htmlui.buyer.dispatcherservlet.aribawebdispatcher(dispatcherservlet.java:) ariba.ui.servletadaptor.awdispatcherservlet.processrequest(awdispatcherservlet.java:) ariba.util.http.multitab.abstractmultitabhandler.handledefault(abstractmultitabhandler.java:) ariba.util.http.multitab.cookie.tabmanager.processrequest(tabmanager.java:) ariba.util.http.multitab.cookie.cookiebasedmultitabsupport.processrequest(cookiebasedmultitabsupport.java:) ariba.util.http.multitab.multitabutil.processrequest(multitabutil.java:) ariba.util.http.aribaservlet.wraprequest(aribaservlet.java:) ariba.util.http.aribaservlet.dopost(aribaservlet.java:) ariba.util.http.loggingservlet.service(loggingservlet.java:) ariba.util.http.aribaservlet.service(aribaservlet.java:) org.apache.catalina.core.applicationfilterchain.internaldofilter(applicationfilterchain.java:) org.apache.catalina.core.applicationfilterchain.dofilter(applicationfilterchain.java:) org.apache.tomcat.websocket.server.wsfilter.dofilter(wsfilter.java:) org.apache.catalina.core.applicationfilterchain.internaldofilter(applicationfilterchain.java:) org.apache.catalina.core.applicationfilterchain.dofilter(applicationfilterchain.java:) ariba.base.server.basefilter.dofilter(basefilter.java:) org.apache.catalina.core.applicationfilterchain.internaldofilter(applicationfilterchain.java:) org.apache.catalina.core.applicationfilterchain.dofilter(applicationfilterchain.java:) org.apache.catalina.core.standardwrappervalve.invoke(standardwrappervalve.java:) org.apache.catalina.core.standardcontextvalve.invoke(standardcontextvalve.java:) org.apache.catalina.authenticator.authenticatorbase.invoke(authenticatorbase.java:) org.apache.catalina.valves.remoteipvalve.invoke(remoteipvalve.java:) org.apache.catalina.core.standardhostvalve.invoke(standardhostvalve.java:) org.apache.catalina.valves.errorreportvalve.invoke(errorreportvalve.java:) org.apache.catalina.core.standardenginevalve.invoke(standardenginevalve.java:) org.apache.catalina.connector.coyoteadapter.service(coyoteadapter.java:) org.apache.coyote.http.httpprocessor.service(httpprocessor.java:) org.apache.coyote.abstractprocessorlight.process(abstractprocessorlight.java:) org.apache.coyote.abstractprotocol$connectionhandler.process(abstractprotocol.java:) org.apache.tomcat.util.net.nioendpoint$socketprocessor.dorun(nioendpoint.java:) org.apache.tomcat.util.net.socketprocessorbase.run(socketprocessorbase.java:) java.util.concurrent.threadpoolexecutor.runworker(threadpoolexecutor.java:) java.util.concurrent.threadpoolexecutor$worker.run(threadpoolexecutor.java:) org.apache.tomcat.util.threads.taskthread$wrappingrunnable.run(taskthread.java:) java.lang.thread.run(thread.java:)\n",
      "-1 record inserted.\n",
      "The best similarity value is ---> 0.0 for java.net.socketinputstream.socketread() java.net.socketinputstream.socketread(socketinputstream.java:) java.net.socketinputstream.read(socketinputstream.java:) java.net.socketinputstream.read(socketinputstream.java:) ariba.server.jdbcserver.jdbcconnection.statementexecutequery(jdbcconnection.java:) ariba.server.jdbcserver.jdbcconnection.safeexecutequery(jdbcconnection.java:) ariba.server.jdbcserver.jdbcconnection.executequery(jdbcconnection.java:) ariba.server.jdbcserver.jdbcconnection.executequery(jdbcconnection.java:) ariba.base.server.transsqlsupport.selectcreatestatementcoll(transsqlsupport.java:) ariba.base.server.transsqlsupport.selectcreatestatementcoll(transsqlsupport.java:) ariba.base.server.transsqlsupport.selectclusterrootcollfast(transsqlsupport.java:) ariba.base.server.transsqlsupport.selectclusterrootcoll(transsqlsupport.java:) ariba.base.server.oracleobjectretriever.internalselectclusterrootcoll(oracleobjectretriever.java:) ariba.base.server.serverobjectcache.internalselectclusterrootcoll(serverobjectcache.java:) ariba.base.server.serverobjectcache.getclusterrootcoll(serverobjectcache.java:) ariba.base.server.objectserversession.retrieveclusterroots(objectserversession.java:) ariba.base.server.objectserversession.objectsfromids(objectserversession.java:) ariba.base.server.objectserversession.objectsfromidsfast(objectserversession.java:) ariba.base.server.objectserversession.objectsfromids(objectserversession.java:) ariba.dashboard.core.dashboard.invalidatedashboard(dashboard.java:) ariba.dashboard.core.dashboard.checkpermissionsandlocale(dashboard.java:) ariba.dashboard.core.dashboard.initializedashboardonlogin(dashboard.java:) ariba.htmlui.orms.ssoauthenticator.completesessionsetup(ssoauthenticator.java:) ariba.ui.sso.awssoinitmanager.completeloginrequest(awssoinitmanager.java:) ariba.ui.sso.awssoinitmanager.completeinitializationpage(awssoinitmanager.java:) ariba.ui.sso.awssoinitmanager.nextpage(awssoinitmanager.java:) ariba.ui.sso.awssobaseauthenticator.handleinitialization(awssobaseauthenticator.java:) ariba.ui.sso.ssoactions.initialpageaftersuccessfullauthentication(ssoactions.java:) ariba.ui.sso.ssoactions.loginpageactioninternal(ssoactions.java:) ariba.ui.sso.ssoactions.loginpageaction(ssoactions.java:) java.lang.reflect.method.invoke(method.java:) ariba.util.fieldvalue.reflectionmethodgetter.invokegetmethod(reflectionmethodgetter.java:) ariba.util.fieldvalue.reflectionmethodgetter.getvalue(reflectionmethodgetter.java:) ariba.util.fieldvalue.fieldvalue.getfieldvalue(fieldvalue.java:) ariba.ui.aribaweb.core.awdirectaction.performactionnamed(awdirectaction.java:) ariba.ui.aribaweb.core.awdirectactionrequesthandler.processaction(awdirectactionrequesthandler.java:) ariba.ui.aribaweb.core.awdirectactionrequesthandler.handlerequest(awdirectactionrequesthandler.java:) ariba.ui.aribaweb.core.awrequestcontext.handlerequest(awrequestcontext.java:) ariba.ui.aribaweb.core.awdirectactionrequesthandler.handlerequest(awdirectactionrequesthandler.java:) ariba.ui.aribaweb.core.awconcreteserverapplication.dispatchrequest(awconcreteserverapplication.java:) ariba.ui.aribaweb.core.awconcreteapplication.dispatchrequest(awconcreteapplication.java:) ariba.ui.servletadaptor.awdispatcherservlet.renderresponse(awdispatcherservlet.java:) ariba.ui.servletadaptor.awdispatcherservlet.aribawebdispatcher(awdispatcherservlet.java:) ariba.htmlui.buyer.dispatcherservlet.aribawebdispatcher(dispatcherservlet.java:) ariba.ui.servletadaptor.awdispatcherservlet.processrequest(awdispatcherservlet.java:) ariba.util.http.multitab.abstractmultitabhandler.handledefault(abstractmultitabhandler.java:) ariba.util.http.multitab.cookie.tabmanager.processrequest(tabmanager.java:) ariba.util.http.multitab.cookie.cookiebasedmultitabsupport.processrequest(cookiebasedmultitabsupport.java:) ariba.util.http.multitab.multitabutil.processrequest(multitabutil.java:) ariba.util.http.aribaservlet.wraprequest(aribaservlet.java:) ariba.util.http.aribaservlet.dopost(aribaservlet.java:) ariba.util.http.loggingservlet.service(loggingservlet.java:) ariba.util.http.aribaservlet.service(aribaservlet.java:) org.apache.catalina.core.applicationfilterchain.internaldofilter(applicationfilterchain.java:) org.apache.catalina.core.applicationfilterchain.dofilter(applicationfilterchain.java:) org.apache.tomcat.websocket.server.wsfilter.dofilter(wsfilter.java:) org.apache.catalina.core.applicationfilterchain.internaldofilter(applicationfilterchain.java:) org.apache.catalina.core.applicationfilterchain.dofilter(applicationfilterchain.java:) ariba.base.server.basefilter.dofilter(basefilter.java:) org.apache.catalina.core.applicationfilterchain.internaldofilter(applicationfilterchain.java:) org.apache.catalina.core.applicationfilterchain.dofilter(applicationfilterchain.java:) org.apache.catalina.core.standardwrappervalve.invoke(standardwrappervalve.java:) org.apache.catalina.core.standardcontextvalve.invoke(standardcontextvalve.java:) org.apache.catalina.authenticator.authenticatorbase.invoke(authenticatorbase.java:) org.apache.catalina.valves.remoteipvalve.invoke(remoteipvalve.java:) org.apache.catalina.core.standardhostvalve.invoke(standardhostvalve.java:) org.apache.catalina.valves.errorreportvalve.invoke(errorreportvalve.java:) org.apache.catalina.core.standardenginevalve.invoke(standardenginevalve.java:) org.apache.catalina.connector.coyoteadapter.service(coyoteadapter.java:) org.apache.coyote.http.httpprocessor.service(httpprocessor.java:) org.apache.coyote.abstractprocessorlight.process(abstractprocessorlight.java:) org.apache.coyote.abstractprotocol$connectionhandler.process(abstractprotocol.java:) org.apache.tomcat.util.net.nioendpoint$socketprocessor.dorun(nioendpoint.java:) org.apache.tomcat.util.net.socketprocessorbase.run(socketprocessorbase.java:) java.util.concurrent.threadpoolexecutor.runworker(threadpoolexecutor.java:) java.util.concurrent.threadpoolexecutor$worker.run(threadpoolexecutor.java:) org.apache.tomcat.util.threads.taskthread$wrappingrunnable.run(taskthread.java:) java.lang.thread.run(thread.java:)\n",
      "-1 record inserted.\n",
      "At the completion : (18, 7)\n"
     ]
    }
   ],
   "source": [
    "print(\"Before the start : {}\".format(unseen_tfidf.shape))\n",
    "most_matching_index = -1\n",
    "sim_matrix = cosine_similarities.argsort(axis=-1)\n",
    "print(sim_matrix)\n",
    "print(cosine_similarities)\n",
    "counter = 0;\n",
    "best_sim_value = 0;\n",
    "for sim_array in sim_matrix:\n",
    "    most_matching_index = sim_array[:-2:-1][0]\n",
    "    best_sim_value = cosine_similarities[counter][most_matching_index]\n",
    "    print(\"The best similarity value is ---> {} for {}\".format(best_sim_value ,unseen_data[counter]) )\n",
    "    best_sim_value = round(best_sim_value,4)\n",
    "    \n",
    "    if best_sim_value < 0.9 :\n",
    "        \n",
    "        # Before this step, verify if there is any record in the new_anomalies having the train_flag = 'N'\n",
    "        # If yes, add the count.\n",
    "        selectCursor = mydb.cursor( )\n",
    "        selectValues = (str(unseen_data[counter]),)\n",
    "        selectSql = \"SELECT ID, count FROM new_anomalies WHERE log_str = %s\"\n",
    "        selectCursor.execute(selectSql, selectValues)\n",
    "        \n",
    "        if selectCursor.rowcount > 0 :\n",
    "            print('Count Value --------------- {}'.format(selectCursor.rowcount))\n",
    "            selectResult = selectCursor.fetchall()\n",
    "            updateCursor = mydb.cursor()\n",
    "            for (i,cnt) in selectResult:\n",
    "                updateStmt = 'update new_anomalies set count = count+ %s where id = %s'\n",
    "                new_rec_count = inboxRecs[unseen_data[counter]];\n",
    "                updateValues = (int(new_rec_count),int(i))\n",
    "                updateCursor.execute(updateStmt,updateValues)\n",
    "            updateCursor.close()\n",
    "            mydb.commit()    \n",
    "            selectCursor.close()        \n",
    "        else:\n",
    "            mycursor = mydb.cursor()\n",
    "            inSql = \"INSERT INTO new_anomalies(log_str, count, status) VALUES(%s, %s, 'N')\"\n",
    "            new_rec_count = inboxRecs[unseen_data[counter]];\n",
    "            val = (unseen_data[counter], int(new_rec_count))\n",
    "            mycursor.execute(inSql, val)\n",
    "            mydb.commit()\n",
    "            mycursor.close()\n",
    "            print(mycursor.rowcount, \"record inserted.\")\n",
    "            \n",
    "            \n",
    "    else:\n",
    "        #print('-----------------------------------------')\n",
    "        sim_value_array = cosine_similarities[counter]\n",
    "        sim_index_array = sim_array[::-1]\n",
    "        for index in sim_index_array:\n",
    "            sim_value = round(sim_value_array[index],2)\n",
    "            \n",
    "                \n",
    "            if sim_value >= 0.9:\n",
    "                selectCursor = mydb.cursor( )\n",
    "                selectValues = (str(data[index]),)\n",
    "                selectSql = \"SELECT ID FROM new_anomalies WHERE log_str = %s\"\n",
    "                selectCursor.execute(selectSql, selectValues)\n",
    "                if selectCursor.rowcount > 0 :\n",
    "                    selectResult = selectCursor.fetchall()\n",
    "                    if sim_value == 1.0:\n",
    "                        updateCursor = mydb.cursor()\n",
    "                        \n",
    "                        for i in selectResult:\n",
    "                            updateStmt = 'update new_anomalies set count = count+ %s where id = %s'\n",
    "                            new_rec_count = inboxRecs[unseen_data[counter]];\n",
    "                            updateValues = (int(new_rec_count),int(i[0]))\n",
    "                            updateCursor.execute(updateStmt,updateValues)\n",
    "                    else:\n",
    "                        selectCursor.execute(selectSql, selectValues)\n",
    "                        selectResult = selectCursor.fetchone()\n",
    "                        insertSql = \"insert into new_anomaly_relations(rel_log_str, id) values(%s, %s)\"\n",
    "                        insertCursor = mydb.cursor()\n",
    "                        values = (data[index], int(selectResult[0]))\n",
    "                        insertCursor.execute(insertSql, values)\n",
    "                        insertCursor.close()\n",
    "                        mydb.commit()\n",
    "                        \n",
    "                    updateCursor.close()\n",
    "                    mydb.commit()    \n",
    "                                \n",
    "                selectCursor.close()\n",
    "            else:\n",
    "                break\n",
    "    counter = counter+1    \n",
    "        \n",
    "print(\"At the completion : {}\".format(unseen_tfidf.shape))    \n"
   ]
  },
  {
   "cell_type": "code",
   "execution_count": 49,
   "metadata": {},
   "outputs": [],
   "source": [
    "updateInboxRecords(mydb,prevInboxProcessTime, currentTime)"
   ]
  },
  {
   "cell_type": "code",
   "execution_count": 111,
   "metadata": {},
   "outputs": [],
   "source": [
    "updateInboxProcessRunConfigValues(mydb, currentTime)"
   ]
  },
  {
   "cell_type": "code",
   "execution_count": 51,
   "metadata": {},
   "outputs": [],
   "source": [
    "mydb.commit()"
   ]
  },
  {
   "cell_type": "code",
   "execution_count": 52,
   "metadata": {},
   "outputs": [],
   "source": [
    "mydb.close()"
   ]
  },
  {
   "cell_type": "code",
   "execution_count": null,
   "metadata": {},
   "outputs": [],
   "source": []
  },
  {
   "cell_type": "code",
   "execution_count": null,
   "metadata": {},
   "outputs": [],
   "source": []
  },
  {
   "cell_type": "code",
   "execution_count": 61,
   "metadata": {},
   "outputs": [
    {
     "name": "stdout",
     "output_type": "stream",
     "text": [
      "Before the start : (4, 5)\n",
      "[[2 3 4 5 1 0]\n",
      " [2 3 4 5 0 1]\n",
      " [0 1 3 4 5 2]\n",
      " [0 1 2 3 4 5]]\n",
      "[[1.         0.70710678 0.         0.         0.         0.        ]\n",
      " [0.70710678 1.         0.         0.         0.         0.        ]\n",
      " [0.         0.         1.         0.         0.         0.        ]\n",
      " [0.         0.         0.         1.         1.         1.        ]]\n",
      "The best similarity value is 1.0 for data.ariba.com data2.ariba.com\n",
      "-----------------------------------------\n",
      "data.ariba.com data2.ariba.com : 0 : 1.0 : data.ariba.com data2.ariba.com\n",
      "----------------------->data.ariba.com data2.ariba.com<-----\n",
      "*****************************1\n",
      "Value is less than 1.0\n"
     ]
    },
    {
     "ename": "TypeError",
     "evalue": "'builtin_function_or_method' object is not subscriptable",
     "output_type": "error",
     "traceback": [
      "\u001b[0;31m---------------------------------------------------------------------------\u001b[0m",
      "\u001b[0;31mTypeError\u001b[0m                                 Traceback (most recent call last)",
      "\u001b[0;32m<ipython-input-61-ec2d9e705c38>\u001b[0m in \u001b[0;36m<module>\u001b[0;34m\u001b[0m\n\u001b[1;32m     53\u001b[0m                         \u001b[0minsertSql\u001b[0m \u001b[0;34m=\u001b[0m \u001b[0;34m\"insert into new_anomaly_relations(rel_log_str, id) values(%s, %s)\"\u001b[0m\u001b[0;34m\u001b[0m\u001b[0;34m\u001b[0m\u001b[0m\n\u001b[1;32m     54\u001b[0m                         \u001b[0minsertCursor\u001b[0m \u001b[0;34m=\u001b[0m \u001b[0mmydb\u001b[0m\u001b[0;34m.\u001b[0m\u001b[0mcursor\u001b[0m\u001b[0;34m(\u001b[0m\u001b[0;34m)\u001b[0m\u001b[0;34m\u001b[0m\u001b[0;34m\u001b[0m\u001b[0m\n\u001b[0;32m---> 55\u001b[0;31m                         \u001b[0mvalues\u001b[0m \u001b[0;34m=\u001b[0m \u001b[0;34m(\u001b[0m\u001b[0mdata\u001b[0m\u001b[0;34m[\u001b[0m\u001b[0mindex\u001b[0m\u001b[0;34m]\u001b[0m\u001b[0;34m,\u001b[0m \u001b[0mint\u001b[0m\u001b[0;34m(\u001b[0m\u001b[0mid\u001b[0m\u001b[0;34m[\u001b[0m\u001b[0;36m0\u001b[0m\u001b[0;34m]\u001b[0m\u001b[0;34m)\u001b[0m\u001b[0;34m)\u001b[0m\u001b[0;34m\u001b[0m\u001b[0;34m\u001b[0m\u001b[0m\n\u001b[0m\u001b[1;32m     56\u001b[0m                         \u001b[0mprint\u001b[0m\u001b[0;34m(\u001b[0m\u001b[0;34m'--------- ------------- {}'\u001b[0m\u001b[0;34m.\u001b[0m\u001b[0mformat\u001b[0m\u001b[0;34m(\u001b[0m\u001b[0mid\u001b[0m\u001b[0;34m[\u001b[0m\u001b[0;36m0\u001b[0m\u001b[0;34m]\u001b[0m\u001b[0;34m)\u001b[0m\u001b[0;34m)\u001b[0m\u001b[0;34m\u001b[0m\u001b[0;34m\u001b[0m\u001b[0m\n\u001b[1;32m     57\u001b[0m                         \u001b[0minsertCursor\u001b[0m\u001b[0;34m.\u001b[0m\u001b[0mexecute\u001b[0m\u001b[0;34m(\u001b[0m\u001b[0minsertSql\u001b[0m\u001b[0;34m,\u001b[0m \u001b[0mvalues\u001b[0m\u001b[0;34m)\u001b[0m\u001b[0;34m\u001b[0m\u001b[0;34m\u001b[0m\u001b[0m\n",
      "\u001b[0;31mTypeError\u001b[0m: 'builtin_function_or_method' object is not subscriptable"
     ]
    }
   ],
   "source": [
    "print(\"Before the start : {}\".format(unseen_tfidf.shape))\n",
    "most_matching_index = -1\n",
    "sim_matrix = cosine_similarities.argsort(axis=-1)\n",
    "print(sim_matrix)\n",
    "print(cosine_similarities)\n",
    "counter = 0;\n",
    "best_sim_value = 0;\n",
    "for sim_array in sim_matrix:\n",
    "    most_matching_index = sim_array[:-2:-1][0]\n",
    "    best_sim_value = cosine_similarities[counter][most_matching_index]\n",
    "    best_sim_value = round(best_sim_value,2)\n",
    "    print(\"The best similarity value is {} for {}\".format(best_sim_value ,unseen_data[counter]) )\n",
    "    if best_sim_value < 0.9 :\n",
    "        \n",
    "        # Before this step, verify if there is any record in the new_anomalies having the train_flag = 'N'\n",
    "        # If yes, add the count.\n",
    "        \n",
    "        mycursor = mydb.cursor()\n",
    "        inSql = \"INSERT INTO new_anomalies(log_str, count, status) VALUES(%s, %s, 'E')\"\n",
    "        val = (unseen_data[counter], 1)\n",
    "        mycursor.execute(inSql, val)\n",
    "        mydb.commit()\n",
    "        mycursor.close()\n",
    "        print(mycursor.rowcount, \"record inserted.\")\n",
    "    else:\n",
    "        print('-----------------------------------------')\n",
    "        sim_value_array = cosine_similarities[counter]\n",
    "        sim_index_array = sim_array[::-1]\n",
    "        for index in sim_index_array:\n",
    "            sim_value = round(sim_value_array[index],2)\n",
    "            \n",
    "                \n",
    "            if sim_value >= 0.9:\n",
    "                selectCursor = mydb.cursor( )\n",
    "                print('{} : {} : {} : {}'.format(unseen_data[counter], index, sim_value, data[index]))\n",
    "                selectValues = (str(data[index]),)\n",
    "                #selectSql = \"SELECT ID FROM new_anomalies WHERE log_str = '{}'\".format(data[index])\n",
    "                selectSql = \"SELECT ID FROM new_anomalies WHERE log_str = %s\"\n",
    "                print('----------------------->{}<-----'.format(data[index]))\n",
    "                selectCursor.execute(selectSql, selectValues)\n",
    "                print('*****************************{}'.format(selectCursor.rowcount))\n",
    "                if selectCursor.rowcount > 0 :\n",
    "                    selectResult = selectCursor.fetchall()\n",
    "                    if sim_value > 1.0:\n",
    "                        updateCursor = mydb.cursor()\n",
    "                        \n",
    "                        for id in selectResult:\n",
    "                            updateStmt = 'update new_anomalies set count = count+ %d where id = %d'\n",
    "                            updateValues = (int(10),int(id[0]))\n",
    "                            updateCursor.execute(updateStmt,updateValues)\n",
    "                    else:\n",
    "                        print('Value is less than 1.0')\n",
    "                        insertSql = \"insert into new_anomaly_relations(rel_log_str, id) values(%s, %s)\"\n",
    "                        insertCursor = mydb.cursor()\n",
    "                        values = (data[index], int(id[0]))\n",
    "                        print('--------- ------------- {}'.format(id[0]))\n",
    "                        insertCursor.execute(insertSql, values)\n",
    "                        mycursor.close()\n",
    "                        mydb.commit()\n",
    "                    \n",
    "                    mydb.commit()    \n",
    "                                \n",
    "                selectCursor.close()\n",
    "            else:\n",
    "                break\n",
    "    counter = counter+1    \n",
    "        \n",
    "print(\"At the completion : {}\".format(unseen_tfidf.shape))    \n",
    "\n"
   ]
  },
  {
   "cell_type": "code",
   "execution_count": 28,
   "metadata": {},
   "outputs": [
    {
     "name": "stdout",
     "output_type": "stream",
     "text": [
      "dict_keys(['data.ariba.com', 'data2.ariba.com', 'honeybee.ariba.com', 's4.ariba.com', 'java.ariba.com'])\n"
     ]
    }
   ],
   "source": [
    "print(loaded_vectorizer.vocabulary.keys())"
   ]
  },
  {
   "cell_type": "code",
   "execution_count": 29,
   "metadata": {},
   "outputs": [
    {
     "ename": "NameError",
     "evalue": "name 'mycursor' is not defined",
     "output_type": "error",
     "traceback": [
      "\u001b[0;31m---------------------------------------------------------------------------\u001b[0m",
      "\u001b[0;31mNameError\u001b[0m                                 Traceback (most recent call last)",
      "\u001b[0;32m<ipython-input-29-3d31fb6bfd89>\u001b[0m in \u001b[0;36m<module>\u001b[0;34m\u001b[0m\n\u001b[0;32m----> 1\u001b[0;31m \u001b[0mmycursor\u001b[0m\u001b[0;34m.\u001b[0m\u001b[0mexecute\u001b[0m\u001b[0;34m(\u001b[0m\u001b[0;34m\"SELECT * FROM new_anomalies where status= 'N'\"\u001b[0m\u001b[0;34m)\u001b[0m\u001b[0;34m\u001b[0m\u001b[0;34m\u001b[0m\u001b[0m\n\u001b[0m\u001b[1;32m      2\u001b[0m \u001b[0mmyresult\u001b[0m \u001b[0;34m=\u001b[0m \u001b[0mmycursor\u001b[0m\u001b[0;34m.\u001b[0m\u001b[0mfetchall\u001b[0m\u001b[0;34m(\u001b[0m\u001b[0;34m)\u001b[0m\u001b[0;34m\u001b[0m\u001b[0;34m\u001b[0m\u001b[0m\n\u001b[1;32m      3\u001b[0m \u001b[0;32mfor\u001b[0m \u001b[0mx\u001b[0m \u001b[0;32min\u001b[0m \u001b[0mmyresult\u001b[0m\u001b[0;34m:\u001b[0m\u001b[0;34m\u001b[0m\u001b[0;34m\u001b[0m\u001b[0m\n\u001b[1;32m      4\u001b[0m   \u001b[0mprint\u001b[0m\u001b[0;34m(\u001b[0m\u001b[0mx\u001b[0m\u001b[0;34m)\u001b[0m\u001b[0;34m\u001b[0m\u001b[0;34m\u001b[0m\u001b[0m\n",
      "\u001b[0;31mNameError\u001b[0m: name 'mycursor' is not defined"
     ]
    }
   ],
   "source": [
    "\n",
    "\n",
    "mycursor.execute(\"SELECT * FROM new_anomalies where status= 'N'\")\n",
    "myresult = mycursor.fetchall()\n",
    "for x in myresult:\n",
    "  print(x)\n"
   ]
  },
  {
   "cell_type": "code",
   "execution_count": 30,
   "metadata": {},
   "outputs": [],
   "source": [
    "from sklearn.naive_bayes import MultinomialNB\n",
    "from sklearn.model_selection import train_test_split"
   ]
  },
  {
   "cell_type": "code",
   "execution_count": 31,
   "metadata": {},
   "outputs": [
    {
     "data": {
      "text/plain": [
       "(9, 5)"
      ]
     },
     "execution_count": 31,
     "metadata": {},
     "output_type": "execute_result"
    }
   ],
   "source": [
    "loaded_sparse.shape"
   ]
  },
  {
   "cell_type": "code",
   "execution_count": 32,
   "metadata": {},
   "outputs": [
    {
     "ename": "ValueError",
     "evalue": "Found input variables with inconsistent numbers of samples: [9, 8]",
     "output_type": "error",
     "traceback": [
      "\u001b[0;31m---------------------------------------------------------------------------\u001b[0m",
      "\u001b[0;31mValueError\u001b[0m                                Traceback (most recent call last)",
      "\u001b[0;32m<ipython-input-32-a68def8f1824>\u001b[0m in \u001b[0;36m<module>\u001b[0;34m\u001b[0m\n\u001b[1;32m      1\u001b[0m \u001b[0my_train\u001b[0m \u001b[0;34m=\u001b[0m \u001b[0;34m[\u001b[0m\u001b[0;34m'Noise'\u001b[0m\u001b[0;34m,\u001b[0m\u001b[0;34m'Noise'\u001b[0m\u001b[0;34m,\u001b[0m\u001b[0;34m'Alert'\u001b[0m\u001b[0;34m,\u001b[0m\u001b[0;34m'Alert'\u001b[0m\u001b[0;34m,\u001b[0m\u001b[0;34m'Alert'\u001b[0m\u001b[0;34m,\u001b[0m\u001b[0;34m'Noise'\u001b[0m\u001b[0;34m,\u001b[0m\u001b[0;34m'Noise'\u001b[0m\u001b[0;34m,\u001b[0m\u001b[0;34m'Alert'\u001b[0m\u001b[0;34m]\u001b[0m\u001b[0;34m\u001b[0m\u001b[0;34m\u001b[0m\u001b[0m\n\u001b[0;32m----> 2\u001b[0;31m \u001b[0mclf\u001b[0m \u001b[0;34m=\u001b[0m \u001b[0mMultinomialNB\u001b[0m\u001b[0;34m(\u001b[0m\u001b[0;34m)\u001b[0m\u001b[0;34m.\u001b[0m\u001b[0mfit\u001b[0m\u001b[0;34m(\u001b[0m\u001b[0mloaded_sparse\u001b[0m\u001b[0;34m,\u001b[0m \u001b[0my_train\u001b[0m\u001b[0;34m)\u001b[0m\u001b[0;34m\u001b[0m\u001b[0;34m\u001b[0m\u001b[0m\n\u001b[0m",
      "\u001b[0;32m/data/anaconda3/lib/python3.7/site-packages/sklearn/naive_bayes.py\u001b[0m in \u001b[0;36mfit\u001b[0;34m(self, X, y, sample_weight)\u001b[0m\n\u001b[1;32m    586\u001b[0m         \u001b[0mself\u001b[0m \u001b[0;34m:\u001b[0m \u001b[0mobject\u001b[0m\u001b[0;34m\u001b[0m\u001b[0;34m\u001b[0m\u001b[0m\n\u001b[1;32m    587\u001b[0m         \"\"\"\n\u001b[0;32m--> 588\u001b[0;31m         \u001b[0mX\u001b[0m\u001b[0;34m,\u001b[0m \u001b[0my\u001b[0m \u001b[0;34m=\u001b[0m \u001b[0mcheck_X_y\u001b[0m\u001b[0;34m(\u001b[0m\u001b[0mX\u001b[0m\u001b[0;34m,\u001b[0m \u001b[0my\u001b[0m\u001b[0;34m,\u001b[0m \u001b[0;34m'csr'\u001b[0m\u001b[0;34m)\u001b[0m\u001b[0;34m\u001b[0m\u001b[0;34m\u001b[0m\u001b[0m\n\u001b[0m\u001b[1;32m    589\u001b[0m         \u001b[0m_\u001b[0m\u001b[0;34m,\u001b[0m \u001b[0mn_features\u001b[0m \u001b[0;34m=\u001b[0m \u001b[0mX\u001b[0m\u001b[0;34m.\u001b[0m\u001b[0mshape\u001b[0m\u001b[0;34m\u001b[0m\u001b[0;34m\u001b[0m\u001b[0m\n\u001b[1;32m    590\u001b[0m \u001b[0;34m\u001b[0m\u001b[0m\n",
      "\u001b[0;32m/data/anaconda3/lib/python3.7/site-packages/sklearn/utils/validation.py\u001b[0m in \u001b[0;36mcheck_X_y\u001b[0;34m(X, y, accept_sparse, accept_large_sparse, dtype, order, copy, force_all_finite, ensure_2d, allow_nd, multi_output, ensure_min_samples, ensure_min_features, y_numeric, warn_on_dtype, estimator)\u001b[0m\n\u001b[1;32m    727\u001b[0m         \u001b[0my\u001b[0m \u001b[0;34m=\u001b[0m \u001b[0my\u001b[0m\u001b[0;34m.\u001b[0m\u001b[0mastype\u001b[0m\u001b[0;34m(\u001b[0m\u001b[0mnp\u001b[0m\u001b[0;34m.\u001b[0m\u001b[0mfloat64\u001b[0m\u001b[0;34m)\u001b[0m\u001b[0;34m\u001b[0m\u001b[0;34m\u001b[0m\u001b[0m\n\u001b[1;32m    728\u001b[0m \u001b[0;34m\u001b[0m\u001b[0m\n\u001b[0;32m--> 729\u001b[0;31m     \u001b[0mcheck_consistent_length\u001b[0m\u001b[0;34m(\u001b[0m\u001b[0mX\u001b[0m\u001b[0;34m,\u001b[0m \u001b[0my\u001b[0m\u001b[0;34m)\u001b[0m\u001b[0;34m\u001b[0m\u001b[0;34m\u001b[0m\u001b[0m\n\u001b[0m\u001b[1;32m    730\u001b[0m \u001b[0;34m\u001b[0m\u001b[0m\n\u001b[1;32m    731\u001b[0m     \u001b[0;32mreturn\u001b[0m \u001b[0mX\u001b[0m\u001b[0;34m,\u001b[0m \u001b[0my\u001b[0m\u001b[0;34m\u001b[0m\u001b[0;34m\u001b[0m\u001b[0m\n",
      "\u001b[0;32m/data/anaconda3/lib/python3.7/site-packages/sklearn/utils/validation.py\u001b[0m in \u001b[0;36mcheck_consistent_length\u001b[0;34m(*arrays)\u001b[0m\n\u001b[1;32m    203\u001b[0m     \u001b[0;32mif\u001b[0m \u001b[0mlen\u001b[0m\u001b[0;34m(\u001b[0m\u001b[0muniques\u001b[0m\u001b[0;34m)\u001b[0m \u001b[0;34m>\u001b[0m \u001b[0;36m1\u001b[0m\u001b[0;34m:\u001b[0m\u001b[0;34m\u001b[0m\u001b[0;34m\u001b[0m\u001b[0m\n\u001b[1;32m    204\u001b[0m         raise ValueError(\"Found input variables with inconsistent numbers of\"\n\u001b[0;32m--> 205\u001b[0;31m                          \" samples: %r\" % [int(l) for l in lengths])\n\u001b[0m\u001b[1;32m    206\u001b[0m \u001b[0;34m\u001b[0m\u001b[0m\n\u001b[1;32m    207\u001b[0m \u001b[0;34m\u001b[0m\u001b[0m\n",
      "\u001b[0;31mValueError\u001b[0m: Found input variables with inconsistent numbers of samples: [9, 8]"
     ]
    }
   ],
   "source": [
    "y_train = ['Noise','Noise','Alert','Alert','Alert','Noise','Noise','Alert']\n",
    "clf = MultinomialNB().fit(loaded_sparse, y_train)"
   ]
  },
  {
   "cell_type": "code",
   "execution_count": 33,
   "metadata": {},
   "outputs": [
    {
     "ename": "NameError",
     "evalue": "name 'clf' is not defined",
     "output_type": "error",
     "traceback": [
      "\u001b[0;31m---------------------------------------------------------------------------\u001b[0m",
      "\u001b[0;31mNameError\u001b[0m                                 Traceback (most recent call last)",
      "\u001b[0;32m<ipython-input-33-0041a1ecd59f>\u001b[0m in \u001b[0;36m<module>\u001b[0;34m\u001b[0m\n\u001b[0;32m----> 1\u001b[0;31m \u001b[0mprint\u001b[0m\u001b[0;34m(\u001b[0m\u001b[0mclf\u001b[0m\u001b[0;34m.\u001b[0m\u001b[0mpredict\u001b[0m\u001b[0;34m(\u001b[0m\u001b[0mloaded_vectorizer\u001b[0m\u001b[0;34m.\u001b[0m\u001b[0mtransform\u001b[0m\u001b[0;34m(\u001b[0m\u001b[0;34m[\u001b[0m\u001b[0;34m'data.ariba.com data2.ariba.com'\u001b[0m\u001b[0;34m]\u001b[0m\u001b[0;34m)\u001b[0m\u001b[0;34m)\u001b[0m\u001b[0;34m)\u001b[0m\u001b[0;34m\u001b[0m\u001b[0;34m\u001b[0m\u001b[0m\n\u001b[0m",
      "\u001b[0;31mNameError\u001b[0m: name 'clf' is not defined"
     ]
    }
   ],
   "source": [
    "print(clf.predict(loaded_vectorizer.transform(['data.ariba.com data2.ariba.com'])))"
   ]
  },
  {
   "cell_type": "code",
   "execution_count": 34,
   "metadata": {},
   "outputs": [
    {
     "data": {
      "text/plain": [
       "MultinomialNB(alpha=1.0, class_prior=None, fit_prior=True)"
      ]
     },
     "execution_count": 34,
     "metadata": {},
     "output_type": "execute_result"
    }
   ],
   "source": [
    "clf"
   ]
  },
  {
   "cell_type": "code",
   "execution_count": 39,
   "metadata": {},
   "outputs": [],
   "source": [
    "mydb.commit()"
   ]
  },
  {
   "cell_type": "code",
   "execution_count": 57,
   "metadata": {},
   "outputs": [
    {
     "data": {
      "text/plain": [
       "-1"
      ]
     },
     "execution_count": 57,
     "metadata": {},
     "output_type": "execute_result"
    }
   ],
   "source": [
    "trainCursor.rowcount"
   ]
  },
  {
   "cell_type": "code",
   "execution_count": null,
   "metadata": {},
   "outputs": [],
   "source": []
  }
 ],
 "metadata": {
  "kernelspec": {
   "display_name": "Python 3 data1",
   "language": "python",
   "name": "python3"
  },
  "language_info": {
   "codemirror_mode": {
    "name": "ipython",
    "version": 3
   },
   "file_extension": ".py",
   "mimetype": "text/x-python",
   "name": "python",
   "nbconvert_exporter": "python",
   "pygments_lexer": "ipython3",
   "version": "3.7.4"
  }
 },
 "nbformat": 4,
 "nbformat_minor": 2
}
